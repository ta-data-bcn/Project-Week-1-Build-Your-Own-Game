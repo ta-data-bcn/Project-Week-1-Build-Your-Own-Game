{
 "cells": [
  {
   "cell_type": "markdown",
   "metadata": {},
   "source": [
    "<font size=\"8\"><font color = blue>**Mastermind**<color></font>"
   ]
  },
  {
   "cell_type": "markdown",
   "metadata": {},
   "source": [
    "Guess the colour the Mastermind has chosen to win."
   ]
  },
  {
   "cell_type": "code",
   "execution_count": null,
   "metadata": {},
   "outputs": [],
   "source": [
    "#Mastermind colour scheme:\n",
    "color_scheme = [\"red\", \"orange\", \"green\", \"blue\", \"yellow\", \"white\", \"purple\", \"black\"]"
   ]
  },
  {
   "cell_type": "code",
   "execution_count": null,
   "metadata": {},
   "outputs": [],
   "source": [
    "import random"
   ]
  },
  {
   "cell_type": "code",
   "execution_count": null,
   "metadata": {},
   "outputs": [],
   "source": [
    "#Mastermind's choice\n",
    "ai_choices = random.sample(color_scheme, 4)\n",
    "print(ai_choices)"
   ]
  },
  {
   "cell_type": "markdown",
   "metadata": {},
   "source": [
    "**Enter a color from the following color scheme: blue, red, orange, black, green, yellow, white, brown**"
   ]
  },
  {
   "cell_type": "code",
   "execution_count": null,
   "metadata": {},
   "outputs": [],
   "source": [
    "def concatenator(name1, name2):\n",
    "    return name1 + \", \" + name2"
   ]
  },
  {
   "cell_type": "code",
   "execution_count": null,
   "metadata": {},
   "outputs": [],
   "source": [
    "from functools import reduce"
   ]
  },
  {
   "cell_type": "code",
   "execution_count": null,
   "metadata": {
    "scrolled": true
   },
   "outputs": [],
   "source": [
    "#Setting up the player's choice:\n"
   ]
  },
  {
   "cell_type": "code",
   "execution_count": null,
   "metadata": {},
   "outputs": [
    {
     "name": "stdout",
     "output_type": "stream",
     "text": [
      "Enter your name: Erik\n",
      "Hello Erik. The Mastermind has chosen its' colors, now it's your turn:\n",
      "\n",
      "Please choose one of red, orange, green, blue, yellow, white, purple, black as your colors.\n",
      "\n",
      "Enter color 1: green\n",
      "Enter color 2: red\n",
      "Enter color 3: black\n",
      "Enter color 4: orange\n",
      "You've chosen green, red, black, orange as your colors.\n",
      "\n",
      "\n",
      "\n",
      "You got  1 colors wrong!\n",
      "You have  3 colors close but in the wrong position.\n",
      "0 correct!\n",
      "\n",
      "Try again Erik!\n",
      "\n",
      "Please choose one of red, orange, green, blue, yellow, white, purple, black as your colors.\n"
     ]
    }
   ],
   "source": [
    "#Basic set up where we will check if the player choices match with the AI\n",
    "name = input(\"Enter your name: \")\n",
    "\n",
    "print(\"Hello \"+ name + \". The Mastermind has chosen its' colors, now it's your turn:\\n\")\n",
    "\n",
    "\n",
    "number_of_tries = 0\n",
    "wrong_colors0 = 0\n",
    "correct_colors0 = 0\n",
    "close_wrong0 = 0\n",
    "\n",
    "print(\"Please choose one of \" + reduce(concatenator, color_scheme) + \" as your colors.\\n\")\n",
    "\n",
    "player_choice1 = input(\"Enter color 1: \")\n",
    "while player_choice1 not in color_scheme:\n",
    "    try: \n",
    "            player_choice1 = input(\"Please enter a valid color from the color scheme: \")\n",
    "    except:\n",
    "            print(\"That's not a valid color, please try again.\")\n",
    "player_choice2 = input(\"Enter color 2: \")\n",
    "while player_choice2 not in color_scheme:    \n",
    "    try: \n",
    "            player_choice2 = input(\"Please enter a valid color from the color scheme: \")\n",
    "    except:\n",
    "            print(\"That's not a valid color, please try again.\")\n",
    "player_choice3 = input(\"Enter color 3: \")\n",
    "while player_choice3 not in color_scheme:    \n",
    "    try: \n",
    "            player_choice3 = input(\"Please enter a valid color from the color scheme: \")\n",
    "    except:            \n",
    "            print(\"That's not a valid color, please try again.\")\n",
    "player_choice4 = input(\"Enter color 4: \")\n",
    "while player_choice4 not in color_scheme:    \n",
    "    try: \n",
    "            player_choice4 = input(\"Please enter a valid color from the color scheme: \")\n",
    "    except:\n",
    "            print(\"That's not a valid color, please try again.\")\n",
    "player_choices = [player_choice1, player_choice2, player_choice3, player_choice4]\n",
    "print(\"You've chosen \" + reduce(concatenator, player_choices) + \" as your colors.\\n\")\n",
    "for index in range(len(player_choices)):\n",
    "    if player_choices[index] not in ai_choices:\n",
    "        wrong_colors0 += 1\n",
    "    elif player_choices[index] == ai_choices[index]:\n",
    "        correct_colors0 += 1\n",
    "    elif player_choices[index] in ai_choices:\n",
    "        close_wrong0 += 1\n",
    "print(\"\\n\")        \n",
    "print(\"You got \", wrong_colors0, \"colors wrong!\")\n",
    "print(\"You have \", close_wrong0, \"colors close but in the wrong position.\")\n",
    "print(correct_colors0, \"correct!\\n\")\n",
    "\n",
    "while player_choices != ai_choices:\n",
    "    print(\"Try again \" + name + \"!\\n\")\n",
    "    print(\"Please choose one of \" + reduce(concatenator, color_scheme) + \" as your colors.\")\n",
    "    wrong_colors1 = 0\n",
    "    correct_colors1 = 0\n",
    "    close_wrong1 = 0\n",
    "    player_choice1 = input(\"Enter color 1: \")\n",
    "    while player_choice1 not in color_scheme:\n",
    "        try: \n",
    "            player_choice1 = input(\"Please enter a valid color from the color scheme: \")\n",
    "        except:\n",
    "            print(\"That's not a valid color, please try again.\")\n",
    "    player_choice2 = input(\"Enter color 2: \")\n",
    "    while player_choice2 not in color_scheme:    \n",
    "        try: \n",
    "            player_choice2 = input(\"Please enter a valid color from the color scheme: \")\n",
    "        except:\n",
    "            print(\"That's not a valid color, please try again.\")\n",
    "    player_choice3 = input(\"Enter color 3: \")\n",
    "    while player_choice3 not in color_scheme:    \n",
    "        try: \n",
    "            player_choice3 = input(\"Please enter a valid color from the color scheme: \")\n",
    "        except:            \n",
    "            print(\"That's not a valid color, please try again.\")\n",
    "    player_choice4 = input(\"Enter color 4: \")\n",
    "    while player_choice4 not in color_scheme:    \n",
    "        try: \n",
    "            player_choice4 = input(\"Please enter a valid color from the color scheme: \")\n",
    "        except:\n",
    "            print(\"That's not a valid color, please try again.\")\n",
    "    player_choices = [player_choice1, player_choice2, player_choice3, player_choice4]\n",
    "    print(\"You've chosen \" + reduce(concatenator, player_choices) + \" as your colors.\")\n",
    "    for index in range(len(player_choices)):\n",
    "        if player_choices[index] not in ai_choices:\n",
    "            wrong_colors1 += 1\n",
    "        elif player_choices[index] == ai_choices[index]:\n",
    "            correct_colors1 += 1\n",
    "        elif player_choices[index] in ai_choices:\n",
    "            close_wrong1 += 1        \n",
    "    print(\"You got \", wrong_colors1, \"colors wrong!\")\n",
    "    print(\"You have \", close_wrong1, \"colors close but in the wrong position.\")\n",
    "    print(correct_colors1, \"correct!\")\n",
    "\n",
    "    number_of_tries += 1\n",
    "    if number_of_tries > 8:\n",
    "        print(\"Game over.\")\n",
    "        break        \n",
    "        \n",
    "            \n",
    "if player_choices == ai_choices:\n",
    "    print(\"Congratulations \" + name + \"you've won!\")"
   ]
  },
  {
   "cell_type": "code",
   "execution_count": null,
   "metadata": {},
   "outputs": [],
   "source": []
  },
  {
   "cell_type": "code",
   "execution_count": null,
   "metadata": {},
   "outputs": [],
   "source": []
  },
  {
   "cell_type": "code",
   "execution_count": null,
   "metadata": {},
   "outputs": [],
   "source": []
  },
  {
   "cell_type": "code",
   "execution_count": 109,
   "metadata": {},
   "outputs": [
    {
     "name": "stdout",
     "output_type": "stream",
     "text": [
      "0 red\n",
      "1 white\n",
      "2 yellow\n",
      "3 red\n"
     ]
    }
   ],
   "source": [
    "for index in range(len(player_choices)):\n",
    "    if player_choices[index] not in ai_choices:\n",
    "        wrong_colors1 += 1\n",
    "    elif player_choices[index] == ai_choices[index]:\n",
    "        correct_colors1 += 1\n",
    "    elif player_choices[index] in ai_choices:\n",
    "        close_wrong1 += 1"
   ]
  },
  {
   "cell_type": "code",
   "execution_count": null,
   "metadata": {},
   "outputs": [],
   "source": [
    "def choose_color_w_replacement(colors):\n",
    "    colors_to_return = []\n",
    "    while len(colors_to_return) < 4:\n",
    "        a1 = random.choice(colors)\n",
    "        if a1 not in colors_to_return:\n",
    "                colors_to_return.append(a1)"
   ]
  },
  {
   "cell_type": "code",
   "execution_count": 62,
   "metadata": {},
   "outputs": [
    {
     "name": "stdout",
     "output_type": "stream",
     "text": [
      "['yellow', 'blue', 'black', 'white']\n"
     ]
    }
   ],
   "source": [
    "print(ai_choices)"
   ]
  },
  {
   "cell_type": "code",
   "execution_count": null,
   "metadata": {},
   "outputs": [],
   "source": [
    "#Mastermind's choice:\n",
    "ai_choice1 = random.choice(color_scheme)\n",
    "ai_choice2 = random.choice(color_scheme)\n",
    "ai_choice3 = random.choice(color_scheme)\n",
    "ai_choice4 = random.choice(color_scheme)\n",
    "ai_choices2 = [ai_choice1, ai_choice2, ai_choice3, ai_choice4]"
   ]
  },
  {
   "cell_type": "code",
   "execution_count": null,
   "metadata": {},
   "outputs": [],
   "source": [
    "#Basic set up where we will check if the player choices match with the AI\n",
    "name = input(\"Enter your name: \")\n",
    "\n",
    "print(\"Hello \"+ name + \". The Mastermind has chosen its' colors, now it's your turn:\\n\")\n",
    "\n",
    "\n",
    "number_of_tries = 0\n",
    "wrong_colors0 = 0\n",
    "correct_colors0 = 0\n",
    "close_wrong0 = 0\n",
    "\n",
    "print(\"Please choose one of \" + reduce(concatenator, color_scheme) + \" as your colors.\\n\")\n",
    "\n",
    "player_choice1 = input(\"Enter color 1: \")\n",
    "while player_choice1 not in color_scheme:\n",
    "    try: \n",
    "            player_choice1 = input(\"Please enter a valid color from the color scheme: \")\n",
    "    except:\n",
    "            print(\"That's not a valid color, please try again.\")\n",
    "player_choice2 = input(\"Enter color 2: \")\n",
    "while player_choice2 not in color_scheme:    \n",
    "    try: \n",
    "            player_choice2 = input(\"Please enter a valid color from the color scheme: \")\n",
    "    except:\n",
    "            print(\"That's not a valid color, please try again.\")\n",
    "player_choice3 = input(\"Enter color 3: \")\n",
    "while player_choice3 not in color_scheme:    \n",
    "    try: \n",
    "            player_choice3 = input(\"Please enter a valid color from the color scheme: \")\n",
    "    except:            \n",
    "            print(\"That's not a valid color, please try again.\")\n",
    "player_choice4 = input(\"Enter color 4: \")\n",
    "while player_choice4 not in color_scheme:    \n",
    "    try: \n",
    "            player_choice4 = input(\"Please enter a valid color from the color scheme: \")\n",
    "    except:\n",
    "            print(\"That's not a valid color, please try again.\")\n",
    "player_choices = [player_choice1, player_choice2, player_choice3, player_choice4]\n",
    "print(\"You've chosen \" + reduce(concatenator, player_choices) + \" as your colors.\\n\")\n",
    "for index,player_choice in enumerate(player_choices):\n",
    "        if player_choice not in ai_choices:\n",
    "            wrong_colors0 += 1\n",
    "        elif player_choice == ai_choices[index]:\n",
    "            correct_colors0 += 1\n",
    "        elif player_choice in ai_choices:\n",
    "            close_wrong0 += 1\n",
    "print(\"\\n\")        \n",
    "print(\"You got \", wrong_colors0, \"colors wrong!\")\n",
    "print(\"You have \", close_wrong0, \"colors close but in the wrong position.\")\n",
    "print(correct_colors0, \"correct!\\n\")\n",
    "\n",
    "while player_choices != ai_choices:\n",
    "    print(\"Try again \" + name + \"!\\n\")\n",
    "    wrong_colors1 = 0\n",
    "    correct_colors1 = 0\n",
    "    close_wrong1 = 0\n",
    "    player_choice1 = input(\"Enter color 1: \")\n",
    "    while player_choice1 not in color_scheme:\n",
    "        try: \n",
    "            player_choice1 = input(\"Please enter a valid color from the color scheme: \")\n",
    "        except:\n",
    "            print(\"That's not a valid color, please try again.\")\n",
    "    player_choice2 = input(\"Enter color 2: \")\n",
    "    while player_choice2 not in color_scheme:    \n",
    "        try: \n",
    "            player_choice2 = input(\"Please enter a valid color from the color scheme: \")\n",
    "        except:\n",
    "            print(\"That's not a valid color, please try again.\")\n",
    "    player_choice3 = input(\"Enter color 3: \")\n",
    "    while player_choice3 not in color_scheme:    \n",
    "        try: \n",
    "            player_choice3 = input(\"Please enter a valid color from the color scheme: \")\n",
    "        except:            \n",
    "            print(\"That's not a valid color, please try again.\")\n",
    "    player_choice4 = input(\"Enter color 4: \")\n",
    "    while player_choice4 not in color_scheme:    \n",
    "        try: \n",
    "            player_choice4 = input(\"Please enter a valid color from the color scheme: \")\n",
    "        except:\n",
    "            print(\"That's not a valid color, please try again.\")\n",
    "    player_choices = [player_choice1, player_choice2, player_choice3, player_choice4]\n",
    "    print(\"You've chosen \" + reduce(concatenator, player_choices) + \" as your colors.\")\n",
    "    for index,player_choice in enumerate(player_choices):\n",
    "        if player_choice not in ai_choices:\n",
    "            wrong_colors1 += 1\n",
    "        elif player_choice == ai_choices[index]:\n",
    "            correct_colors1 += 1\n",
    "        elif player_choice in ai_choices:\n",
    "            close_wrong1 += 1        \n",
    "    print(\"You got \", wrong_colors1, \"colors wrong!\")\n",
    "    print(\"You have \", close_wrong1, \"colors close but in the wrong position.\")\n",
    "    print(correct_colors1, \"correct!\")\n",
    "\n",
    "    number_of_tries += 1\n",
    "    if number_of_tries > 8:\n",
    "        print(\"Game over.\")\n",
    "        break        \n",
    "        \n",
    "            \n",
    "if player_choices == ai_choices:\n",
    "    print(\"Congratulations \" + name + \"you've won!\")"
   ]
  },
  {
   "cell_type": "code",
   "execution_count": null,
   "metadata": {},
   "outputs": [],
   "source": []
  },
  {
   "cell_type": "code",
   "execution_count": null,
   "metadata": {},
   "outputs": [],
   "source": []
  },
  {
   "cell_type": "code",
   "execution_count": null,
   "metadata": {},
   "outputs": [],
   "source": []
  },
  {
   "cell_type": "code",
   "execution_count": null,
   "metadata": {},
   "outputs": [],
   "source": []
  }
 ],
 "metadata": {
  "kernelspec": {
   "display_name": "Python 3",
   "language": "python",
   "name": "python3"
  },
  "language_info": {
   "codemirror_mode": {
    "name": "ipython",
    "version": 3
   },
   "file_extension": ".py",
   "mimetype": "text/x-python",
   "name": "python",
   "nbconvert_exporter": "python",
   "pygments_lexer": "ipython3",
   "version": "3.8.6"
  }
 },
 "nbformat": 4,
 "nbformat_minor": 4
}
