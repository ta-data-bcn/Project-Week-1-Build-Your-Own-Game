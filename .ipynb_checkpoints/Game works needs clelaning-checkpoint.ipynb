{
 "cells": [
  {
   "cell_type": "markdown",
   "metadata": {},
   "source": [
    "<font size=\"8\"><font color = blue>**Mastermind**<color></font>"
   ]
  },
  {
   "cell_type": "markdown",
   "metadata": {},
   "source": [
    "Guess the colour the Mastermind has chosen to win."
   ]
  },
  {
   "cell_type": "code",
   "execution_count": 77,
   "metadata": {},
   "outputs": [],
   "source": [
    "#Mastermind colour scheme:\n",
    "color_scheme = [\"red\", \"orange\", \"green\", \"blue\", \"yellow\", \"white\", \"brown\", \"black\"]"
   ]
  },
  {
   "cell_type": "code",
   "execution_count": 78,
   "metadata": {},
   "outputs": [],
   "source": [
    "import random"
   ]
  },
  {
   "cell_type": "code",
   "execution_count": 79,
   "metadata": {},
   "outputs": [],
   "source": [
    "#Mastermind's choice:\n",
    "ai_choice1 = random.choice(color_scheme)\n",
    "ai_choice2 = random.choice(color_scheme)\n",
    "ai_choice3 = random.choice(color_scheme)\n",
    "ai_choice4 = random.choice(color_scheme)\n",
    "ai_choices = [ai_choice1, ai_choice2, ai_choice3, ai_choice4]"
   ]
  },
  {
   "cell_type": "code",
   "execution_count": 80,
   "metadata": {},
   "outputs": [
    {
     "name": "stdout",
     "output_type": "stream",
     "text": [
      "['yellow', 'green', 'brown', 'yellow']\n"
     ]
    }
   ],
   "source": [
    "print(ai_choices)"
   ]
  },
  {
   "cell_type": "markdown",
   "metadata": {},
   "source": [
    "**Enter a color from the following color scheme: blue, red, orange, black, green, yellow, white, brown**"
   ]
  },
  {
   "cell_type": "code",
   "execution_count": 81,
   "metadata": {},
   "outputs": [],
   "source": [
    "def concatenator(name1, name2):\n",
    "    return name1 + \", \" + name2"
   ]
  },
  {
   "cell_type": "code",
   "execution_count": 82,
   "metadata": {},
   "outputs": [],
   "source": [
    "from functools import reduce"
   ]
  },
  {
   "cell_type": "code",
   "execution_count": 83,
   "metadata": {
    "scrolled": true
   },
   "outputs": [],
   "source": [
    "#Setting up the player's choice:\n"
   ]
  },
  {
   "cell_type": "code",
   "execution_count": 84,
   "metadata": {},
   "outputs": [
    {
     "name": "stdout",
     "output_type": "stream",
     "text": [
      "The Mastermind has chosen its' colors, now it's your turn:\n",
      "\n",
      "Enter color 1: blue\n",
      "Enter color 2: green\n",
      "Enter color 3: black\n",
      "Enter color 4: red\n",
      "You've chosen blue, green, black, red as your colors.\n",
      "\n",
      "\n",
      "\n",
      "You got  3 colors wrong!\n",
      "You have  0 colors close but in the wrong position.\n",
      "1 correct!\n",
      "\n",
      "Try again!\n",
      "\n",
      "Enter color 1: blue\n",
      "Enter color 2: white\n",
      "Enter color 3: yellow\n",
      "Enter color 4: orange\n",
      "You've chosen blue, white, yellow, orange as your colors.\n",
      "\n",
      "\n",
      "\n",
      "You got  6 colors wrong!\n",
      "You have  1 colors close but in the wrong position.\n",
      "1 correct!\n",
      "Try again!\n",
      "\n"
     ]
    },
    {
     "ename": "KeyboardInterrupt",
     "evalue": "Interrupted by user",
     "output_type": "error",
     "traceback": [
      "\u001b[1;31m---------------------------------------------------------------------------\u001b[0m",
      "\u001b[1;31mKeyboardInterrupt\u001b[0m                         Traceback (most recent call last)",
      "\u001b[1;32m<ipython-input-84-8c8083204471>\u001b[0m in \u001b[0;36m<module>\u001b[1;34m\u001b[0m\n\u001b[0;32m     29\u001b[0m \u001b[1;32mwhile\u001b[0m \u001b[0mplayer_choices\u001b[0m \u001b[1;33m!=\u001b[0m \u001b[0mai_choices\u001b[0m\u001b[1;33m:\u001b[0m\u001b[1;33m\u001b[0m\u001b[1;33m\u001b[0m\u001b[0m\n\u001b[0;32m     30\u001b[0m     \u001b[0mprint\u001b[0m\u001b[1;33m(\u001b[0m\u001b[1;34m\"Try again!\\n\"\u001b[0m\u001b[1;33m)\u001b[0m\u001b[1;33m\u001b[0m\u001b[1;33m\u001b[0m\u001b[0m\n\u001b[1;32m---> 31\u001b[1;33m     \u001b[0mplayer_choice1\u001b[0m \u001b[1;33m=\u001b[0m \u001b[0minput\u001b[0m\u001b[1;33m(\u001b[0m\u001b[1;34m\"Enter color 1: \"\u001b[0m\u001b[1;33m)\u001b[0m\u001b[1;33m\u001b[0m\u001b[1;33m\u001b[0m\u001b[0m\n\u001b[0m\u001b[0;32m     32\u001b[0m     \u001b[1;32mwhile\u001b[0m \u001b[0mplayer_choice1\u001b[0m \u001b[1;32mnot\u001b[0m \u001b[1;32min\u001b[0m \u001b[0mcolor_scheme\u001b[0m\u001b[1;33m:\u001b[0m\u001b[1;33m\u001b[0m\u001b[1;33m\u001b[0m\u001b[0m\n\u001b[0;32m     33\u001b[0m         \u001b[1;32mtry\u001b[0m\u001b[1;33m:\u001b[0m\u001b[1;33m\u001b[0m\u001b[1;33m\u001b[0m\u001b[0m\n",
      "\u001b[1;32mc:\\users\\erik\\appdata\\local\\programs\\python\\python38\\lib\\site-packages\\ipykernel\\kernelbase.py\u001b[0m in \u001b[0;36mraw_input\u001b[1;34m(self, prompt)\u001b[0m\n\u001b[0;32m    858\u001b[0m                 \u001b[1;34m\"raw_input was called, but this frontend does not support input requests.\"\u001b[0m\u001b[1;33m\u001b[0m\u001b[1;33m\u001b[0m\u001b[0m\n\u001b[0;32m    859\u001b[0m             )\n\u001b[1;32m--> 860\u001b[1;33m         return self._input_request(str(prompt),\n\u001b[0m\u001b[0;32m    861\u001b[0m             \u001b[0mself\u001b[0m\u001b[1;33m.\u001b[0m\u001b[0m_parent_ident\u001b[0m\u001b[1;33m,\u001b[0m\u001b[1;33m\u001b[0m\u001b[1;33m\u001b[0m\u001b[0m\n\u001b[0;32m    862\u001b[0m             \u001b[0mself\u001b[0m\u001b[1;33m.\u001b[0m\u001b[0m_parent_header\u001b[0m\u001b[1;33m,\u001b[0m\u001b[1;33m\u001b[0m\u001b[1;33m\u001b[0m\u001b[0m\n",
      "\u001b[1;32mc:\\users\\erik\\appdata\\local\\programs\\python\\python38\\lib\\site-packages\\ipykernel\\kernelbase.py\u001b[0m in \u001b[0;36m_input_request\u001b[1;34m(self, prompt, ident, parent, password)\u001b[0m\n\u001b[0;32m    902\u001b[0m             \u001b[1;32mexcept\u001b[0m \u001b[0mKeyboardInterrupt\u001b[0m\u001b[1;33m:\u001b[0m\u001b[1;33m\u001b[0m\u001b[1;33m\u001b[0m\u001b[0m\n\u001b[0;32m    903\u001b[0m                 \u001b[1;31m# re-raise KeyboardInterrupt, to truncate traceback\u001b[0m\u001b[1;33m\u001b[0m\u001b[1;33m\u001b[0m\u001b[1;33m\u001b[0m\u001b[0m\n\u001b[1;32m--> 904\u001b[1;33m                 \u001b[1;32mraise\u001b[0m \u001b[0mKeyboardInterrupt\u001b[0m\u001b[1;33m(\u001b[0m\u001b[1;34m\"Interrupted by user\"\u001b[0m\u001b[1;33m)\u001b[0m \u001b[1;32mfrom\u001b[0m \u001b[1;32mNone\u001b[0m\u001b[1;33m\u001b[0m\u001b[1;33m\u001b[0m\u001b[0m\n\u001b[0m\u001b[0;32m    905\u001b[0m             \u001b[1;32mexcept\u001b[0m \u001b[0mException\u001b[0m \u001b[1;32mas\u001b[0m \u001b[0me\u001b[0m\u001b[1;33m:\u001b[0m\u001b[1;33m\u001b[0m\u001b[1;33m\u001b[0m\u001b[0m\n\u001b[0;32m    906\u001b[0m                 \u001b[0mself\u001b[0m\u001b[1;33m.\u001b[0m\u001b[0mlog\u001b[0m\u001b[1;33m.\u001b[0m\u001b[0mwarning\u001b[0m\u001b[1;33m(\u001b[0m\u001b[1;34m\"Invalid Message:\"\u001b[0m\u001b[1;33m,\u001b[0m \u001b[0mexc_info\u001b[0m\u001b[1;33m=\u001b[0m\u001b[1;32mTrue\u001b[0m\u001b[1;33m)\u001b[0m\u001b[1;33m\u001b[0m\u001b[1;33m\u001b[0m\u001b[0m\n",
      "\u001b[1;31mKeyboardInterrupt\u001b[0m: Interrupted by user"
     ]
    }
   ],
   "source": [
    "#Basic set up where we will check if the player choices match with the AI\n",
    "\n",
    "\n",
    "number_of_tries = 0\n",
    "wrong_colors = 0\n",
    "correct_colors = 0\n",
    "close_wrong = 0\n",
    "\n",
    "print(\"The Mastermind has chosen its' colors, now it's your turn:\\n\")\n",
    "\n",
    "player_choice1 = input(\"Enter color 1: \")\n",
    "player_choice2 = input(\"Enter color 2: \")\n",
    "player_choice3 = input(\"Enter color 3: \")\n",
    "player_choice4 = input(\"Enter color 4: \")\n",
    "player_choices = [player_choice1, player_choice2, player_choice3, player_choice4]\n",
    "print(\"You've chosen \" + reduce(concatenator, player_choices) + \" as your colors.\\n\")\n",
    "for index,player_choice in enumerate(player_choices):\n",
    "        if player_choice not in ai_choices:\n",
    "            wrong_colors += 1\n",
    "        elif player_choice == ai_choices[index]:\n",
    "            correct_colors += 1\n",
    "        elif player_choice in ai_choices:\n",
    "            close_wrong += 1\n",
    "print(\"\\n\")        \n",
    "print(\"You got \", wrong_colors, \"colors wrong!\")\n",
    "print(\"You have \", close_wrong, \"colors close but in the wrong position.\")\n",
    "print(correct_colors, \"correct!\\n\")\n",
    "\n",
    "while player_choices != ai_choices:\n",
    "    print(\"Try again!\\n\")\n",
    "    player_choice1 = input(\"Enter color 1: \")\n",
    "    while player_choice1 not in color_scheme:\n",
    "        try: \n",
    "            player_choice1 = input(\"Please enter a valid color from the color scheme: \")\n",
    "        except:\n",
    "            print(\"That's not a valid color, please try again.\")\n",
    "    player_choice2 = input(\"Enter color 2: \")\n",
    "    while player_choice2 not in color_scheme:    \n",
    "        try: \n",
    "            player_choice2 = input(\"Please enter a valid color from the color scheme: \")\n",
    "        except:\n",
    "            print(\"That's not a valid color, please try again.\")\n",
    "    player_choice3 = input(\"Enter color 3: \")\n",
    "    while player_choice3 not in color_scheme:    \n",
    "        try: \n",
    "            player_choice3 = input(\"Please enter a valid color from the color scheme: \")\n",
    "        except:            \n",
    "            print(\"That's not a valid color, please try again.\")\n",
    "    player_choice4 = input(\"Enter color 4: \")\n",
    "    while player_choice4 not in color_scheme:    \n",
    "        try: \n",
    "            player_choice4 = input(\"Please enter a valid color from the color scheme: \")\n",
    "        except:\n",
    "            print(\"That's not a valid color, please try again.\")\n",
    "    player_choices = [player_choice1, player_choice2, player_choice3, player_choice4]\n",
    "    print(\"You've chosen \" + reduce(concatenator, player_choices) + \" as your colors.\\n\")\n",
    "    for index,player_choice in enumerate(player_choices):\n",
    "        if player_choice not in ai_choices:\n",
    "            wrong_colors += 1\n",
    "        elif player_choice == ai_choices[index]:\n",
    "            correct_colors += 1\n",
    "        elif player_choice in ai_choices:\n",
    "            close_wrong += 1\n",
    "    print(\"\\n\")        \n",
    "    print(\"You got \", wrong_colors, \"colors wrong!\")\n",
    "    print(\"You have \", close_wrong, \"colors close but in the wrong position.\")\n",
    "    print(correct_colors, \"correct!\")\n",
    "    wrong_colors = 0\n",
    "    correct_colors = 0\n",
    "    close_wrong = 0\n",
    "    number_of_tries += 1\n",
    "    if number_of_tries > 8:\n",
    "        print(\"Game over.\")\n",
    "        break        \n",
    "        \n",
    "            \n",
    "if player_choices == ai_choices:\n",
    "    print(\"You've won!\")"
   ]
  },
  {
   "cell_type": "code",
   "execution_count": 62,
   "metadata": {},
   "outputs": [
    {
     "name": "stdout",
     "output_type": "stream",
     "text": [
      "['yellow', 'blue', 'black', 'white']\n"
     ]
    }
   ],
   "source": [
    "print(ai_choices)"
   ]
  },
  {
   "cell_type": "code",
   "execution_count": null,
   "metadata": {},
   "outputs": [],
   "source": []
  },
  {
   "cell_type": "code",
   "execution_count": null,
   "metadata": {},
   "outputs": [],
   "source": []
  },
  {
   "cell_type": "code",
   "execution_count": null,
   "metadata": {},
   "outputs": [],
   "source": []
  },
  {
   "cell_type": "code",
   "execution_count": null,
   "metadata": {},
   "outputs": [],
   "source": []
  },
  {
   "cell_type": "code",
   "execution_count": null,
   "metadata": {},
   "outputs": [],
   "source": []
  },
  {
   "cell_type": "code",
   "execution_count": null,
   "metadata": {},
   "outputs": [],
   "source": [
    "#Working game but shouldn't give away which ones you got right.\n",
    "\n",
    "if player_choices == ai_choices:\n",
    "    print(\"You've won!\")\n",
    "\n",
    "while player_choices != ai_choices:\n",
    "    player_choice1 = input(\"Enter color 1: \")\n",
    "    player_choice2 = input(\"Enter color 2: \")\n",
    "    player_choice3 = input(\"Enter color 3: \")\n",
    "    player_choice4 = input(\"Enter color 4: \")\n",
    "    player_choices = [player_choice1, player_choice2, player_choice3, player_choice4]\n",
    "    print(\"You've chosen \" + str(player_choices) + \" as your colors.\")\n",
    "    for index,player_choice in enumerate(player_choices):\n",
    "        if player_choice not in ai_choices:\n",
    "            print(\"Wrong color\")\n",
    "        elif player_choice == ai_choices[index]:\n",
    "            print(\"You got this one right\")\n",
    "        elif player_choice in ai_choices:\n",
    "            print(\"Close but wrong position for slot\")\n"
   ]
  }
 ],
 "metadata": {
  "kernelspec": {
   "display_name": "Python 3",
   "language": "python",
   "name": "python3"
  },
  "language_info": {
   "codemirror_mode": {
    "name": "ipython",
    "version": 3
   },
   "file_extension": ".py",
   "mimetype": "text/x-python",
   "name": "python",
   "nbconvert_exporter": "python",
   "pygments_lexer": "ipython3",
   "version": "3.8.6"
  }
 },
 "nbformat": 4,
 "nbformat_minor": 4
}
