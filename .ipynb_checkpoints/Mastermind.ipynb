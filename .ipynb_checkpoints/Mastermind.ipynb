{
 "cells": [
  {
   "cell_type": "markdown",
   "metadata": {},
   "source": [
    "<font size=\"8\"><font color = blue>**Mastermind**<color></font>"
   ]
  },
  {
   "cell_type": "markdown",
   "metadata": {},
   "source": [
    "Guess the colour the Mastermind has chosen to win."
   ]
  },
  {
   "cell_type": "code",
   "execution_count": 20,
   "metadata": {},
   "outputs": [],
   "source": [
    "#Mastermind colour scheme:\n",
    "color_scheme = [\"red\", \"orange\", \"green\", \"blue\", \"yellow\", \"white\", \"brown\", \"black\"]"
   ]
  },
  {
   "cell_type": "code",
   "execution_count": 21,
   "metadata": {},
   "outputs": [],
   "source": [
    "import random"
   ]
  },
  {
   "cell_type": "code",
   "execution_count": 22,
   "metadata": {},
   "outputs": [],
   "source": [
    "#Mastermind's choice:\n",
    "ai_choice1 = random.choice(color_scheme)\n",
    "ai_choice2 = random.choice(color_scheme)\n",
    "ai_choice3 = random.choice(color_scheme)\n",
    "ai_choice4 = random.choice(color_scheme)\n",
    "ai_choices = [ai_choice1, ai_choice2, ai_choice3, ai_choice4]"
   ]
  },
  {
   "cell_type": "code",
   "execution_count": 23,
   "metadata": {},
   "outputs": [
    {
     "name": "stdout",
     "output_type": "stream",
     "text": [
      "['black', 'blue', 'white', 'red']\n"
     ]
    }
   ],
   "source": [
    "print(ai_choices)"
   ]
  },
  {
   "cell_type": "markdown",
   "metadata": {},
   "source": [
    "**Enter a color from the following color scheme: blue, red, orange, black, green, yellow, white, brown**"
   ]
  },
  {
   "cell_type": "code",
   "execution_count": 24,
   "metadata": {},
   "outputs": [],
   "source": [
    "def concatenator(name1, name2):\n",
    "    return name1 + \", \" + name2"
   ]
  },
  {
   "cell_type": "code",
   "execution_count": 25,
   "metadata": {},
   "outputs": [],
   "source": [
    "from functools import reduce"
   ]
  },
  {
   "cell_type": "code",
   "execution_count": 26,
   "metadata": {
    "scrolled": true
   },
   "outputs": [
    {
     "name": "stdout",
     "output_type": "stream",
     "text": [
      "Enter color 1: green\n",
      "Enter color 2: blue\n",
      "Enter color 3: orange\n",
      "Enter color 4: red\n",
      "You've chosen green, blue, orange, red as your colors.\n"
     ]
    }
   ],
   "source": [
    "#Setting up the player's choice:\n",
    "player_choice1 = input(\"Enter color 1: \")\n",
    "player_choice2 = input(\"Enter color 2: \")\n",
    "player_choice3 = input(\"Enter color 3: \")\n",
    "player_choice4 = input(\"Enter color 4: \")\n",
    "player_choices = [player_choice1, player_choice2, player_choice3, player_choice4]\n",
    "print(\"You've chosen \" + reduce(concatenator, player_choices) + \" as your colors.\")"
   ]
  },
  {
   "cell_type": "code",
   "execution_count": null,
   "metadata": {},
   "outputs": [],
   "source": []
  },
  {
   "cell_type": "code",
   "execution_count": 27,
   "metadata": {},
   "outputs": [
    {
     "name": "stdout",
     "output_type": "stream",
     "text": [
      "Enter color 1: black\n",
      "Enter color 2: blue\n",
      "Enter color 3: white\n",
      "Enter color 4: brown\n",
      "You've chosen black, blue, white, brown as your colors.\n",
      "\n",
      "\n",
      "\n",
      "You got  1 colors wrong!\n",
      "You have  0 colors close but in the wrong position.\n",
      "3 correct!\n",
      "\n",
      "Enter color 1: black\n",
      "Enter color 2: blue\n",
      "Enter color 3: white\n",
      "Enter color 4: red\n",
      "You've chosen black, blue, white, red as your colors.\n",
      "\n",
      "\n",
      "\n",
      "You got  1 colors wrong!\n",
      "You have  0 colors close but in the wrong position.\n",
      "7 correct!\n",
      "\n",
      "You've won!\n",
      "\n",
      "\n",
      "You got  1 colors wrong!\n",
      "You have  0 colors close but in the wrong position.\n",
      "7 correct!\n",
      "\n"
     ]
    }
   ],
   "source": [
    "#Basic set up where we will check if the player choices match with the AI\n",
    "\n",
    "\n",
    "\n",
    "wrong_colors = 0\n",
    "correct_colors = 0\n",
    "close_wrong = 0\n",
    "\n",
    "\n",
    "\n",
    "while player_choices != ai_choices:\n",
    "    player_choice1 = input(\"Enter color 1: \")\n",
    "    while player_choice1 not in color_scheme:\n",
    "        try: \n",
    "            player_choice1 = input(\"Please enter a valid color from the color scheme: \")\n",
    "        except:\n",
    "            print(\"That's not a valid color, please try again.\")\n",
    "    player_choice2 = input(\"Enter color 2: \")\n",
    "    while player_choice2 not in color_scheme:    \n",
    "        try: \n",
    "            player_choice2 = input(\"Please enter a valid color from the color scheme: \")\n",
    "        except:\n",
    "            print(\"That's not a valid color, please try again.\")\n",
    "    player_choice3 = input(\"Enter color 3: \")\n",
    "    while player_choice3 not in color_scheme:    \n",
    "        try: \n",
    "            player_choice3 = input(\"Please enter a valid color from the color scheme: \")\n",
    "        except:            \n",
    "            print(\"That's not a valid color, please try again.\")\n",
    "    player_choice4 = input(\"Enter color 4: \")\n",
    "    while player_choice4 not in color_scheme:    \n",
    "        try: \n",
    "            player_choice4 = input(\"Please enter a valid color from the color scheme: \")\n",
    "        except:\n",
    "            print(\"That's not a valid color, please try again.\")\n",
    "    player_choices = [player_choice1, player_choice2, player_choice3, player_choice4]\n",
    "    print(\"You've chosen \" + reduce(concatenator, player_choices) + \" as your colors.\\n\")\n",
    "    for index,player_choice in enumerate(player_choices):\n",
    "        if player_choice not in ai_choices:\n",
    "            wrong_colors += 1\n",
    "        elif player_choice == ai_choices[index]:\n",
    "            correct_colors += 1\n",
    "        elif player_choice in ai_choices:\n",
    "            close_wrong += 1\n",
    "    print(\"\\n\")        \n",
    "    print(\"You got \", wrong_colors, \"colors wrong!\")\n",
    "    print(\"You have \", close_wrong, \"colors close but in the wrong position.\")\n",
    "    print(correct_colors, \"correct!\\n\")\n",
    "            \n",
    "        \n",
    "            \n",
    "if player_choices == ai_choices:\n",
    "    print(\"You've won!\")"
   ]
  },
  {
   "cell_type": "code",
   "execution_count": null,
   "metadata": {},
   "outputs": [],
   "source": [
    "print(ai_choices)"
   ]
  },
  {
   "cell_type": "code",
   "execution_count": null,
   "metadata": {},
   "outputs": [],
   "source": []
  },
  {
   "cell_type": "code",
   "execution_count": null,
   "metadata": {},
   "outputs": [],
   "source": []
  },
  {
   "cell_type": "code",
   "execution_count": null,
   "metadata": {},
   "outputs": [],
   "source": []
  },
  {
   "cell_type": "code",
   "execution_count": null,
   "metadata": {},
   "outputs": [],
   "source": []
  },
  {
   "cell_type": "code",
   "execution_count": null,
   "metadata": {},
   "outputs": [],
   "source": []
  },
  {
   "cell_type": "code",
   "execution_count": null,
   "metadata": {},
   "outputs": [],
   "source": [
    "#Working game but shouldn't give away which ones you got right.\n",
    "\n",
    "if player_choices == ai_choices:\n",
    "    print(\"You've won!\")\n",
    "\n",
    "while player_choices != ai_choices:\n",
    "    player_choice1 = input(\"Enter color 1: \")\n",
    "    player_choice2 = input(\"Enter color 2: \")\n",
    "    player_choice3 = input(\"Enter color 3: \")\n",
    "    player_choice4 = input(\"Enter color 4: \")\n",
    "    player_choices = [player_choice1, player_choice2, player_choice3, player_choice4]\n",
    "    print(\"You've chosen \" + str(player_choices) + \" as your colors.\")\n",
    "    for index,player_choice in enumerate(player_choices):\n",
    "        if player_choice not in ai_choices:\n",
    "            print(\"Wrong color\")\n",
    "        elif player_choice == ai_choices[index]:\n",
    "            print(\"You got this one right\")\n",
    "        elif player_choice in ai_choices:\n",
    "            print(\"Close but wrong position for slot\")\n"
   ]
  }
 ],
 "metadata": {
  "kernelspec": {
   "display_name": "Python 3",
   "language": "python",
   "name": "python3"
  },
  "language_info": {
   "codemirror_mode": {
    "name": "ipython",
    "version": 3
   },
   "file_extension": ".py",
   "mimetype": "text/x-python",
   "name": "python",
   "nbconvert_exporter": "python",
   "pygments_lexer": "ipython3",
   "version": "3.8.6"
  }
 },
 "nbformat": 4,
 "nbformat_minor": 4
}
