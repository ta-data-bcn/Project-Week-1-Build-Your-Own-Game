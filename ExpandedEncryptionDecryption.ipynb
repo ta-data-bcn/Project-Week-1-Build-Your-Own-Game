{
 "cells": [
  {
   "cell_type": "code",
   "execution_count": 19,
   "metadata": {},
   "outputs": [],
   "source": [
    "password = 'test'"
   ]
  },
  {
   "cell_type": "code",
   "execution_count": 20,
   "metadata": {},
   "outputs": [],
   "source": [
    "df = pd.DataFrame({'password':password, 'coding':equivalences})"
   ]
  },
  {
   "cell_type": "code",
   "execution_count": 21,
   "metadata": {},
   "outputs": [
    {
     "data": {
      "text/plain": [
       "0     1110110000\n",
       "1     1101100001\n",
       "2     0100001111\n",
       "3     0010011011\n",
       "4     0100011011\n",
       "         ...    \n",
       "90    0101110010\n",
       "91    0001111001\n",
       "92    0010010111\n",
       "93    1011000101\n",
       "94    0001011110\n",
       "Name: coding, Length: 95, dtype: object"
      ]
     },
     "execution_count": 21,
     "metadata": {},
     "output_type": "execute_result"
    }
   ],
   "source": [
    "df['coding']"
   ]
  },
  {
   "cell_type": "code",
   "execution_count": 22,
   "metadata": {},
   "outputs": [],
   "source": [
    "test = ''\n",
    "for i in df['coding']:\n",
    "    test+=i+', '"
   ]
  },
  {
   "cell_type": "code",
   "execution_count": 23,
   "metadata": {},
   "outputs": [],
   "source": [
    "df1 = pd.DataFrame({'password':df['password'], 'coding':test})"
   ]
  },
  {
   "cell_type": "code",
   "execution_count": 28,
   "metadata": {
    "scrolled": true
   },
   "outputs": [],
   "source": [
    "df1.to_csv('database1.csv', index=False)"
   ]
  },
  {
   "cell_type": "code",
   "execution_count": 25,
   "metadata": {},
   "outputs": [],
   "source": [
    "df1.drop(index=range(94), inplace=True)"
   ]
  },
  {
   "cell_type": "code",
   "execution_count": 18,
   "metadata": {},
   "outputs": [
    {
     "name": "stdout",
     "output_type": "stream",
     "text": [
      "   password                                             coding\n",
      "93     test  1110110000, 1101100001, 0100001111, 0010011011...\n",
      "94     test  1110110000, 1101100001, 0100001111, 0010011011...\n"
     ]
    }
   ],
   "source": [
    "print(database1)"
   ]
  },
  {
   "cell_type": "code",
   "execution_count": null,
   "metadata": {},
   "outputs": [],
   "source": []
  },
  {
   "cell_type": "code",
   "execution_count": null,
   "metadata": {},
   "outputs": [],
   "source": []
  },
  {
   "cell_type": "code",
   "execution_count": null,
   "metadata": {},
   "outputs": [],
   "source": []
  },
  {
   "cell_type": "code",
   "execution_count": null,
   "metadata": {},
   "outputs": [],
   "source": []
  },
  {
   "cell_type": "code",
   "execution_count": null,
   "metadata": {},
   "outputs": [],
   "source": []
  },
  {
   "cell_type": "code",
   "execution_count": 1,
   "metadata": {},
   "outputs": [],
   "source": [
    "import random\n",
    "import pandas as pd\n",
    "import re"
   ]
  },
  {
   "cell_type": "code",
   "execution_count": 30,
   "metadata": {},
   "outputs": [],
   "source": [
    "database = pd.read_csv('database.csv')"
   ]
  },
  {
   "cell_type": "code",
   "execution_count": 31,
   "metadata": {},
   "outputs": [],
   "source": [
    "# We generate unique pseudobinary equivalences\n",
    "unique_equivalences = set()\n",
    "code_generator=[str(1), str(0), str(1), str(0), str(1),\n",
    "                str(0), str(1), str(0), str(1), str(0)]\n",
    "# We generate the list of encrypted characters\n",
    "while len(unique_equivalences)<95:\n",
    "    random.shuffle(code_generator)\n",
    "    shuffled=(\"\".join(code_generator))\n",
    "    unique_equivalences.add(shuffled)\n",
    "equivalences=list(unique_equivalences)"
   ]
  },
  {
   "cell_type": "code",
   "execution_count": 32,
   "metadata": {},
   "outputs": [],
   "source": [
    "englishcodes=list(range(32,127))\n",
    "# We generate a dictionary with the equivalences character = pseudobinary\n",
    "english_encrypting={}\n",
    "for i in range(95):\n",
    "    english_encrypting[chr(englishcodes[i])]=equivalences[i]\n",
    "# We generate a dictionary with the equivalences pseudobinary = character\n",
    "english_decrypting=dict()\n",
    "for i in range(95):\n",
    "    english_decrypting[equivalences[i]]=chr(englishcodes[i])"
   ]
  },
  {
   "cell_type": "code",
   "execution_count": 33,
   "metadata": {},
   "outputs": [],
   "source": [
    "# We define the encrypting function\n",
    "def encryption_process():\n",
    "    text2encrypt = input(\"What text do you wish to encrypt? \")\n",
    "    letter_list = [letter for letter in text2encrypt]\n",
    "    encrypted_characters = [english_encrypting[letter] \n",
    "                           for letter in letter_list]\n",
    "    encrypted_output = (\"\".join(encrypted_characters))\n",
    "    return encrypted_output"
   ]
  },
  {
   "cell_type": "code",
   "execution_count": 34,
   "metadata": {},
   "outputs": [],
   "source": [
    "# We define the decrypting function\n",
    "def decryption_process():\n",
    "    text2decrypt = input('What text do you wish to decrypt? ')\n",
    "    code_list = [text2decrypt[i:(i+10)] for i in range(0, len(text2decrypt), 10)]\n",
    "    decrypted_letter = [english_decrypting[code] for code in code_list]\n",
    "    decrypted_output = (\"\".join(decrypted_letter))\n",
    "    return decrypted_output"
   ]
  },
  {
   "cell_type": "code",
   "execution_count": 43,
   "metadata": {},
   "outputs": [],
   "source": [
    "# We define the function to check a given password\n",
    "def password_finder(password):\n",
    "    found = 0\n",
    "    index = ''\n",
    "    for i in range(len(database)):\n",
    "        if password == database['password'][i]:\n",
    "            found = 1\n",
    "            index = i\n",
    "    if found == 1:\n",
    "        return re.findall(r'[0-1]{8}', database['coding'][index])\n",
    "    else:\n",
    "        return 'Sorry, I did not find the password'"
   ]
  },
  {
   "cell_type": "code",
   "execution_count": 49,
   "metadata": {},
   "outputs": [
    {
     "data": {
      "text/plain": [
       "['11101100',\n",
       " '11011000',\n",
       " '01000011',\n",
       " '00100110',\n",
       " '01000110',\n",
       " '10100010',\n",
       " '01011001',\n",
       " '10010111',\n",
       " '11100001',\n",
       " '10011100',\n",
       " '00101101',\n",
       " '10110010',\n",
       " '01010101',\n",
       " '01010011',\n",
       " '10001110',\n",
       " '11010011',\n",
       " '10111100',\n",
       " '10100001',\n",
       " '01110100',\n",
       " '01001110',\n",
       " '11111000',\n",
       " '01001001',\n",
       " '00110010',\n",
       " '01100101',\n",
       " '10011000',\n",
       " '01101000',\n",
       " '01011100',\n",
       " '10101110',\n",
       " '01110010',\n",
       " '00101110',\n",
       " '10110101',\n",
       " '11101001',\n",
       " '10101011',\n",
       " '11000011',\n",
       " '00111000',\n",
       " '01100010',\n",
       " '00011001',\n",
       " '01001100',\n",
       " '00101001',\n",
       " '10111001',\n",
       " '11001001',\n",
       " '11110000',\n",
       " '10101000',\n",
       " '11100011',\n",
       " '01101001',\n",
       " '01111100',\n",
       " '11000001',\n",
       " '10011101',\n",
       " '00100111',\n",
       " '10100011',\n",
       " '10100111',\n",
       " '11001100',\n",
       " '10000111',\n",
       " '10101001',\n",
       " '01101100',\n",
       " '11000110',\n",
       " '10010110',\n",
       " '01001110',\n",
       " '10111010',\n",
       " '00011101',\n",
       " '10100011',\n",
       " '01010100',\n",
       " '01101011',\n",
       " '01100101',\n",
       " '11001011',\n",
       " '11001101',\n",
       " '00010011',\n",
       " '00110101',\n",
       " '10011001',\n",
       " '11101010',\n",
       " '11001010',\n",
       " '01110000',\n",
       " '01010010',\n",
       " '11010001',\n",
       " '01010110',\n",
       " '00101110',\n",
       " '11101000',\n",
       " '01000101',\n",
       " '00110011',\n",
       " '01110100',\n",
       " '01010001',\n",
       " '10100110',\n",
       " '00000111',\n",
       " '01110001',\n",
       " '11000110',\n",
       " '00100111',\n",
       " '01101010',\n",
       " '10001011',\n",
       " '11011001',\n",
       " '00001111',\n",
       " '01011100',\n",
       " '00011110',\n",
       " '00100101',\n",
       " '10110001',\n",
       " '00010111']"
      ]
     },
     "execution_count": 49,
     "metadata": {},
     "output_type": "execute_result"
    }
   ],
   "source": [
    "password = 'test'\n",
    "password_finder(password)"
   ]
  },
  {
   "cell_type": "code",
   "execution_count": 19,
   "metadata": {},
   "outputs": [],
   "source": [
    "# We import the database with previously done encryptions\n",
    "database = pd.read_csv('database.csv', sep=',')"
   ]
  },
  {
   "cell_type": "code",
   "execution_count": 59,
   "metadata": {},
   "outputs": [],
   "source": [
    "# We define the registering or logging in function\n",
    "def flow():\n",
    "    database = pd.read_csv('database.csv')\n",
    "    registered_user = \"\"\n",
    "    while (registered_user != 'log in') & (registered_user != 'register'):\n",
    "        registered_user = str(input('do you wish to log in or register? '))\n",
    "    # We check if the user wants to log in\n",
    "    if registered_user == 'log in':\n",
    "        # We ask the user to imput the password\n",
    "        password = str(input('please enter your password: '))\n",
    "        found_password = ''\n",
    "        while (found_password == '') | (found_password == 'Sorry, I did not find the password'):\n",
    "            found_password = 1\n",
    "            equivalences = password_finder(password)\n",
    "        # We generate a list with the most common ASCII codes in the English dictionary\n",
    "        englishcodes=list(range(32,127))\n",
    "        # We ask whether the user wants to encrypt or decrypt a message\n",
    "        action = ''\n",
    "        while (action != 'encrypt') & (action != 'decrypt'):\n",
    "            action = str(input('do you wish to encrypt or decrypt a message? '))\n",
    "        # If the user chooses to encrypt, we generate the encrypting dictionary and call the encrypting function\n",
    "        if action == 'encrypt':\n",
    "            english_encrypting={}\n",
    "            for i in range(len(equivalences)):\n",
    "                english_encrypting[chr(englishcodes[i])]=equivalences[i]\n",
    "            return encryption_process()\n",
    "        # If the user chooses to decrypt, we generate the decrypting dictionary and call the decrypting function\n",
    "        elif action == 'decrypt':\n",
    "            english_decrypting=dict()\n",
    "            for i in range(len(equivalences)):\n",
    "                english_decrypting[equivalences[i]]=chr(englishcodes[i])\n",
    "            return decryption_process()\n",
    "    elif registered_user == 'register':\n",
    "        password = str(input('please enter a password: '))\n",
    "        # We generate unique pseudobinary equivalences\n",
    "        unique_equivalences = set()\n",
    "        code_generator=[str(1), str(0), str(1), str(0), str(1),\n",
    "                        str(0), str(1), str(0), str(1), str(0)]\n",
    "        # We generate the list of encrypted characters\n",
    "        while len(unique_equivalences)<95:\n",
    "            random.shuffle(code_generator)\n",
    "            shuffled=(\"\".join(code_generator))\n",
    "            unique_equivalences.add(shuffled)\n",
    "        equivalences=list(unique_equivalences)\n",
    "        englishcodes=list(range(32,127))\n",
    "        # We generate a dictionary with the equivalences character = pseudobinary\n",
    "        english_encrypting={}\n",
    "        for i in range(len(englishcodes)):\n",
    "            english_encrypting[chr(englishcodes[i])]=equivalences[i]\n",
    "        return encryption_process()\n",
    "    # Generate a new df with the new encrypting \n",
    "        new_df = pd.DataFrame({'password':password,\n",
    "                               'coding':equivalences})\n",
    "        test = ''\n",
    "        for i in new_df['coding']:\n",
    "            test+=i+', '\n",
    "        new_df1 = pd.DataFrame({'password':password, 'coding':test})\n",
    "        database = database + new_df1\n",
    "        database.to_csv('database.csv', index=False)"
   ]
  },
  {
   "cell_type": "code",
   "execution_count": 61,
   "metadata": {
    "scrolled": true
   },
   "outputs": [
    {
     "name": "stdout",
     "output_type": "stream",
     "text": [
      "do you wish to log in or register? log in\n",
      "please enter your password: hola\n",
      "do you wish to encrypt or decrypt a message? decrypt\n",
      "What text do you wish to decrypt? 0111000011110011100011011100001000001111\n"
     ]
    },
    {
     "data": {
      "text/plain": [
       "'hola'"
      ]
     },
     "execution_count": 61,
     "metadata": {},
     "output_type": "execute_result"
    }
   ],
   "source": [
    "flow()"
   ]
  },
  {
   "cell_type": "code",
   "execution_count": null,
   "metadata": {},
   "outputs": [],
   "source": []
  }
 ],
 "metadata": {
  "kernelspec": {
   "display_name": "Python 3",
   "language": "python",
   "name": "python3"
  },
  "language_info": {
   "codemirror_mode": {
    "name": "ipython",
    "version": 3
   },
   "file_extension": ".py",
   "mimetype": "text/x-python",
   "name": "python",
   "nbconvert_exporter": "python",
   "pygments_lexer": "ipython3",
   "version": "3.7.6"
  }
 },
 "nbformat": 4,
 "nbformat_minor": 4
}
