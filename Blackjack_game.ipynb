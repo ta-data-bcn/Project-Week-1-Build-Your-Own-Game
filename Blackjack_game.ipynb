{
 "cells": [
  {
   "cell_type": "markdown",
   "metadata": {},
   "source": [
    "# Blackjack"
   ]
  },
  {
   "cell_type": "code",
   "execution_count": 2,
   "metadata": {},
   "outputs": [],
   "source": [
    "import random\n",
    "import time "
   ]
  },
  {
   "cell_type": "markdown",
   "metadata": {},
   "source": [
    "### Create a deck"
   ]
  },
  {
   "cell_type": "code",
   "execution_count": 2,
   "metadata": {},
   "outputs": [],
   "source": [
    "J = 10\n",
    "K = 10\n",
    "Q = 10\n",
    "\n",
    "deck = [1,1,1,1,2,2,2,2,3,3,3,3,4,4,4,4,5,5,5,5,6,6,6,6,7,7,7,7,8,8,8,8,9,9,9,9,10,10,10,10,J,J,J,J,K,K,K,K,Q,Q,Q,Q]"
   ]
  },
  {
   "cell_type": "markdown",
   "metadata": {},
   "source": [
    "### Introduction (define player, dealer, budget and bet)"
   ]
  },
  {
   "cell_type": "code",
   "execution_count": 3,
   "metadata": {},
   "outputs": [],
   "source": [
    "def intro():\n",
    "    \n",
    "    global player\n",
    "    global dealer\n",
    "    global total_player\n",
    "    global total_dealer\n",
    "    global player_budget\n",
    "    global bet\n",
    "    global name\n",
    "    player = []\n",
    "    dealer = []\n",
    "    total_player = 0\n",
    "    total_dealer = 0\n",
    "    player_budget = \"\"\n",
    "    bet = \"\"\n",
    "    \n",
    "    print(\"Welcome to Ironhack's casino. What's your name?\")\n",
    "    name = input()\n",
    "    \n",
    "    while type(player_budget) != int:\n",
    "        print(\"Perfect \" + name + \". How much money do you have?\")\n",
    "        try:\n",
    "            player_budget = int(input())\n",
    "\n",
    "        except:\n",
    "            print(\"Sorry, you need to write a number.\")\n",
    "\n",
    "    \n",
    "\n",
    "    if player_budget >= 50:\n",
    "        print(\"Great, you will have a fruitful session.\")\n",
    "\n",
    "    elif player_budget < 50:\n",
    "        print(\"Well... it will be short...\")\n",
    "    time.sleep(2)\n",
    "    \n",
    "    while type(bet) != int:\n",
    "        print(\"Let's play! How much do you want to bet?\")\n",
    "        try:\n",
    "            bet = int(input())\n",
    "        \n",
    "        except:\n",
    "            print(\"Sorry, you need to write a number.\")\n",
    "\n",
    "    if bet > player_budget:\n",
    "        print(\"Sorry, you don't have that money\")\n",
    "        partial_bet()\n",
    "\n",
    "    else:\n",
    "        player_budget -= bet\n",
    "        print(\"Ok, your bet is \" + str(bet) + \"€. You have \" + str(player_budget) + \"€ in your budget.\")\n",
    "    "
   ]
  },
  {
   "cell_type": "markdown",
   "metadata": {},
   "source": [
    "### Partial bet (for the play again function)"
   ]
  },
  {
   "cell_type": "code",
   "execution_count": 4,
   "metadata": {},
   "outputs": [],
   "source": [
    "def partial_bet():\n",
    "    global player\n",
    "    global dealer\n",
    "    global total_player\n",
    "    global total_dealer\n",
    "    global player_budget\n",
    "    global bet\n",
    "    print(\"You have \" + str(player_budget) + \"€. How much do you want to bet?\")\n",
    "    bet = int(input())\n",
    "\n",
    "    if bet > player_budget:\n",
    "        print(\"Sorry, you don't have that money.\")\n",
    "        partial_bet()\n",
    "\n",
    "    else:\n",
    "        player_budget -= bet\n",
    "        player = []\n",
    "        dealer = []\n",
    "        total_player = 0\n",
    "        total_dealer = 0\n",
    "\n",
    "        print(\"Ok, your bet is \" + str(bet) + \"€. You still have \" + str(player_budget) + \"€ in your budget.\")"
   ]
  },
  {
   "cell_type": "markdown",
   "metadata": {},
   "source": [
    "### Card dealing and initial count"
   ]
  },
  {
   "cell_type": "code",
   "execution_count": 5,
   "metadata": {},
   "outputs": [],
   "source": [
    "def first_hand():\n",
    "    global total_player\n",
    "    global total_dealer\n",
    "    time.sleep(2)\n",
    "    print(\"I'll deal 2 cards. Please wait.\")\n",
    "    player.append(random.sample(deck,1)[0])\n",
    "    dealer.append(random.sample(deck,1)[0])\n",
    "    player.append(random.sample(deck,1)[0])\n",
    "    dealer.append(random.sample(deck,1)[0])\n",
    "    total_player = sum(player)\n",
    "    total_dealer = sum(dealer)\n",
    "    time.sleep(2)\n",
    "    print(\"You have a\", str(player[0]), \"and a\", str(player[1]) + \". Total\", str(total_player)+ \".\")\n",
    "    time.sleep(2)\n",
    "    print(\"Dealer first card is a \" + str(dealer[0]) + \".\")"
   ]
  },
  {
   "cell_type": "markdown",
   "metadata": {},
   "source": [
    "### The round"
   ]
  },
  {
   "cell_type": "code",
   "execution_count": 6,
   "metadata": {},
   "outputs": [],
   "source": [
    "def game():\n",
    "    global total_player\n",
    "    global total_dealer\n",
    "    global name\n",
    "    global player_budget\n",
    "    global bet\n",
    "    global reward\n",
    "\n",
    "    reward = 0\n",
    "    while True:\n",
    "        \n",
    "        if total_player > 21:\n",
    "            print(\"Sorry \" + name + \" you are busted.\")\n",
    "            reward = 0\n",
    "            break\n",
    "    \n",
    "        elif total_player == 21:\n",
    "            print(\"Blackjack.\" + name +  \" wins!\")\n",
    "            reward = bet*2.5\n",
    "            break\n",
    "                  \n",
    "        else:\n",
    "        \n",
    "            print(\"You count is \" + str(total_player) + \". Do you want other card?\")\n",
    "            answer = input()\n",
    "            answer = answer.lower()\n",
    "\n",
    "            if answer == \"yes\":\n",
    "                player.append(random.sample(deck,1)[0])\n",
    "                total_player = sum(player)\n",
    "                if total_player > 21:\n",
    "                    print(\"You got a \" + str(player[-1])+\", which makes \" + str(total_player) + \". So sorry \" + name +\", you are busted.\")\n",
    "                    reward = 0\n",
    "                    break\n",
    "                    \n",
    "                elif total_player == 21:\n",
    "                    if total_player == total_dealer:\n",
    "                        print(\"There is a Tie in 21\")\n",
    "                        reward = bet\n",
    "                        break\n",
    "                    else:\n",
    "                        print(\"A \" + str(player[-1]) + \"! Blackjack. \" + name +  \" wins!\")\n",
    "                        reward = bet*2.5\n",
    "                        break\n",
    "                        \n",
    "                elif total_player < 21:\n",
    "                    print(\"Great, you got a \" + str(player[-1]) + \". Your total count is \" + str(total_player) + \".\")\n",
    "\n",
    "\n",
    "            elif answer == \"no\":\n",
    "                \n",
    "                while total_dealer < 17:\n",
    "                    dealer.append(random.sample(deck,1)[0])\n",
    "                    total_dealer = sum(dealer)                   \n",
    "                \n",
    "                if total_player < 21:\n",
    "                    if total_player > total_dealer:\n",
    "                        print(\"Your count is \" + str(total_player) + \" and dealer's count is \" + str(total_dealer) + \". Congrats \" + name +\"! You are the winner!\")\n",
    "                        reward = bet*2  \n",
    "                    elif total_player < total_dealer:\n",
    "                        print(\"Your count is \" + str(total_player) + \" and dealer's count is \" + str(total_dealer) + \". I'm sorry \" + name + \", you lose.\") \n",
    "                        reward = 0\n",
    "                    else:\n",
    "                        print(\"There is a Tie with \" + str(total_dealer) + \".\")\n",
    "                        reward = bet\n",
    "                    break   \n",
    "\n",
    "\n",
    "            else:\n",
    "                    print(\"I'm sorry \" + name + \". I did not understand you.\")\n",
    "                  \n",
    "  \n",
    "        "
   ]
  },
  {
   "cell_type": "markdown",
   "metadata": {},
   "source": [
    "### Money calculus"
   ]
  },
  {
   "cell_type": "code",
   "execution_count": 7,
   "metadata": {},
   "outputs": [],
   "source": [
    "def money():\n",
    "    global player_budget\n",
    "    global reward\n",
    "    player_budget += reward\n",
    "    time.sleep(2)\n",
    "    print(\"You reward is \" + str(reward) + \"€. You current budget is \" + str(player_budget) +\"€.\")"
   ]
  },
  {
   "cell_type": "markdown",
   "metadata": {},
   "source": [
    "### Play again"
   ]
  },
  {
   "cell_type": "code",
   "execution_count": 8,
   "metadata": {},
   "outputs": [],
   "source": [
    "def play_again():\n",
    "    global total_player\n",
    "    global total_dealer\n",
    "    global name\n",
    "    global player_budget\n",
    "    global bet\n",
    "    global reward\n",
    "    global again\n",
    "    \n",
    "    if player_budget > 0:\n",
    "\n",
    "        print(\"Do you want to play again?\")\n",
    "        again = input()\n",
    "        again = again.lower()\n",
    "        if again == \"yes\":\n",
    "            partial_bet()\n",
    "            first_hand()\n",
    "            game()\n",
    "            money()\n",
    "            play_again()\n",
    "\n",
    "        elif again == \"no\":\n",
    "            print(\"Right choice, you go home with \" + str(player_budget) + \"€.\")\n",
    "\n",
    "        else:\n",
    "            print(\"Sorry, I did not understand you\")\n",
    "            play_again()\n",
    "        \n",
    "   # else:\n",
    "    #    print(\"Sorry \" + name + \", you don't have more money. Please, go home without making a scene.\")"
   ]
  },
  {
   "cell_type": "markdown",
   "metadata": {},
   "source": [
    "## Complete game!"
   ]
  },
  {
   "cell_type": "code",
   "execution_count": 9,
   "metadata": {
    "scrolled": true
   },
   "outputs": [
    {
     "name": "stdout",
     "output_type": "stream",
     "text": [
      "Welcome to Ironhack's casino. What's your name?\n",
      "Miguel\n",
      "Perfect Miguel. How much money do you have?\n",
      "90\n",
      "Great, you will have a fruitful session.\n",
      "Let's play! How much do you want to bet?\n",
      "10\n",
      "Ok, your bet is 10€. You have 80€ in your budget.\n",
      "I'll deal 2 cards. Please wait.\n",
      "You have a 10 and a 5. Total 15.\n",
      "Dealer first card is a 10.\n",
      "You count is 15. Do you want other card?\n",
      "no\n",
      "Your count is 15 and dealer's count is 21. I'm sorry Miguel, you lose.\n",
      "You reward is 0€. You current budget is 80€.\n",
      "Do you want to play again?\n",
      "no\n",
      "Right choice, you go home with 80€.\n"
     ]
    }
   ],
   "source": [
    "intro()\n",
    "first_hand()\n",
    "game()\n",
    "money()\n",
    "while player_budget > 0:\n",
    "    play_again()\n",
    "    if again == \"no\":\n",
    "        break\n",
    "if player_budget <= 0:\n",
    "    time.sleep(2)\n",
    "    print(\"Sorry \" + name + \", you don't have more money. Please, go home without making a scene.\")"
   ]
  },
  {
   "cell_type": "code",
   "execution_count": null,
   "metadata": {},
   "outputs": [],
   "source": []
  }
 ],
 "metadata": {
  "kernelspec": {
   "display_name": "Python 3",
   "language": "python",
   "name": "python3"
  },
  "language_info": {
   "codemirror_mode": {
    "name": "ipython",
    "version": 3
   },
   "file_extension": ".py",
   "mimetype": "text/x-python",
   "name": "python",
   "nbconvert_exporter": "python",
   "pygments_lexer": "ipython3",
   "version": "3.7.4"
  }
 },
 "nbformat": 4,
 "nbformat_minor": 2
}
