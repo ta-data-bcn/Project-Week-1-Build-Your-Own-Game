{
 "cells": [
  {
   "cell_type": "markdown",
   "metadata": {},
   "source": [
    "<font size=\"8\"><font color = red>**Mastermind: Escape from Moria edition**<color></font>"
   ]
  },
  {
   "cell_type": "markdown",
   "metadata": {},
   "source": [
    "Open the door before the Balrog reaches the fellowship!"
   ]
  },
  {
   "cell_type": "code",
   "execution_count": null,
   "metadata": {},
   "outputs": [],
   "source": [
    "#Mastermind colour scheme:\n",
    "color_scheme = [\"red\", \"orange\", \"green\", \"blue\", \"yellow\", \"white\", \"purple\", \"black\"]"
   ]
  },
  {
   "cell_type": "code",
   "execution_count": null,
   "metadata": {},
   "outputs": [],
   "source": [
    "import random"
   ]
  },
  {
   "cell_type": "code",
   "execution_count": null,
   "metadata": {},
   "outputs": [],
   "source": [
    "#Mastermind's choice\n",
    "ai_choices = random.sample(color_scheme, 4)"
   ]
  },
  {
   "cell_type": "markdown",
   "metadata": {},
   "source": [
    "**Enter a color from the following color scheme: blue, red, orange, black, green, yellow, white, brown**"
   ]
  },
  {
   "cell_type": "code",
   "execution_count": null,
   "metadata": {},
   "outputs": [],
   "source": [
    "def concatenator(name1, name2):\n",
    "    return name1 + \", \" + name2"
   ]
  },
  {
   "cell_type": "code",
   "execution_count": null,
   "metadata": {},
   "outputs": [],
   "source": [
    "from functools import reduce"
   ]
  },
  {
   "cell_type": "code",
   "execution_count": null,
   "metadata": {
    "scrolled": true
   },
   "outputs": [],
   "source": [
    "print(ai_choices)"
   ]
  },
  {
   "cell_type": "code",
   "execution_count": null,
   "metadata": {},
   "outputs": [],
   "source": [
    "from IPython.display import Image, display"
   ]
  },
  {
   "cell_type": "code",
   "execution_count": null,
   "metadata": {},
   "outputs": [],
   "source": [
    "from IPython.display import Markdown, display\n",
    "def printmd(string):\n",
    "    display(Markdown(string))"
   ]
  },
  {
   "cell_type": "code",
   "execution_count": null,
   "metadata": {},
   "outputs": [],
   "source": [
    "listOfImageNames0 = ['C:\\\\Users\\\\Erik\\\\ErikRepo\\\\project1\\\\Project-Week-1-Build-Your-Own-Game\\\\images\\\\moria.png']\n",
    "for imageName in listOfImageNames0:\n",
    "    display(Image(filename=imageName))\n",
    "print(\"\\n\")\n",
    "printmd(\"**After defeating Saruman, Gandalf is leading the fellowship of the ring to Mordor.\\n**\")\n",
    "printmd(\"**Their travels have brought them to the mines of Moria, the only passage available for them to follow their path to Mordor.\\n**\")\n",
    "printmd(\"**Once a propserous stronghold for dwarves, it has now been conquered, and the fellowship is ambushed by goblins.\\n**\")\n",
    "printmd(\"**When the situation couldn't be any more desperate, Gandalf's worst fear comes true.\\n The goblins scatter and go back to their hiding spot in fear of what's coming....\\n**\")\n",
    "printmd(\"**-Frodo: What's going on, Gandalf!?\\n**\")\n",
    "printmd(\"**-Gandalf: A creature is lurking in the shadows. A monster as evil as the depths of hell and as old as time itself, the Balrog of Morgoth... Run!\\n**\")\n",
    "\n",
    "\n",
    "listOfImageNames1 = ['C:\\\\Users\\\\Erik\\\\ErikRepo\\\\project1\\\\Project-Week-1-Build-Your-Own-Game\\\\images\\\\Balrog.jpg']\n",
    "listOfImageNames2 = ['C:\\\\Users\\\\Erik\\\\ErikRepo\\\\project1\\\\Project-Week-1-Build-Your-Own-Game\\\\images\\\\fly.jpg']\n",
    "number_of_tries = 0\n",
    "wrong_colors0 = 0\n",
    "correct_colors0 = 0\n",
    "close_wrong0 = 0\n",
    "Gimly_voiceline1 = (\"**-Gimly: I still don't know why you won't let me break it with my axe. \\n Legloas: You couldn't break a ring\\nyou think you can break a 10.000 year old door?\\n Gimly: You're right, this ain't no Elf door, my cousins built this.\\n**\")\n",
    "Gimly_voiceline2 = (\"**-Gimly: Gandalf, why exactly couldn't we fly on those huge eagles to Mordor?\\n**\")\n",
    "Legolas_voiceline1 = (\"**-Legolas: Gandalf, why don't you let me have a try? \\n -Gimly: I'd rather die in these mountains than\\nwatching an Elf open a dwarven door.\\n**\")\n",
    "Legolas_voiceline2 = (\"**-Legolas: My elf eyes see that we are absolutely f@!#ed if you don't open that door Gandalf!\\n***\")\n",
    "Frodo_voiceline1 = (\"**-Frodo: It's alright guys, I was never reaching Mordor anyways...\\n**\")\n",
    "Aragorn_voiceline1 = (\"**-Aragorn: I should've stayed in Rivendell with Arwen.\\n**\")\n",
    "Boromir_voiceline1 = (\"**-Boromir: Frodo, can I borrow that ring of yours for a couple minutes?\\n**\")\n",
    "voicelines = [Gimly_voiceline1, Gimly_voiceline2, Legolas_voiceline1, Legolas_voiceline2, Frodo_voiceline1, Aragorn_voiceline1, Boromir_voiceline1]\n",
    "\n",
    "print(\"As Gandalf and the rest of the fellowship are making their escape through the mines of Moria, only an old door stands between\\nthe fellowship and the exit of the mountain. Gandalf inspects the door and discovers a hidden mechanism and 8 shiny gems of\\ndifferent colors. Gandalf has seen this old spell before, if he pushes 4 gems out of the 8 in the correct order, the door will open.\\nHelp Gandalf escape!\")\n",
    "print(\"Choose a gem color between \" + reduce(concatenator, color_scheme) + \" to get the correct combination before the \\n Balrog reaches you!.\\n\")\n",
    "\n",
    "player_choice1 = input(\"Enter gem color 1: \")\n",
    "while player_choice1 not in color_scheme:\n",
    "    try: \n",
    "            player_choice1 = input(\"-Aragorn: We have no time for silly games Gandalf, get us out of here! Pick a gem: \")\n",
    "    except:\n",
    "            print(\"That's not a valid color, please try again.\")\n",
    "player_choice2 = input(\"Enter gem color 2: \")\n",
    "while player_choice2 not in color_scheme:    \n",
    "    try: \n",
    "            player_choice2 = input(\"-Aragorn: We have no time for silly games Gandalf, get us out of here! Pick a gem: \")\n",
    "    except:\n",
    "            print(\"That's not a valid color, please try again.\")\n",
    "player_choice3 = input(\"Enter gem color 3: \")\n",
    "while player_choice3 not in color_scheme:    \n",
    "    try: \n",
    "            player_choice3 = input(\"-Aragorn: We have no time for silly games Gandalf, get us out of here! Pick a gem: \")\n",
    "    except:            \n",
    "            print(\"That's not a valid color, please try again.\")\n",
    "player_choice4 = input(\"Enter gem color 4: \")\n",
    "while player_choice4 not in color_scheme:    \n",
    "    try: \n",
    "            player_choice4 = input(\"-Aragorn: We have no time for silly games Gandalf, get us out of here! Pick a gem: \")\n",
    "    except:\n",
    "            print(\"That's not a valid color, please try again.\")\n",
    "player_choices = [player_choice1, player_choice2, player_choice3, player_choice4]\n",
    "print(\"Gandalf chooses \" + reduce(concatenator, player_choices) + \" as gem colors.\")\n",
    "for index in range(len(player_choices)):\n",
    "    if player_choices[index] not in ai_choices:\n",
    "        wrong_colors0 += 1\n",
    "    elif player_choices[index] == ai_choices[index]:\n",
    "        correct_colors0 += 1\n",
    "    elif player_choices[index] in ai_choices:\n",
    "        close_wrong0 += 1\n",
    "print(\"\\n\")        \n",
    "print(\"-Gandalf:\", wrong_colors0, \"colors wrong! We better get them right next time if we want to get out alive!\")\n",
    "print(\"-Gandalf:\", close_wrong0, \"colors are correct but they're in the wrong position, I can almost feel the Balrog's breath in my neck.\")\n",
    "print(\"-Gandalf:\", correct_colors0 ,\"correct! Why did the dwarves have to make it so hard!?\")\n",
    "print(\"The door remains closed, hurry up or the Balrog will reach the fellowship!\")\n",
    "for imageName in listOfImageNames1:\n",
    "        display(Image(filename=imageName))\n",
    "\n",
    "while player_choices != ai_choices:\n",
    "    print(\"Choose one of these \" + reduce(concatenator, color_scheme) + \" gem colors to get the combination that will \\ntake you out of the Balrog's reach!\")\n",
    "    wrong_colors1 = 0\n",
    "    correct_colors1 = 0\n",
    "    close_wrong1 = 0\n",
    "    player_choice1 = input(\"Enter gem color 1: \")\n",
    "    while player_choice1 not in color_scheme:\n",
    "        try: \n",
    "            player_choice1 = input(\"-Aragorn: We have no time for silly games Gandalf, get us out of here! Pick a gem: \")\n",
    "        except:\n",
    "            print(\"That's not a valid color, please try again.\")\n",
    "    player_choice2 = input(\"Enter gem color 2: \")\n",
    "    while player_choice2 not in color_scheme:    \n",
    "        try: \n",
    "            player_choice2 = input(\"-Aragorn: We have no time for silly games Gandalf, get us out of here! Pick a gem: \")\n",
    "        except:\n",
    "            print(\"That's not a valid color, please try again.\")\n",
    "    player_choice3 = input(\"Enter gem color 3: \")\n",
    "    while player_choice3 not in color_scheme:    \n",
    "        try: \n",
    "            player_choice3 = input(\"-Aragorn: We have no time for silly games Gandalf, get us out of here! Pick a gem: \")\n",
    "        except:            \n",
    "            print(\"That's not a valid color, please try again.\")\n",
    "    player_choice4 = input(\"Enter gem color 4: \")\n",
    "    while player_choice4 not in color_scheme:    \n",
    "        try: \n",
    "            player_choice4 = input(\"-Aragorn: We have no time for silly games Gandalf, get us out of here! Pick a gem: \")\n",
    "        except:\n",
    "            print(\"That's not a valid color, please try again.\")\n",
    "    player_choices = [player_choice1, player_choice2, player_choice3, player_choice4]\n",
    "    print(\"Gandalf chooses \" + reduce(concatenator, player_choices) + \" as gem colors.\")\n",
    "    for index in range(len(player_choices)):\n",
    "        if player_choices[index] not in ai_choices:\n",
    "            wrong_colors1 += 1\n",
    "        elif player_choices[index] == ai_choices[index]:\n",
    "            correct_colors1 += 1\n",
    "        elif player_choices[index] in ai_choices:\n",
    "            close_wrong1 += 1\n",
    "    if correct_colors1 <4:\n",
    "        print(\"\\n\")\n",
    "        print(\"-Gandalf:\", wrong_colors1, \"colors wrong! We better get them right next time if we want to get out alive!\")\n",
    "        print(\"-Gandalf:\", close_wrong1, \"colors are correct but they're in the wrong position, I can almost feel the Balrog's breath in my neck.\")\n",
    "        print(\"-Gandalf:\", correct_colors1 ,\"correct! Why did the dwarves have to make it so hard!?\")\n",
    "        print(\"\\n-The door remains closed, hurry up or the Balrog will reach the fellowship.\")\n",
    "    for imageName in listOfImageNames1:\n",
    "        display(Image(filename=imageName))\n",
    "    printmd(random.choice(voicelines))\n",
    "\n",
    "    number_of_tries += 1\n",
    "    if number_of_tries > 8:\n",
    "        printmd(\"*The Barlog has reached the fellowship before Gandalf could open the door, a fierce battle is ahead, the result will be tragic... The future of Middle Earth has come to an end.\")\n",
    "        break        \n",
    "        \n",
    "            \n",
    "if player_choices == ai_choices:\n",
    "    printmd(\"**-Frodo: Wait! Look!\\n**\")\n",
    "    printmd(\"**The door lights up as the fellowship stares in awe, it opens up to a bridge that will bring the fellowshit to the exit.\\n**\")\n",
    "    printmd(\"**-Gandalf: Run! The Balrog is getting closer!\\n**\")\n",
    "    printmd(\"**As the fellowship is crossing the bridge, the Balrog reaches our heroes. Gandalf, aware of the danger of the situation, turns back at the creature and conjures a spell:\\n**\")\n",
    "    printmd(\"**-Gandalf: I am the servant of the Secret Fire, wielder of the Flame of Anor… The dark fire will not avail you! Flame of Udûn! YOU SHALL NOT PASS!\\n**\")\n",
    "    printmd(\"**Gandalf destroys the bridge the Balrog, is standing on, leaving the creature behind. Suddenly, a fire whip strikes Gandalf, and Balrog drags him to the abyss of Moria... \\n**\")\n",
    "    printmd(\"**As Gandalf falls to the depths of Moria with the Balrog, he whispers his last piece of advice for the fellowship:\\n**\")\n",
    "    printmd(\"**-Gandalf: Fly, you fools!\\n**\")\n",
    "    for imageName in listOfImageNames2:\n",
    "        display(Image(filename=imageName))\n",
    "        "
   ]
  },
  {
   "cell_type": "code",
   "execution_count": null,
   "metadata": {},
   "outputs": [],
   "source": []
  },
  {
   "cell_type": "code",
   "execution_count": null,
   "metadata": {},
   "outputs": [],
   "source": []
  }
 ],
 "metadata": {
  "kernelspec": {
   "display_name": "Python 3",
   "language": "python",
   "name": "python3"
  },
  "language_info": {
   "codemirror_mode": {
    "name": "ipython",
    "version": 3
   },
   "file_extension": ".py",
   "mimetype": "text/x-python",
   "name": "python",
   "nbconvert_exporter": "python",
   "pygments_lexer": "ipython3",
   "version": "3.8.6"
  }
 },
 "nbformat": 4,
 "nbformat_minor": 4
}
