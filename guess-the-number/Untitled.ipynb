{
 "cells": [
  {
   "cell_type": "code",
   "execution_count": 13,
   "metadata": {},
   "outputs": [],
   "source": [
    "import random"
   ]
  },
  {
   "cell_type": "code",
   "execution_count": 14,
   "metadata": {},
   "outputs": [],
   "source": [
    "correct=random.sample(range(10),1)"
   ]
  },
  {
   "cell_type": "code",
   "execution_count": null,
   "metadata": {},
   "outputs": [
    {
     "name": "stdout",
     "output_type": "stream",
     "text": [
      "Choose a number between 1 and 10: 1\n",
      "Choose a number between 1 and 10: 2\n",
      "Choose a number between 1 and 10: 3\n",
      "Choose a number between 1 and 10: 4\n",
      "Choose a number between 1 and 10: 5\n",
      "Choose a number between 1 and 10: 6\n",
      "Choose a number between 1 and 10: 7\n",
      "Choose a number between 1 and 10: 8\n",
      "Choose a number between 1 and 10: 9\n",
      "Choose a number between 1 and 10: 10\n"
     ]
    }
   ],
   "source": [
    "number=int(input(\"Choose a number between 1 and 10: \"))\n",
    "while number!=correct:\n",
    "    number==int(input(\"Choose a number between 1 and 10: \"))\n",
    "    if number==correct:\n",
    "        print(\"You win!\")\n",
    "if number==correct:\n",
    "    print(\"You win!\")\n",
    "number"
   ]
  },
  {
   "cell_type": "code",
   "execution_count": null,
   "metadata": {},
   "outputs": [],
   "source": []
  }
 ],
 "metadata": {
  "kernelspec": {
   "display_name": "Python 3",
   "language": "python",
   "name": "python3"
  }
 },
 "nbformat": 4,
 "nbformat_minor": 4
}
