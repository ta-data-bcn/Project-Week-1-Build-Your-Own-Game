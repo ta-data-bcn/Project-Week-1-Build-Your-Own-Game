{
 "cells": [
  {
   "cell_type": "markdown",
   "metadata": {},
   "source": [
    "<br>\n",
    "\n",
    "# GUESS THE ANIMAL: step by step   \n",
    " \n",
    "***"
   ]
  },
  {
   "cell_type": "markdown",
   "metadata": {},
   "source": [
    "## Rules:\n",
    "- You have **3 guesses** per animal\n",
    "- You get asked **3 questions** for extra information to guess the animal\n",
    "- You can have a **final hint** after the questions\n",
    "- The quicker you guess it right, the more points you get"
   ]
  },
  {
   "cell_type": "markdown",
   "metadata": {},
   "source": [
    "### Step 1: create a dictionary with the animals and the answers for the questions."
   ]
  },
  {
   "cell_type": "code",
   "execution_count": 21,
   "metadata": {},
   "outputs": [],
   "source": [
    "#Animal dictionary follows the structure key=name_animal:value=ls(inv/vert,phylum,habitat,characteristic)\n",
    "Animals={\n",
    "    \"jellyfish\":[\"invertebrate\",\"cnidaria\",\"marine\",\"it stings\"],\n",
    "    \"coral\":[\"invertebrate\",\"cnidaria\",\"marine\",\"it is found in the Great barrier reef\"],\n",
    "    \"sponge\":[\"invertebrate\",\"porifera\",\"marine\",\"who lives in a pineapple under the sea?\"],\n",
    "    \"earthworm\":[\"invertebrate\",\"anellida\",\"terrestrial\",\"it is long and slimy\"],\n",
    "    \"octopus\":[\"invertebrate\",\"molusca\",\"marine\",\"it has many many arms\"],\n",
    "    \"nautilus\":[\"invertebrate\",\"molusca\",\"marine\",\"it lives 800m below sea level\"],\n",
    "    \"snail\":[\"invertebrate\",\"molusca\",\"terrestrial\",\"it drools\"],\n",
    "    \"ladybug\":[\"invertebrate\",\"arthropoda\",\"terrestrial\",\"it is red with black dots\"],\n",
    "    \"dragonfly\":[\"invertebrate\",\"arthropoda\",\"terrestrial\",\"it has a long tail\"],\n",
    "    \"grasshopper\":[\"invertebrate\",\"arthropoda\",\"terrestrial\",\"it loves to jump\"],\n",
    "    \"silkworm\":[\"invertebrate\",\"arthropoda\",\"terrestrial\",\"it is very valued in China\"],\n",
    "    \"urchin\":[\"invertebrate\",\"echinodermata\",\"marine\",\"it has spikes\"],\n",
    "    \"starfish\":[\"invertebrate\",\"echinodermata\",\"marine\",\"it tends to have 5 arms\"],\n",
    "    \"butterfly\":[\"invertebrate\",\"arthropoda\",\"terrestrial\",\"it is an insect that flies\"],\n",
    "    \"nudibranch\":[\"invertebrate\",\"echinodermata\",\"marine\",\"it is a type of seaslug\"],\n",
    "    \"platypus\": [\"vertebrate\",\"mammal\",\"terrestrial\",\"it lays eggs\"],\n",
    "    \"chimpanzee\":[\"vertebrate\",\"mammal\",\"terrestrial\",\"it resembles humans\"],\n",
    "    \"salamander\":[\"vertebrate\",\"amphibian\",\"terrestrial\",\"it looks like a lizard but it's not a reptile\"],\n",
    "    \"anteater\":[\"vertebrate\",\"mammal\",\"terrestrial\",\"it has a long nose to eat insects\"],\n",
    "    \"sloth\":[\"vertebrate\",\"mammal\",\"terrestrial\",\"life is hard so it takes it slow\"],\n",
    "    \"tortoise\":[\"vertebrate\",\"reptile\",\"terrestrial\",\"it has its house on its back\"],\n",
    "    \"crocodile\":[\"vertebrate\",\"reptile\",\"aquatic\",\"it has lots of teeth\"],\n",
    "    \"lizard\":[\"vertebrate\",\"reptile\",\"terrestrial\",\"it can lose its tail (but it cannot regrow it forever)\"],\n",
    "    \"shark\":[\"vertebrate\",\"fish\",\"marine\",\"it might kill you and eat you but probably won't\"],\n",
    "    \"goldfish\":[\"vertebrate\",\"fish\",\"marine\",\"it is an orange pet\"],\n",
    "    \"pufferfish\":[\"vertebrate\",\"fish\",\"marine\",\"3,2,1 and it is a baloon\"],\n",
    "    \"seagull\":[\"vertebrate\",\"bird\",\"terrestrial\",\"it likes to eat fish\"],\n",
    "    \"toad\":[\"vertebrate\",\"amphibian\",\"terrestrial\",\"kiss it and you might get a prince\"],\n",
    "    \"penguin\":[\"vertebrate\",\"bird\",\"terrestrial\",\"it cannot fly but swims wonderfully\"],\n",
    "    \"hummingbird\":[\"vertebrate\",\"bird\",\"terrestrial\",\"it can fly in any direction, even backwards\"]\n",
    "}\n",
    "\n"
   ]
  },
  {
   "cell_type": "markdown",
   "metadata": {},
   "source": [
    "### Step 2: get the scrambled name of an animal"
   ]
  },
  {
   "cell_type": "code",
   "execution_count": null,
   "metadata": {},
   "outputs": [],
   "source": [
    "#get a random animal, scramble its letters and store the info of the animal for later use\n",
    "import random\n",
    "name=random.choice(animal_names) #gets a random animal name\n",
    "rand_name=\"\".join(random.sample(name,len(name))) # scrambles the name of the animal chosen\n",
    "answer=Animals.get(name) # stores the answers of that animal in a list\n",
    "\n",
    "#game(part 1): scrambled name display and first guess\n",
    "\n",
    "print(\"\\n\",rand_name,\"\\n\")\n",
    "guesses=0\n",
    "init_guess=input(\"Can you guess the animal?(yes or no): \").lower()\n",
    "while init_guess!= \"yes\" and init_guess!= \"no\":\n",
    "    init_guess=input(\"Can you guess the animal?(yes or no): \").lower()\n",
    "    print(1)\n",
    "else:\n",
    "    if init_guess==\"yes\":\n",
    "        guess1=input(\"\\nIntroduce the name of the animal: \").lower()\n",
    "        guesses+=1\n",
    "        \n",
    "        if guess1==name:\n",
    "            print(\"\\nBrilliant! You got it right! That is what I call a Jack of all trades\")\n",
    "        else:\n",
    "            print(\"\\nNot quite the answer we were looking for...\")\n",
    "            guess1_2=input(\"\\nKeep guessing,otherwise type 'no': \").lower()\n",
    "            guesses+=1\n",
    "            \n",
    "            while guess1_2!=\"no\" and guesses<3:\n",
    "                if guess1_2==name:\n",
    "                    print(\"\\nGood job! now you got it right\")   \n",
    "                else:\n",
    "                    guess1_2=input(\"\\nKeep guessing,otherwise type 'no': \").lower()\n",
    "                    guesses+=1       \n",
    "            else: \n",
    "                if guess1_2==\"no\":\n",
    "                    print(\"\\nLet's start the question round!\")\n",
    "                elif guesses>=3:\n",
    "                    print(\"\\nYou have no more guesses and lost the game, the animal was: {}\".format(name))     \n",
    "               \n",
    "    else:\n",
    "        print(\"\\nLet's start the question round then!\")"
   ]
  },
  {
   "cell_type": "markdown",
   "metadata": {},
   "source": [
    "### Step 3: questions and intro"
   ]
  },
  {
   "cell_type": "markdown",
   "metadata": {},
   "source": [
    "- **Question 1**: Vertebrate or Invertebrate? answer \"V\" or \"I\" (True or False)<br>\n",
    "- **Question 2**: <br>\n",
    "    - A) if **Vertebrate**: Fish,Amphibian,Reptile,Bird or Mammal? answer \"F\",\"A\",\"R\",\"B\" or \"M\" (True or False)<br>\n",
    "    - B) if **Invertebrate**: Which phylum it belongs to? Cnidarian, Porifera, Anellida, Arhtropoda,<br> Echinodermata or Molusca? \"C\",\"P\",\"A\",\"Ar\",\"E\" Or \"M\" (True or False)\n",
    "- **Question 3**: Is it Terrestrial, Marine or Aquatic? \"T\",\"M\" or \"A\" (True or False)<br>\n",
    "- **Hint**:it will be displayed, the user doesn't have to input anything<br>"
   ]
  },
  {
   "cell_type": "code",
   "execution_count": null,
   "metadata": {},
   "outputs": [],
   "source": [
    "#guessing code\n",
    "#remember to change the guess number!!\n",
    "if guesses<3: \n",
    "    guess3=input(\"\\nWanna guess the animal? if yes type the animal name,otherwise type 'no': \").lower()\n",
    "while guess3!=\"no\" and guesses<3:\n",
    "    if guess3==name:\n",
    "        print(\"\\nGood job! now you got it right\")\n",
    "        break\n",
    "    else:\n",
    "        guess3=input(\"\\nKeep guessing,otherwise type 'no': \").lower()\n",
    "        guesses+=1       \n",
    "else: \n",
    "    if guess3==\"no\":\n",
    "        print(\"\\nLet's start the question round!\")\n",
    "    elif guesses>=3:\n",
    "        print(\"\\nYou have no more guesses and lost the game, the animal was: {}\".format(name))     \n",
    "               "
   ]
  },
  {
   "cell_type": "markdown",
   "metadata": {},
   "source": [
    "#### Question 1"
   ]
  },
  {
   "cell_type": "code",
   "execution_count": null,
   "metadata": {},
   "outputs": [],
   "source": [
    "tries=0\n",
    "\n",
    "question1=input(\"Is the animal Vertebrate or Invertebrate?: \").lower()\n",
    "while question1!=answer[0]:\n",
    "    question1=input(\"Try again!Vertebrate or Invertebrate?: \").lower()\n",
    "    tries+=1\n",
    "else:\n",
    "    print(\"Correct!\")\n",
    "    tries+=1"
   ]
  },
  {
   "cell_type": "markdown",
   "metadata": {},
   "source": [
    "#### Question 2"
   ]
  },
  {
   "cell_type": "code",
   "execution_count": null,
   "metadata": {},
   "outputs": [],
   "source": [
    "\n",
    "if answer[0]==\"vertebrate\":\n",
    "    question2=input(\"Is it a Fish,an Amphibian,a Reptile,a Bird or a Mammal?: \").lower()\n",
    "    while question1!=answer[1]:\n",
    "        question2=input(\"Try again! Fish,Amphibian,Reptile,Bird or Mammal?: \").lower()\n",
    "        tries+=1\n",
    "    else:\n",
    "        print(\"Correct!\")\n",
    "        tries+=1\n",
    "elif answer[0]==\"invertebrate\":\n",
    "    question2=input(\"Which Phylum it belongs to? Cnidaria, Porifera, Anellida, Arhtropoda, Echinodermata or Molusca?: \").lower()\n",
    "    while question2!=answer[1]:\n",
    "        question2=input(\"Try again! Cnidaria, Porifera, Anellida, Arhtropoda, Echinodermata or Molusca?: \").lower()\n",
    "        tries+=1\n",
    "    else:\n",
    "        print(\"Correct!\")\n",
    "        tries+=1"
   ]
  },
  {
   "cell_type": "markdown",
   "metadata": {},
   "source": [
    "#### Question 3"
   ]
  },
  {
   "cell_type": "code",
   "execution_count": null,
   "metadata": {},
   "outputs": [],
   "source": [
    "question3=input(\"Is it a Terrestrial, a Marine or an Aquatic animal?: \").lower()\n",
    "while question3!=answer[2]:\n",
    "    question3=input(\"Try again!Terrestrial, Marine or Aquatic?: \").lower()\n",
    "    tries+=1\n",
    "else:\n",
    "    print(\"Correct!\")\n",
    "    tries+=1"
   ]
  },
  {
   "cell_type": "markdown",
   "metadata": {},
   "source": [
    "### Step 4: extra hint"
   ]
  },
  {
   "cell_type": "code",
   "execution_count": null,
   "metadata": {},
   "outputs": [],
   "source": [
    "hint=answer[3]\n",
    "print(hint)"
   ]
  },
  {
   "cell_type": "markdown",
   "metadata": {},
   "source": [
    "### Step 5: put the game together"
   ]
  },
  {
   "cell_type": "code",
   "execution_count": 42,
   "metadata": {},
   "outputs": [],
   "source": [
    "def guess_the_animal (animal_dict):\n",
    "    \n",
    "    global step1\n",
    "    global tries1\n",
    "    global guesses1\n",
    "    \n",
    "    import random\n",
    "    animal_names=[i for i in animal_dict.keys()]\n",
    "    name=random.choice(animal_names) \n",
    "    rand_name=\"\".join(random.sample(name,len(name)))\n",
    "    answer=animal_dict.get(name) \n",
    "\n",
    "    #scrambled name \n",
    "     \n",
    "    print(\"\\n\",rand_name,\"\\n\")\n",
    "    \n",
    "    guesses1=0\n",
    "    tries1=0\n",
    "    step1=0\n",
    "    \n",
    "    init_guess=input(\"Can you guess the animal?(yes or no): \").lower()\n",
    "    while init_guess!= \"yes\" and init_guess!= \"no\":\n",
    "        init_guess=input(\"Can you guess the animal?(yes or no): \").lower()\n",
    "\n",
    "    else:\n",
    "        if init_guess==\"yes\":\n",
    "            guess1=input(\"\\nIntroduce the name of the animal: \").lower()\n",
    "            guesses1+=1\n",
    "        \n",
    "            if guess1==name:\n",
    "                guesses1+=1\n",
    "                return(\"Brilliant! You got it right! That is what I call a Jack of all trades\")\n",
    "                \n",
    "            else:\n",
    "                print(\"\\nNot quite the answer we were looking for...\")\n",
    "                guess2=input(\"\\nKeep guessing,otherwise type 'no': \").lower()\n",
    "                \n",
    "            \n",
    "                while guess2!=\"no\" and guesses1<2:\n",
    "                    if guess2==name:\n",
    "                        guesses1+=1\n",
    "                        return (\"Good job! now you got it right\")\n",
    "                        \n",
    "                    else:\n",
    "                        guess2=input(\"\\nKeep guessing,otherwise type 'no': \").lower()\n",
    "                        guesses1+=1\n",
    "                else: \n",
    "                    if guess2==\"no\":\n",
    "                        print(\"\\nLet's start the question round!\")\n",
    "                    elif guesses1>=2:\n",
    "                        return(\"You have no more guesses and lost the game, the animal was: {}\".format(name))     \n",
    "               \n",
    "        else:\n",
    "             print(\"\\nLet's start the question round then!\")\n",
    "    \n",
    "    \n",
    "   \n",
    "   \n",
    "\n",
    "    question1=input(\"Is the animal Vertebrate or Invertebrate?: \").lower()\n",
    "    while question1!=answer[0]:\n",
    "        question1=input(\"Try again!Vertebrate or Invertebrate?: \").lower()\n",
    "        tries1+=1\n",
    "    else:\n",
    "        print(\"\\nCorrect!\")\n",
    "        tries1+=1\n",
    "    \n",
    "    #guessing code\n",
    "    if guesses1<3: \n",
    "        guess3=input(\"\\nWanna guess the animal again? if yes type the animal name,otherwise type 'no': \").lower()\n",
    "\n",
    "        while guess3!=\"no\" and guesses1<2:\n",
    "            if guess3==name:\n",
    "                guesses1+=1\n",
    "                return (\"Good job! now you got it right\")\n",
    "            else:\n",
    "                guess3=input(\"\\nKeep guessing,otherwise type 'no': \").lower()\n",
    "                guesses1+=1       \n",
    "        else: \n",
    "            if guess3==\"no\":\n",
    "                print(\"\\nLet's go to question 2 then!\")\n",
    "            elif guesses1>=2:\n",
    "                return(\"You have no more guesses and lost the game, the animal was: {}\".format(name)) \n",
    "                \n",
    "    step1=1\n",
    "               \n",
    "    #Question 2\n",
    "    if answer[0]==\"vertebrate\":\n",
    "        question2=input(\"Is it a Fish,an Amphibian,a Reptile,a Bird or a Mammal?: \").lower()\n",
    "        while question2!=answer[1]:\n",
    "            question2=input(\"Try again! Fish,Amphibian,Reptile,Bird or Mammal?: \").lower()\n",
    "            tries1+=1\n",
    "        else:\n",
    "            print(\"\\nCorrect!\")\n",
    "            tries1+=1\n",
    "    elif answer[0]==\"invertebrate\":\n",
    "        question2=input(\"Which Phylum it belongs to? Cnidaria, Porifera, Anellida, Arhtropoda, Echinodermata or Molusca?: \").lower()\n",
    "        while question2!=answer[1]:\n",
    "            question2=input(\"Try again! Cnidaria, Porifera, Anellida, Arhtropoda, Echinodermata or Molusca?: \").lower()\n",
    "            tries1+=1\n",
    "        else:\n",
    "            print(\"Correct!\")\n",
    "            tries1+=1\n",
    "\n",
    "    #guessing code again\n",
    "    if guesses1<3: \n",
    "        guess4=input(\"\\nWanna guess the animal again? if yes type the animal name,otherwise type 'no': \").lower()\n",
    "\n",
    "        while guess4!=\"no\" and guesses1<2:\n",
    "            if guess4==name:\n",
    "                guesses1+=1\n",
    "                return (\"Good job! now you got it right\")\n",
    "                \n",
    "            else:\n",
    "                guess4=input(\"\\nKeep guessing,otherwise type 'no': \").lower()\n",
    "                guesses1+=1       \n",
    "        else: \n",
    "            if guess4==\"no\":\n",
    "                print(\"\\nLet's go to question 3 then!\")\n",
    "            elif guesses1>=2:\n",
    "                return(\"You have no more guesses and lost the game, the animal was: {}\".format(name))\n",
    "    step1=2\n",
    "    \n",
    "    #Question 3\n",
    "    question3=input(\"Is it a Terrestrial, a Marine or an Aquatic animal?: \").lower()\n",
    "    while question3!=answer[2]:\n",
    "        question3=input(\"Try again!Terrestrial, Marine or Aquatic?: \").lower()\n",
    "        tries1+=1\n",
    "    else:\n",
    "        print(\"\\nCorrect!\")\n",
    "        tries1+=1\n",
    "\n",
    "    #Guessing code once more\n",
    "    if guesses1<3: \n",
    "        guess5=input(\"\\nWanna guess the animal again? if yes type the animal name,otherwise type 'no': \").lower()\n",
    "        \n",
    "        while guess5!=\"no\" and guesses1<2:\n",
    "            if guess5==name:\n",
    "                guesses1+=1\n",
    "                return (\"Good job! now you got it right\")\n",
    "                \n",
    "            else:\n",
    "                guess5=input(\"\\nKeep guessing,otherwise type 'no': \").lower()\n",
    "                guesses1+=1       \n",
    "        else: \n",
    "            if guess5==\"no\":\n",
    "                print(\"\\nThe hint is your last chance!\")\n",
    "            elif guesses1>=2:\n",
    "                return(\"You have no more guesses and lost the game, the animal was: {}\".format(name))\n",
    "    \n",
    "    step1=3\n",
    "    #Hint\n",
    "    hint=answer[3]\n",
    "    print(\"Hint: \",hint)\n",
    "\n",
    "    #Last Guessing code\n",
    "    if guesses1<3: \n",
    "        guess5=input(\"\\nGuess the animal: \").lower()\n",
    "        guesses1+=1\n",
    "        while guesses1<3:\n",
    "            if guess5==name:\n",
    "                guesses1+=1\n",
    "                return(\"Horray!!! You finally got it right\")\n",
    "            else:\n",
    "                guesses1+=1\n",
    "                print(guesses1)\n",
    "                guess5=input(\"\\nKeep guessing: \").lower()\n",
    "                       \n",
    "        else: \n",
    "                return(\"You are out of guesses and lost the game, the animal was: {}\".format(name))\n",
    "    step1=4\n",
    "       "
   ]
  },
  {
   "cell_type": "markdown",
   "metadata": {},
   "source": [
    "### Step 6: points"
   ]
  },
  {
   "cell_type": "code",
   "execution_count": 4,
   "metadata": {},
   "outputs": [],
   "source": [
    "def points():\n",
    "    \n",
    "    #the structure of the dict points is key=tries and value=points\n",
    "    global tries1\n",
    "    global guesses1\n",
    "    global step1\n",
    "    #Questions MAX 16 MIN 3\n",
    "    tries_points=[i for i in range(0,17)]\n",
    "    points_tries=[i+2 for i in range(17)][::-1]\n",
    "    tries_p=dict(zip(tries_points,points_tries))\n",
    "\n",
    "    #Guesses MAX 3 MIN 1 --> more guesses less points\n",
    "    guesses_points=[1,2,3]\n",
    "    points_guesses=[30,20,10]\n",
    "    guesses_p=dict(zip(guesses_points,points_guesses))\n",
    "\n",
    "    #Steps MIN 0 MAX 5 --> more steps less points\n",
    "    step_points=[0,1,2,3,4]\n",
    "    points_step=[100,60,30,10,5]\n",
    "    step_p=dict(zip(step_points,points_step))\n",
    "    \n",
    "    points=(tries_p.get(tries1))+(guesses_p.get(guesses1))+(step_p.get(step1))\n",
    "    print(\"\\nYou got\",points,\"points........ and the misterious animal is no more!!\")\n"
   ]
  },
  {
   "cell_type": "markdown",
   "metadata": {},
   "source": [
    "### Step 7: GAME"
   ]
  },
  {
   "cell_type": "code",
   "execution_count": null,
   "metadata": {},
   "outputs": [
    {
     "name": "stdout",
     "output_type": "stream",
     "text": [
      "\n",
      " nmmruiihdbg \n",
      "\n",
      "Can you guess the animal?(yes or no): no\n",
      "\n",
      "Let's start the question round then!\n",
      "Is the animal Vertebrate or Invertebrate?: vertebrate\n",
      "\n",
      "Correct!\n",
      "\n",
      "Wanna guess the animal again? if yes type the animal name,otherwise type 'no': no\n",
      "\n",
      "Let's go to question 2 then!\n"
     ]
    }
   ],
   "source": [
    "guess_the_animal(Animals)"
   ]
  },
  {
   "cell_type": "code",
   "execution_count": 36,
   "metadata": {},
   "outputs": [
    {
     "name": "stdout",
     "output_type": "stream",
     "text": [
      "2 2 3\n",
      "\n",
      "You got 65 points........ and the misterious animal is no more!!\n"
     ]
    }
   ],
   "source": [
    "print(guesses1,step1,tries1)\n",
    "points()"
   ]
  }
 ],
 "metadata": {
  "kernelspec": {
   "display_name": "Python 3",
   "language": "python",
   "name": "python3"
  },
  "language_info": {
   "codemirror_mode": {
    "name": "ipython",
    "version": 3
   },
   "file_extension": ".py",
   "mimetype": "text/x-python",
   "name": "python",
   "nbconvert_exporter": "python",
   "pygments_lexer": "ipython3",
   "version": "3.8.3"
  }
 },
 "nbformat": 4,
 "nbformat_minor": 4
}
