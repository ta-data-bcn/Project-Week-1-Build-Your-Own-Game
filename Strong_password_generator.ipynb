{
 "cells": [
  {
   "cell_type": "markdown",
   "metadata": {},
   "source": [
    "# Strong Password Generator"
   ]
  },
  {
   "cell_type": "markdown",
   "metadata": {},
   "source": [
    "#### Andreu Carreño Mateu\n",
    "#### Data analytics, Barcelona, 03/04/20\n"
   ]
  },
  {
   "cell_type": "markdown",
   "metadata": {},
   "source": [
    "### User instructions:\n",
    "#### This program will create a strong password for you. To ensure the safety of the password It will have the following requirements:\n",
    "\n",
    "- It will be at least 15 characters long\n",
    "- It will contain at least one 'uppercase letter'\n",
    "- It will contain at least one 'lowercase letter'\n",
    "- It will contain at least one number\n",
    "- It will contain at least one Sybmol \n",
    "- It won't be any word in the dictionary\n",
    "- It won't be a keyboard pattern\n",
    "\n",
    "    "
   ]
  },
  {
   "cell_type": "markdown",
   "metadata": {},
   "source": [
    "#### #Here we import the needed libraries:\n",
    "#### - Random to get random characters\n",
    "#### - String to have the possible characters in a password without having to type the strings (already a lazy coder)"
   ]
  },
  {
   "cell_type": "code",
   "execution_count": 1,
   "metadata": {},
   "outputs": [],
   "source": [
    "from random import choice\n",
    "import string"
   ]
  },
  {
   "cell_type": "markdown",
   "metadata": {},
   "source": [
    "### Here we create a function \"ask_for_length\" to ask the user the length they desire for their password\n",
    "#### we also use some form of error handling along the way to unsure a secure password and make the program a bit interactive with the user"
   ]
  },
  {
   "cell_type": "code",
   "execution_count": 2,
   "metadata": {},
   "outputs": [
    {
     "name": "stdout",
     "output_type": "stream",
     "text": [
      "How many digits do you want your password to have? '(at least 15 for safety reasons)' 19\n",
      " Okey,  19  sounds like a good length\n"
     ]
    }
   ],
   "source": [
    "n_characters = input(\"How many digits do you want your password to have? '(at least 15 for safety reasons)' \")\n",
    "def ask_for_length(n_characters):\n",
    "    try:\n",
    "        n_characters = int(n_characters)\n",
    "        if n_characters < 15:\n",
    "            print(\"This is less than 15, make it difficult for bored hackers, please try again\")\n",
    "            n_characters = 0\n",
    "        elif n_characters > 20:\n",
    "            print(\"Are you sure you want such a long password? You'll lose precious time that you could spend home doing nothing\")\n",
    "            n_characters = 0\n",
    "        else:\n",
    "            print(\" Okey, \", int(n_characters), \" sounds like a good length\")\n",
    "    except ValueError:\n",
    "        print( n_characters, \" It's not a number, Smart Ass \")\n",
    "        n_characters = 0\n",
    "    return int(n_characters)  \n",
    "\n",
    "user_input = ask_for_length(n_characters)"
   ]
  },
  {
   "cell_type": "markdown",
   "metadata": {},
   "source": [
    "#### Now that we know the length of the password we proceed to generate one\n"
   ]
  },
  {
   "cell_type": "code",
   "execution_count": 3,
   "metadata": {},
   "outputs": [
    {
     "name": "stdout",
     "output_type": "stream",
     "text": [
      "Here is your new and super secure Password:  _N\\`6/OOr(&P&ErTpLu\n",
      "Feel free to copy it and paste it where it rightfully goes.\n"
     ]
    }
   ],
   "source": [
    "characters = string.ascii_letters + string.punctuation  + string.digits\n",
    "password =  \"\".join(choice(characters) for x in range(user_input))\n",
    "print(\"Here is your new and super secure Password: \", password)\n",
    "print(\"Feel free to copy it and paste it where it rightfully goes.\")"
   ]
  },
  {
   "cell_type": "markdown",
   "metadata": {},
   "source": [
    "#we are using this notation to aboid having to type all the possible characters\n",
    "#we are assigning n random values from the set of possible characters to the variable \"password\", \n",
    "#so we have a randomly generated password"
   ]
  },
  {
   "cell_type": "markdown",
   "metadata": {},
   "source": [
    "#### Just to give you the certainty that your new password is secure I suggest you check it out here:\n"
   ]
  },
  {
   "cell_type": "markdown",
   "metadata": {},
   "source": [
    "[Check_Security](https://howsecureismypassword.net/)"
   ]
  },
  {
   "cell_type": "markdown",
   "metadata": {},
   "source": [
    "## I hope the program was usefull to you\n",
    "### If it was, recommend us to a friend!\n",
    "#### See you next time you forget a password ;)"
   ]
  },
  {
   "cell_type": "code",
   "execution_count": null,
   "metadata": {},
   "outputs": [],
   "source": []
  }
 ],
 "metadata": {
  "kernelspec": {
   "display_name": "Python 3",
   "language": "python",
   "name": "python3"
  },
  "language_info": {
   "codemirror_mode": {
    "name": "ipython",
    "version": 3
   },
   "file_extension": ".py",
   "mimetype": "text/x-python",
   "name": "python",
   "nbconvert_exporter": "python",
   "pygments_lexer": "ipython3",
   "version": "3.7.4"
  }
 },
 "nbformat": 4,
 "nbformat_minor": 2
}
