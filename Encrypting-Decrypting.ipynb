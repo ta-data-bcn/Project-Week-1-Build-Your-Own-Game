{
 "cells": [
  {
   "cell_type": "code",
   "execution_count": 1,
   "metadata": {},
   "outputs": [],
   "source": [
    "# Define the ASCII equivalences of the characters to encrypt/decrypt\n",
    "englishcodes=list(range(32,127))\n",
    "english_encrypting={}\n",
    "for i in range(95):\n",
    "    english_encrypting[chr(englishcodes[i])]=englishcodes[i]\n",
    "english_decrypting=dict()\n",
    "for i in range(95):\n",
    "    english_decrypting[englishcodes[i]]=chr(englishcodes[i])"
   ]
  },
  {
   "cell_type": "code",
   "execution_count": 2,
   "metadata": {},
   "outputs": [],
   "source": [
    "# Generate the base of the encrypted language combining 8 1s and 0s\n",
    "unique_equivalences = set()\n",
    "import random\n",
    "code_generator=[str(1), str(0), str(1), str(0), str(1), str(0), str(1), str(0), str(1), str(0)]"
   ]
  },
  {
   "cell_type": "code",
   "execution_count": 3,
   "metadata": {},
   "outputs": [],
   "source": [
    "# Generate a list of 95 unique combinations\n",
    "while len(unique_equivalences)<95:\n",
    "    random.shuffle(code_generator)\n",
    "    shuffled=(\"\".join(code_generator))\n",
    "    unique_equivalences.add(shuffled)\n",
    "equivalences=list(unique_equivalences)"
   ]
  },
  {
   "cell_type": "code",
   "execution_count": 4,
   "metadata": {},
   "outputs": [],
   "source": [
    "# Generate a dictionary with the character and its encryption and viceversa\n",
    "rosetta_stone_decrypting={}\n",
    "for i in range(95):\n",
    "    rosetta_stone_decrypting[equivalences[i]]=englishcodes[i]\n",
    "rosetta_stone_encrypting={}\n",
    "for i in range(95):\n",
    "    rosetta_stone_encrypting[englishcodes[i]]=equivalences[i]"
   ]
  },
  {
   "cell_type": "code",
   "execution_count": 5,
   "metadata": {},
   "outputs": [],
   "source": [
    "# Define the function of the encryption process\n",
    "def encryption_process():\n",
    "    # Ask the user for a text to encrypt\n",
    "    text2encrypt=input(\"What text do you wish to encrypt? \")\n",
    "    # Tear it into a characters and append them to a list\n",
    "    blanklist=[]\n",
    "    for character in text2encrypt:\n",
    "        blanklist.append(character)\n",
    "    # Get the ASCII codes of every character on the text to encrypt\n",
    "    encrypting_characters=[]\n",
    "    for i in blanklist:\n",
    "        encrypting_characters.append(english_encrypting.get(i))\n",
    "    # Get the encrypted equivalence of each ASCII code and join all the encrypt\n",
    "    rosetta_characters=[]\n",
    "    for i in encrypting_characters:\n",
    "        rosetta_characters.append(rosetta_stone_encrypting.get(i))\n",
    "    encrypted_input = (\"-\".join(rosetta_characters))\n",
    "    # Return the encrpyted message\n",
    "    return encrypted_input"
   ]
  },
  {
   "cell_type": "code",
   "execution_count": 6,
   "metadata": {},
   "outputs": [],
   "source": [
    "# Define a function with the decryption process\n",
    "def decryption_process():\n",
    "    # Ask the user for a text to decrypt\n",
    "    text2encrypt=input(\"What text do you wish to decrypt? \")\n",
    "    # Split the characters and add them to a list\n",
    "    blanklist=text2encrypt.split(\"-\")\n",
    "    # Check the ASCII code of each encrypted character\n",
    "    rosetta_characters=[]\n",
    "    for i in blanklist:\n",
    "        rosetta_characters.append(rosetta_stone_decrypting.get(i))\n",
    "    # Check the character equivalence of every ASCII code\n",
    "    english_characters=[]\n",
    "    for i in rosetta_characters:\n",
    "        english_characters.append(english_decrypting.get(i))\n",
    "    # Join the characters into a string\n",
    "    decrypted_output=(\"\".join(english_characters))\n",
    "    # Return the string with the decrypted message\n",
    "    return decrypted_output"
   ]
  },
  {
   "cell_type": "code",
   "execution_count": 8,
   "metadata": {},
   "outputs": [
    {
     "name": "stdout",
     "output_type": "stream",
     "text": [
      "Do you want to encrypt or decrypt a message? (please type encrypt/decrypt)decrypt\n",
      "What text do you wish to decrypt? 1001010101-0010001111-1001010101-0010001111-1001011010-1101001100-1000001111-1001011010-1101001100-1100011100\n",
      "mamachicho\n"
     ]
    }
   ],
   "source": [
    "# Ask the user whether he/she wants to encrypt or decrypt\n",
    "decision=input(\"Do you want to encrypt or decrypt a message? (please type encrypt/decrypt)\")\n",
    "# Stablish a check point to ensure there are no other possible answers\n",
    "while (decision!=\"encrypt\") and (decision!=\"decrypt\"):\n",
    "    decision=input(\"Oops! I didn't understand! Do you want to encrypt or decrypt?\"\n",
    "                   \"(please type encrypt or decrypt)\")\n",
    "# Call the encryption function if the answer is encrypt\n",
    "if decision == \"encrypt\":\n",
    "    print(encryption_process())\n",
    "# Call the decryption function if the answer is not encrypt\n",
    "else:\n",
    "    print(decryption_process())"
   ]
  }
 ],
 "metadata": {
  "kernelspec": {
   "display_name": "Python 3",
   "language": "python",
   "name": "python3"
  },
  "language_info": {
   "codemirror_mode": {
    "name": "ipython",
    "version": 3
   },
   "file_extension": ".py",
   "mimetype": "text/x-python",
   "name": "python",
   "nbconvert_exporter": "python",
   "pygments_lexer": "ipython3",
   "version": "3.7.6"
  }
 },
 "nbformat": 4,
 "nbformat_minor": 4
}
