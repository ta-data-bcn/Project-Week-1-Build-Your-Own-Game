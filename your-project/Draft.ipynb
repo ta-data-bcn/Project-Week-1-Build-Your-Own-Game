{
 "cells": [
  {
   "cell_type": "code",
   "execution_count": null,
   "metadata": {},
   "outputs": [],
   "source": [
    "import random\n",
    "suits=(\"clubs\",\"diamonds\",\"heart\",\"spades\")\n",
    "values=(\"1\",\"2\",\"3\",\"4\",\"5\",\"6\",\"7\",\"8\",\"9\",\"10\",\"J\",\"Q\",\"K\")\n",
    "deck=[]\n",
    "for value in values:\n",
    "    for suit in suits:\n",
    "            deck.append(value +\" of \"+ str(suit)) \n",
    "random.shuffle(deck)\n",
    "print(deck)"
   ]
  },
  {
   "cell_type": "code",
   "execution_count": null,
   "metadata": {},
   "outputs": [],
   "source": [
    "import random\n",
    "def card_value(card):\n",
    "    if card[0] in (\"J\",\"Q\",\"K\"):\n",
    "        return int(10)\n",
    "    elif card[0] in (\"A\"):\n",
    "        return int(1)\n",
    "    elif card[0] in (\"2\",\"3\",\"4\",\"5\",\"6\",\"7\",\"8\",\"9\"):\n",
    "        return int(card[0])\n",
    "  \n",
    "player_value=0\n",
    "dealer_value=0"
   ]
  },
  {
   "cell_type": "code",
   "execution_count": null,
   "metadata": {},
   "outputs": [],
   "source": [
    "player_hand=random.sample(deck,2)\n",
    "print(player_hand)\n",
    "for card in player_hand:\n",
    "    player_value += card_value(card)\n",
    "    print(player_value)\n",
    "    if player_value==21:\n",
    "        print(\"Congratulations it's a Blackjack!\")"
   ]
  },
  {
   "cell_type": "code",
   "execution_count": null,
   "metadata": {},
   "outputs": [],
   "source": [
    "while True:\n",
    "    answer=input(\"Hit? \")\n",
    "    if answer == \"Yes\":\n",
    "        player_hand.append(random.sample(deck,1)[0])\n",
    "        print(player_hand)\n",
    "        for card in player_hand:\n",
    "            player_value += card_value(card)   \n",
    "        print(player_value)\n",
    "        if player_value == 21:\n",
    "                print(\"Congratulations, it's a BlackjacK!\")\n",
    "        elif player_value>21:\n",
    "                print(\"Oh, you have lost! Try next time\")\n",
    "        break\n",
    "    elif answer == \"No\":\n",
    "        \n",
    "dealer_hand=random.sample(deck,2)\n",
    "print(dealer_hand)\n",
    "for card in dealer_hand:\n",
    "dealer_value +=(card_value(card)\n",
    "print(dealer_value)\n",
    "        \n",
    "if dealer_value==player_value== 21:\n",
    "                        print(\"It's a tie!\")\n",
    "elif player_value<dealer_value:\n",
    "                        print(\"Oh, you have lost! Try next time\")\n",
    "elif player_value>dealer_value<21:\n",
    "                        print(\"Oh, you have lost! Try next time\")\n"
   ]
  }
 ],
 "metadata": {
  "kernelspec": {
   "display_name": "Python 3",
   "language": "python",
   "name": "python3"
  },
  "language_info": {
   "codemirror_mode": {
    "name": "ipython",
    "version": 3
   },
   "file_extension": ".py",
   "mimetype": "text/x-python",
   "name": "python",
   "nbconvert_exporter": "python",
   "pygments_lexer": "ipython3",
   "version": "3.8.3"
  }
 },
 "nbformat": 4,
 "nbformat_minor": 4
}
