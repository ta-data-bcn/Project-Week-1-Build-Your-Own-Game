{
 "cells": [
  {
   "cell_type": "markdown",
   "metadata": {},
   "source": [
    "# Blackjack"
   ]
  },
  {
   "cell_type": "code",
   "execution_count": 19,
   "metadata": {},
   "outputs": [
    {
     "name": "stdout",
     "output_type": "stream",
     "text": [
      "Let's start. What is your inlay: \n",
      "Type in an integer...\n",
      "Let's start. What is your inlay: 10\n",
      "Make it rain! Let me shuffle first before I give your first 2 cards.\n"
     ]
    }
   ],
   "source": [
    "import random\n",
    "cardsnumbers= [2, 3, 4, 5, 6, 7, 8, 9, 10]\n",
    "cardsletters= [\"B\", \"Q\", \"K\", \"A\"]\n",
    "cards=cardsnumbers*4+cardsletters*4\n",
    "\n",
    "inlay = \"\"\n",
    "while type(inlay) != int:\n",
    "    try:\n",
    "        inlay = int(input(\"Let's start. What is your inlay: \"))\n",
    "    except:\n",
    "        print(\"Type in an integer...\")\n",
    "print(\"Make it rain! Let me shuffle first before I give your first 2 cards.\")"
   ]
  },
  {
   "cell_type": "markdown",
   "metadata": {},
   "source": [
    "## First round"
   ]
  },
  {
   "cell_type": "code",
   "execution_count": 20,
   "metadata": {},
   "outputs": [
    {
     "name": "stdout",
     "output_type": "stream",
     "text": [
      "Your cards are: ['B', 3] Which makes 13 in total!\n",
      "The open card of the dealer is a Q , the other card is closed.\n"
     ]
    }
   ],
   "source": [
    "immfactor=1.5\n",
    "bjfactor=2\n",
    "imm_blackjack= inlay*immfactor\n",
    "blackjack= inlay*bjfactor\n",
    "cards_first_round= [1, 1]\n",
    "cards_other_round= [1]\n",
    "player=[]\n",
    "player_value=[]\n",
    "dealer=[]\n",
    "dealer_value=[]\n",
    "\n",
    "for one in cards_first_round:\n",
    "    player.append(random.sample(cards, 2)[0])\n",
    "for value in player:\n",
    "    if value in cardsnumbers:\n",
    "        player_value.append(value)\n",
    "    elif value == \"A\":\n",
    "        use_A = \"\"\n",
    "        while use_A not in [1, 11]:\n",
    "            try:\n",
    "                use_A = int(input(\"Would you like to use the A as a \\\"1\\\" or as a \\\"11\\\"?\"))\n",
    "                player_value.append(use_A)\n",
    "            except:\n",
    "                print(\"Are you on drugs? Just choose \\\"1\\\" or \\\"11\\\".\")\n",
    "    else:\n",
    "        player_value.append(10)\n",
    "\n",
    "print(\"Your cards are:\", player, \"Which makes\", sum(player_value), \"in total!\")\n",
    "\n",
    "if sum(player_value)==21:\n",
    "    print(\"You have Blackjack! You win\", imm_blackjack, \"euros!\")\n",
    "else:    \n",
    "    for one in cards_first_round:\n",
    "        dealer.append(random.sample(cards, 2)[0])\n",
    "    for value in dealer:\n",
    "        if value in cardsnumbers:\n",
    "            dealer_value.append(value)\n",
    "        else:\n",
    "            dealer_value.append(10)\n",
    "    print(\"The open card of the dealer is a\", dealer[0], \", the other card is closed.\")\n",
    "    "
   ]
  },
  {
   "cell_type": "markdown",
   "metadata": {},
   "source": [
    "## Second round"
   ]
  },
  {
   "cell_type": "code",
   "execution_count": 21,
   "metadata": {},
   "outputs": [
    {
     "name": "stdout",
     "output_type": "stream",
     "text": [
      "Do you want to \"pass\" or \"hit\":hit\n",
      "Your new card is a 8 , which makes 21 in total.\n",
      "You have 21! If the dealer has less, you win 20 euros!\n"
     ]
    }
   ],
   "source": [
    "while sum(player_value)<21:    \n",
    "    choice1= (input(\"Do you want to \\\"pass\\\" or \\\"hit\\\":\"))\n",
    "    if choice1 not in [\"hit\", \"pass\"]:\n",
    "        print(\"Type \\\"hit\\\" or \\\"pass\\\" with lower cases.\")\n",
    "        choice1= (input(\"Do you want to \\\"pass\\\" or \\\"hit\\\": \"))\n",
    "    if choice1 == \"hit\":\n",
    "        player.append(random.sample(cards, 1)[0])\n",
    "        if player[-1] in cardsnumbers:\n",
    "            player_value.append(player[-1])\n",
    "        elif player[-1] == \"A\":\n",
    "            use_A = \"\"\n",
    "            while use_A not in [1, 11]:\n",
    "                try:\n",
    "                    use_A = int(input(\"Would you like to use the A as a \\\"1\\\" or as a \\\"11\\\"?\"))\n",
    "                    player_value.append(use_A)\n",
    "                except:\n",
    "                    print(\"Are you drunk? Just choose \\\"1\\\" or \\\"11\\\".\")\n",
    "        else:\n",
    "            player_value.append(10)\n",
    "        if sum(player_value)<21:\n",
    "            print(\"Your new card is a\", player[-1], \", which makes\", sum(player_value), \"in total.\")  \n",
    "        elif sum(player_value)>21:\n",
    "            print(\"Your new card is a\", player[-1], \", which makes\", sum(player_value), \"in total.\")\n",
    "            print(\"You are dead. You lost your inlay!\")\n",
    "        elif sum(player_value) == 21:\n",
    "            print(\"Your new card is a\", player[-1], \", which makes\", sum(player_value), \"in total.\")\n",
    "            print(\"You have 21! If the dealer has less, you win\", blackjack, \"euros!\")    \n",
    "    elif choice1 == \"pass\":\n",
    "        print(\"Your end score is\", sum(player_value), \". Let's see what the dealer does...\")\n",
    "        break"
   ]
  },
  {
   "cell_type": "markdown",
   "metadata": {},
   "source": [
    "## Dealer round"
   ]
  },
  {
   "cell_type": "code",
   "execution_count": 25,
   "metadata": {},
   "outputs": [
    {
     "name": "stdout",
     "output_type": "stream",
     "text": [
      "Dealer opens his closed card...\n",
      "The closed card was 8 . His hand is right now is ['Q', 8] with a total of 18 .\n",
      "The dealer's hand is higher than 16, so he won't take another card. His ending total is 18 .\n",
      "You won! You win 20 euros!\n"
     ]
    }
   ],
   "source": [
    "print(\"Dealer opens his closed card...\")\n",
    "print(\"The closed card was\", dealer[-1], \". His hand is right now is\", dealer, \"with a total of\", sum(dealer_value), \".\")\n",
    "\n",
    "while sum(dealer_value) < 17:\n",
    "    dealer.append(random.sample(cards, 1)[0])\n",
    "    if dealer[-1] in cardsnumbers:\n",
    "        dealer_value.append(dealer[-1])\n",
    "    elif dealer[-1]== \"A\":\n",
    "        dealer_value.append(1)\n",
    "    else:\n",
    "        dealer_value.append(10)\n",
    "    print(\"The dealer takes another card\", dealer[-1], \", which brings the total to\", sum(dealer_value), \".\")\n",
    "\n",
    "if sum(dealer_value) > 16:\n",
    "    print(\"The dealer's hand is higher than 16, so he won't take another card. His ending total is\", sum(dealer_value), \".\")\n",
    "    if sum(dealer_value)>21:\n",
    "        print(\"This means the dealer is dead. You murderer! But.. you win\", blackjack, \"euros!\")\n",
    "    elif sum(player_value)>21 and sum(dealer_value)>21:\n",
    "        print(\"You and the dealer both died.. Idiots!!\")\n",
    "    elif 22 > sum(player_value) > sum(dealer_value):\n",
    "        print(\"You won! You win\", blackjack, \"euros!\")\n",
    "    elif 22 > sum(dealer_value) > sum(player_value):\n",
    "        print(\"You lost from the dealer... You lose your money.\")"
   ]
  }
 ],
 "metadata": {
  "kernelspec": {
   "display_name": "Python 3",
   "language": "python",
   "name": "python3"
  },
  "language_info": {
   "codemirror_mode": {
    "name": "ipython",
    "version": 3
   },
   "file_extension": ".py",
   "mimetype": "text/x-python",
   "name": "python",
   "nbconvert_exporter": "python",
   "pygments_lexer": "ipython3",
   "version": "3.8.5"
  }
 },
 "nbformat": 4,
 "nbformat_minor": 4
}
