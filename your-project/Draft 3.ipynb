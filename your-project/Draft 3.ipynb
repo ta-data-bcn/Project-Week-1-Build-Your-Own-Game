{
 "cells": [
  {
   "cell_type": "markdown",
   "metadata": {},
   "source": [
    "First of all define each object we will use for the game loop:\n",
    "\n",
    "- Card(and value of each card)\n",
    "\n",
    "- Deck of 52 cards\n",
    "\n",
    "- Player hand (2 or 3 cards)\n",
    "\n",
    "- Dealers hand (2 or 3 cards)"
   ]
  },
  {
   "cell_type": "markdown",
   "metadata": {},
   "source": [
    "Then we define:\n",
    "- the first mix and deal to the players\n",
    "- players pass or asks\n",
    "- players busts\n",
    "- mix and deal to the dealer\n",
    "- dealer face up second card and pass or asks\n",
    "- dealer busts\n"
   ]
  },
  {
   "cell_type": "markdown",
   "metadata": {},
   "source": [
    "Once we have all the objects we can start the loop of the game\n"
   ]
  },
  {
   "cell_type": "code",
   "execution_count": null,
   "metadata": {},
   "outputs": [],
   "source": [
    "suits=(\"clubs\",\"diamonds\",\"heart\",\"spades\")\n",
    "values=(\"1\",\"2\",\"3\",\"4\",\"5\",\"6\",\"7\",\"8\",\"9\",\"10\",\"J\",\"Q\",\"K\")\n",
    "deck=[]\n",
    "absolute_values={\"A\":\"1\",\"J\":\"10\",\"Q\":\"10\",\"K\":\"10\"}\n",
    "\n",
    "for value in values:\n",
    "    for suit in suits:\n",
    "            deck.append(value +\" of \"+ str(suit)) \n",
    "print(deck)\n"
   ]
  },
  {
   "cell_type": "code",
   "execution_count": null,
   "metadata": {},
   "outputs": [],
   "source": [
    "def card_value(card):\n",
    "    if card[0] in (\"J\",\"Q\",\"K\"):\n",
    "        return int(10)\n",
    "    elif card[0] in (\"1\",\"2\",\"3\",\"4\",\"5\",\"6\",\"7\",\"8\",\"9\"):\n",
    "        return int(card[0])"
   ]
  },
  {
   "cell_type": "code",
   "execution_count": null,
   "metadata": {},
   "outputs": [],
   "source": [
    "import random\n",
    "player_hand=[]\n",
    "dealer_hand=[]\n",
    "player_value=0\n",
    "dealer_value=0\n",
    "\n",
    "player_hand.append(random.sample(deck,2))\n",
    "print(player_hand)\n",
    "\n",
    "for card in player_hand:\n",
    "    player_value += card_value(card)\n",
    "print(player_hand)\n",
    "\n"
   ]
  },
  {
   "cell_type": "code",
   "execution_count": null,
   "metadata": {},
   "outputs": [],
   "source": [
    "if player_value == 21:\n",
    "    print(\"Congratulations you hit the pot!\")\n",
    "else:\n",
    "    print (\"Hit?\")\n",
    "    answer=input()\n",
    "if answer == \"Yes\":\n",
    "        player_hand.append(random.sample(deck,1))\n",
    "else:\n",
    "    dealer_hand.append(random.sample(deck,2))\n",
    "        if dealer_value == 21:\n",
    "            print(\"The dealer has won!\")\n",
    "        else:\n",
    "            print (\"Hit?\")\n",
    "            answer=input()\n",
    "            if answer == \"Yes\":\n",
    "                dealer_hand.append(random.sample(deck,1))\n",
    "            else:\n",
    "                print(\"Face up the cards\")\n",
    "    \n"
   ]
  },
  {
   "cell_type": "code",
   "execution_count": null,
   "metadata": {},
   "outputs": [],
   "source": []
  }
 ],
 "metadata": {
  "kernelspec": {
   "display_name": "Python 3",
   "language": "python",
   "name": "python3"
  },
  "language_info": {
   "codemirror_mode": {
    "name": "ipython",
    "version": 3
   },
   "file_extension": ".py",
   "mimetype": "text/x-python",
   "name": "python",
   "nbconvert_exporter": "python",
   "pygments_lexer": "ipython3",
   "version": "3.8.3"
  }
 },
 "nbformat": 4,
 "nbformat_minor": 4
}
