{
 "cells": [
  {
   "cell_type": "markdown",
   "metadata": {},
   "source": [
    "# 21 Blackjack"
   ]
  },
  {
   "cell_type": "markdown",
   "metadata": {},
   "source": [
    "#### Import the random library to take random cards"
   ]
  },
  {
   "cell_type": "code",
   "execution_count": null,
   "metadata": {
    "scrolled": true
   },
   "outputs": [],
   "source": [
    "import random as r"
   ]
  },
  {
   "cell_type": "markdown",
   "metadata": {},
   "source": [
    "####  Introduce the game"
   ]
  },
  {
   "cell_type": "code",
   "execution_count": null,
   "metadata": {},
   "outputs": [],
   "source": [
    "def greeting():\n",
    "    print(\"Hi there! Welcome to 21 Blackjack.\\n\")"
   ]
  },
  {
   "cell_type": "markdown",
   "metadata": {},
   "source": [
    "#### Define number & name of the players"
   ]
  },
  {
   "cell_type": "code",
   "execution_count": null,
   "metadata": {
    "scrolled": false
   },
   "outputs": [],
   "source": [
    "def players():\n",
    "    print(\"First of all, let's see how are we going to play today\")\n",
    "    n_of_players = input(\"How many of you want to play? \")\n",
    "    while not n_of_players.isdigit(): #if the input is not a digit, keep asking\n",
    "         n_of_players = input(\"Type in a number? PLease... \\n\")\n",
    "    n_of_players = int(n_of_players) #casting the input into an int\n",
    "    players_names = []\n",
    "    current_player_name = \"\"\n",
    "    for n in range(n_of_players): #iterate through the number of players in order to get their names\n",
    "        current_player_name = input(f'What is the name of the player number {n + 1}? ')\n",
    "        players_names.append(current_player_name) #append the name of the players to a list\n",
    "        print(f'Hello {current_player_name}!, nice to meet you\\n')\n",
    "    players_dict = {player:{'Cards':[],\"Score\":0} for player in players_names} #creating a players to store cards & their score\n",
    "    print(\"Enough with the small talk, let's begin!\\n\")\n",
    "    players_dict.update({\"Dealer\": {'Cards':[],\"Score\":0}}) #add the Dealer to the dict\n",
    "    return players_dict\n"
   ]
  },
  {
   "cell_type": "markdown",
   "metadata": {},
   "source": [
    "#### Define how many push ups is each player betting"
   ]
  },
  {
   "cell_type": "markdown",
   "metadata": {},
   "source": [
    "def players_bets():\n",
    "    players_bets = []\n",
    "    for player in players_dict.keys():\n",
    "        if player != 'Dealer':\n",
    "            current_player_bet = input(f'{player}, how many push ups are you going to bet in this hand? ')\n",
    "            players_bets.append(current_player_bet)\n",
    "    return players_bets"
   ]
  },
  {
   "cell_type": "markdown",
   "metadata": {},
   "source": [
    "#### Create a deck (List with the name of the cards and it's value)"
   ]
  },
  {
   "cell_type": "code",
   "execution_count": null,
   "metadata": {},
   "outputs": [],
   "source": [
    "def create_deck():\n",
    "    suits = ['Spades', ' Hearts', 'Diamonds', 'Clubs']\n",
    "    cards_numbers = [n+1 for n in range(10)] + ['Jack', 'Queen', 'King']\n",
    "    cards_value = [value if type(value) == int else 10 for value in cards_numbers] #create a list with the cards value\n",
    "    deck = [[str(c)+ f' of {s}',v] for s in suits for c,v in zip(cards_numbers,cards_value)] #create a deck with cards name and value\n",
    "    return deck\n"
   ]
  },
  {
   "cell_type": "markdown",
   "metadata": {},
   "source": [
    "#### Take n cards from the deck"
   ]
  },
  {
   "cell_type": "code",
   "execution_count": null,
   "metadata": {},
   "outputs": [],
   "source": [
    "def take_cards(n): #Select n cards from the deck\n",
    "    cards = []\n",
    "    for i in range(n): #number of cards to take\n",
    "        card = deck[r.sample(range(len(deck)),1)[0]] #take a random card/s from the deck\n",
    "        deck.remove(card) #take the card/s out of the deck list\n",
    "        cards.append(card) #create a list with the taken cards\n",
    "    return cards"
   ]
  },
  {
   "cell_type": "markdown",
   "metadata": {},
   "source": [
    "#### Calculate the score of a list of cards"
   ]
  },
  {
   "cell_type": "code",
   "execution_count": null,
   "metadata": {},
   "outputs": [],
   "source": [
    "def calculate_score(card_list): #list of cards given to a player\n",
    "    score = 0\n",
    "    for i in range(len(card_list)): #iterate through the list of cards\n",
    "        if card_list[i][1] == 1 or card_list[i][1] == 11: #check if its an ace, the player can change the value at any time\n",
    "            ace_value = int(input(f'Do you want your card to be a 1 or a 11? Your current score is {score}, choose wisely \\n'))\n",
    "            while ace_value not in [1,11]: #checking the input\n",
    "                ace_value = int(input(\"It's not that hard :D, type 1 or 11 \\n\"))\n",
    "            card_list[i][1] = ace_value #assigning the value choosen by the player to the list\n",
    "        score += card_list[i][1] \n",
    "    return score"
   ]
  },
  {
   "cell_type": "markdown",
   "metadata": {},
   "source": [
    "#### Print the status of a player"
   ]
  },
  {
   "cell_type": "code",
   "execution_count": null,
   "metadata": {},
   "outputs": [],
   "source": [
    "def status(player): #name of the player\n",
    "    print(player, 'your cards are ',', '.join([c[0] for c in players_dict[player]['Cards']]), 'and your score is', players_dict[player]['Score'],'\\n')\n",
    "    #joining the name of the cards and its score in the player dictionary"
   ]
  },
  {
   "cell_type": "markdown",
   "metadata": {},
   "source": [
    "#### Assign n cards to a player"
   ]
  },
  {
   "cell_type": "code",
   "execution_count": null,
   "metadata": {},
   "outputs": [],
   "source": [
    "def give_cards(n,player): #number of cards to give and to which player\n",
    "    players_dict[player]['Cards'] += take_cards(n) #call take cards function and adding it to the players dict\n",
    "    print(player, 'your cards are ',', '.join([c[0] for c in players_dict[player]['Cards']])) #printing their cards\n",
    "    players_dict[player]['Score'] = calculate_score(players_dict[player]['Cards']) #call calculate score and updated in the dict\n",
    "    print('And your current score is ',  players_dict[player]['Score'],\"\\n\") #print their score"
   ]
  },
  {
   "cell_type": "markdown",
   "metadata": {},
   "source": [
    "#### Variable to check if the players want to keep playing"
   ]
  },
  {
   "cell_type": "code",
   "execution_count": null,
   "metadata": {},
   "outputs": [],
   "source": [
    "keep_playing = 'Yes' #creating a variable to check if they want to keep playing once the hand is over"
   ]
  },
  {
   "cell_type": "markdown",
   "metadata": {},
   "source": [
    "### Main Blackjack game"
   ]
  },
  {
   "cell_type": "code",
   "execution_count": null,
   "metadata": {},
   "outputs": [],
   "source": [
    "greeting()\n",
    "\n",
    "players_dict = players()\n",
    "\n",
    "while keep_playing.capitalize() == 'Yes': \n",
    "    deck = create_deck()\n",
    "    players_dict = {player:{'Cards':[],\"Score\":0} for player in players_dict.keys()} #reset the dict to 0 to restart the game\n",
    "\n",
    "    for player in players_dict.keys(): #first hand, give 2 cards to every player\n",
    "        give_cards(2, player)\n",
    "\n",
    "    for player in players_dict.keys(): #see if the players want to hit or stand\n",
    "        moves = ['hit','stand']\n",
    "        stand = True\n",
    "        while players_dict[player]['Score'] < 21 and stand: #check if the score is over 21                \n",
    "            move = input(player + ' Do you hit or stand? your current score is ' + str(players_dict[player]['Score']) + ' \\n')\n",
    "            while move.lower() not in moves:\n",
    "                move = input(\"Come on... hit or stand? \")\n",
    "            if move.lower() == 'hit':\n",
    "                give_cards(1,player)\n",
    "            else:\n",
    "                print('Better safe than sorry, your final score is ' + str(players_dict[player]['Score']) + ' \\n')\n",
    "                stand = False\n",
    "\n",
    "        if players_dict[player]['Score'] == 21: #check if its Blackjack\n",
    "            print('Blackjack! Congratulations, ' + player + '!,hope the dealer does not hit it too \\n')\n",
    "        elif calculate_score(players_dict[player]['Cards']) > 21: # if its higher, the player loses\n",
    "            print('Your score is over 21... sorry, you lost \\n')\n",
    "    \n",
    "    dealer_score = players_dict['Dealer']['Score'] #store the dealers score in a variable\n",
    "    if dealer_score == 21: #if the dealer hits a Blackjack, wins\n",
    "        print('The Delaer hit 21... sorry, but you lost ')\n",
    "        print([status(player) for player in players_dict.keys()])\n",
    "    else:\n",
    "        for player in players_dict.keys(): #check the players scores with the dealer score\n",
    "            if player != 'Dealer':\n",
    "                if players_dict[player]['Score'] > 21:\n",
    "                    print(f'{player}, your score is over 21... sorry, you lost')\n",
    "                    print (status(player))\n",
    "                elif players_dict[player]['Score'] > dealer_score or dealer_score > 21:\n",
    "                    print(f'Congratulations {player} you beat the Dealer')\n",
    "                    print(status(player))\n",
    "                else:\n",
    "                    print(f'Sorry {player} the Dealers hand beats yours...')\n",
    "                    print(status(player))\n",
    "    \n",
    "    keep_playing = input('If you want to keep playing, say yes! \\n') #check if the players want to keep playing\n",
    "    if keep_playing != 'yes':\n",
    "        print('\\nThanks for playing! Hope to see you again!')\n",
    "    else:\n",
    "        continue\n",
    "    \n",
    "    \n",
    "    "
   ]
  },
  {
   "cell_type": "code",
   "execution_count": null,
   "metadata": {},
   "outputs": [],
   "source": []
  }
 ],
 "metadata": {
  "kernelspec": {
   "display_name": "Python 3",
   "language": "python",
   "name": "python3"
  },
  "language_info": {
   "codemirror_mode": {
    "name": "ipython",
    "version": 3
   },
   "file_extension": ".py",
   "mimetype": "text/x-python",
   "name": "python",
   "nbconvert_exporter": "python",
   "pygments_lexer": "ipython3",
   "version": "3.7.4"
  }
 },
 "nbformat": 4,
 "nbformat_minor": 4
}
