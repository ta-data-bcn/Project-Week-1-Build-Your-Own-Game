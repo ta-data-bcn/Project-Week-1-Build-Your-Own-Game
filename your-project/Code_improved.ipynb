{
 "cells": [
  {
   "cell_type": "code",
   "execution_count": 1,
   "metadata": {},
   "outputs": [],
   "source": [
    "### DICTIONARIES\n",
    "\n",
    "colour_lookup = {  #consider rename to colour_converter\n",
    "  \"R\": 0,\n",
    "  \"G\": 1,\n",
    "  \"Y\": 2,\n",
    "  \"B\": 3,\n",
    "  \"M\": 4,\n",
    "  0: \"R\",\n",
    "  1: \"G\",\n",
    "  2: \"Y\",\n",
    "  3: \"B\",\n",
    "  4: \"M\"\n",
    "}\n",
    "\n",
    "\n",
    "colour_lookup_words = {\n",
    "  0: \"\\033[0;37;41m RED \",\n",
    "  1: \"\\033[0;37;42m GREEN \",\n",
    "  2: \"\\033[0;30;43m YELLOW \",\n",
    "  3: \"\\033[0;37;44m BLUE \",\n",
    "  4: \"\\033[0;37;45m MAGENTA \",\n",
    "    \"R\": \"\\033[0;37;41m RED \",\n",
    "  \"G\": \"\\033[0;37;42m GREEN \",\n",
    "  \"Y\": \"\\033[0;30;43m YELLOW \",\n",
    "  \"B\": \"\\033[0;37;44m BLUE \",\n",
    "  \"M\": \"\\033[0;37;45m MAGENTA \"\n",
    "}\n",
    "\n",
    "#player_guess_nums = [] \n",
    "#colour_lookup[\"Y\"]\n",
    "#guess_var = \"R\"\n",
    "#colour_lookup[guess_var]\n",
    "#player_guess_nums = []\n",
    "#player_guess_nums.append(colour_lookup[guess_var])\n",
    "#print(player_guess_nums)"
   ]
  },
  {
   "cell_type": "code",
   "execution_count": 10,
   "metadata": {},
   "outputs": [],
   "source": [
    "### VARS & Lists\n",
    "n_rounds= 5\n",
    "code_to_crack = []\n",
    "colour_letters = [\"R\",\"G\",\"Y\",\"B\",\"M\"]\n",
    "player_guess= []\n",
    "player_guess_nums= []\n",
    "count_white = 0\n",
    "count_black = 0\n",
    "attempts = 0\n",
    "game_round = 0\n"
   ]
  },
  {
   "cell_type": "code",
   "execution_count": 3,
   "metadata": {},
   "outputs": [],
   "source": [
    "#things to import\n",
    "import random"
   ]
  },
  {
   "cell_type": "code",
   "execution_count": 4,
   "metadata": {},
   "outputs": [],
   "source": [
    "#PROCESS:\n",
    "#0. Set number of rounds #static #DONE\n",
    "#1. Display welcome\n",
    "#2. CPU generate their code\n",
    "#3. User Enter their code\n",
    "#4. Convert users selectioin to numbers and store in list NOT REQUIRED AS NOW DOING IT IN STEP 3\n",
    "#5. Display colours of users selection\n",
    "#6. Assess the round #DONE\n",
    "#7. if didnt win then back to step 3 BUT also print what the BLACK/ WHTIE peg count was\n",
    "#8. Once it gets to the allowable number of rounds then display a farewell message and ask for another game \n",
    "#9. "
   ]
  },
  {
   "cell_type": "code",
   "execution_count": 5,
   "metadata": {},
   "outputs": [],
   "source": [
    "#0. Set number of rounds # static\n"
   ]
  },
  {
   "cell_type": "code",
   "execution_count": 4,
   "metadata": {},
   "outputs": [
    {
     "name": "stdout",
     "output_type": "stream",
     "text": [
      "######################################################## \n",
      "######## Welcome to the game of Mastermind 2019 ######## \n",
      "######################################################## \n",
      "In this game you'll be playing against the computer who will create a combination of 3 from a pool of 5 colours. The computer can repeat the colour selection.\n",
      "For example the computer could pick RED RED YELLOW or GREEN GREEN GREEN\n",
      "You will have 5 attempts to try and guess the correct colour and position of the computers combination\n",
      "Remeber the options are \u001b[0;37;41m [R]ED \u001b[0;37;42m [G]REEN \u001b[0;30;43m [Y]ELLOW \u001b[0;37;44m [B]LUE \u001b[0;37;45m [M]AGENTA \n"
     ]
    }
   ],
   "source": [
    "#1. Display welcome\n",
    "print (\"######################################################## \")\n",
    "print (\"######## Welcome to the game of Mastermind 2019 ######## \")\n",
    "print (\"######################################################## \")\n",
    "print (\"In this game you'll be playing against the computer who will create a combination of 3 from a pool of 5 colours. The computer can repeat the colour selection.\")\n",
    "print (\"For example the computer could pick RED RED YELLOW or GREEN GREEN GREEN\")\n",
    "print (\"You will have 5 attempts to try and guess the correct colour and position of the computers combination\")\n",
    "print (f\"Remeber the options are \\033[0;37;41m [R]ED \\033[0;37;42m [G]REEN \\033[0;30;43m [Y]ELLOW \\033[0;37;44m [B]LUE \\033[0;37;45m [M]AGENTA \" )"
   ]
  },
  {
   "cell_type": "code",
   "execution_count": 5,
   "metadata": {},
   "outputs": [
    {
     "name": "stdout",
     "output_type": "stream",
     "text": [
      "[0, 0, 3]\n"
     ]
    }
   ],
   "source": [
    "#2. CPU generate their code\n",
    "code_to_crack = [random.randint(0,4), random.randint(0,4), random.randint(0,4)]\n",
    "print(code_to_crack)\n"
   ]
  },
  {
   "cell_type": "code",
   "execution_count": 17,
   "metadata": {},
   "outputs": [
    {
     "name": "stdout",
     "output_type": "stream",
     "text": [
      "Enter your guessfor POSITION 1! Remember to use a single character [R]ed [G]reen [Y]ellow [B]lue [M]agenta : Y\n",
      "Enter your guess for POSITION 2! :M\n",
      "Enter your guess for POSITION 3! :B\n",
      "['Y', 'M', 'B']\n",
      "[2, 4, 3]\n"
     ]
    }
   ],
   "source": [
    "#3. User Enter their code\n",
    "def player_guess_entry(text_to_ask):\n",
    "    global player_guess_nums\n",
    "    global player_guess\n",
    "    while (True):\n",
    "        guess_var = input(f\"{text_to_ask}\")\n",
    "        if guess_var not in str(colour_letters):\n",
    "            print(\"Remember to use a single character [R]ed [G]reen [Y]ellow [B]lue [M]agenta\")\n",
    "            continue\n",
    "        else:\n",
    "            player_guess_nums.append(colour_lookup[guess_var])\n",
    "            player_guess.append(guess_var)\n",
    "            return\n",
    "\n",
    "def init_user_input():\n",
    "    global game_round\n",
    "    global player_guess_nums\n",
    "    global player_guess\n",
    "    player_guess = []\n",
    "    player_guess_nums = []\n",
    "    player_guess_entry(\"Enter your guessfor POSITION 1! Remember to use a single character [R]ed [G]reen [Y]ellow [B]lue [M]agenta : \")\n",
    "    player_guess_entry(\"Enter your guess for POSITION 2! :\")\n",
    "    player_guess_entry(\"Enter your guess for POSITION 3! :\")\n",
    "    game_round += 1\n",
    "    \n",
    "\n",
    "init_user_input()\n",
    "    \n",
    "print(player_guess)\n",
    "print(player_guess_nums)"
   ]
  },
  {
   "cell_type": "code",
   "execution_count": 7,
   "metadata": {},
   "outputs": [
    {
     "name": "stdout",
     "output_type": "stream",
     "text": [
      "Your combination for this round is \u001b[0;37;41m RED  \u001b[0;37;41m RED  \u001b[0;30;43m YELLOW \n"
     ]
    }
   ],
   "source": [
    "#5 Display colours of users selection\n",
    "\n",
    "print(f\"Your combination for this round is {colour_lookup_words[player_guess_nums[0]]} {colour_lookup_words[player_guess_nums[1]]} {colour_lookup_words[player_guess_nums[2]]}\")\n"
   ]
  },
  {
   "cell_type": "code",
   "execution_count": 9,
   "metadata": {},
   "outputs": [
    {
     "name": "stdout",
     "output_type": "stream",
     "text": [
      "P\n",
      "P\n",
      "N\n",
      "This guess scored you 0 white pegs and 2 black pegs. Keep going!\n"
     ]
    }
   ],
   "source": [
    "#ASSESS THE ROUND6. Assess the round\n",
    "\n",
    "count_black = 0\n",
    "count_white = 0\n",
    "\n",
    "def assessment_of_player_peg(position): #pos is 0, 1, 2 and colour is RGYBM\n",
    "    global count_white\n",
    "    global count_black\n",
    "    if player_guess_nums[position] not in code_to_crack:\n",
    "        return print (\"N\")\n",
    "    else:\n",
    "        if player_guess_nums[position] == code_to_crack[position]: #this means colour and position are correct\n",
    "            count_black += 1\n",
    "            return print (\"P\")\n",
    "        else:\n",
    "            count_white += 1 #this means colour is present somewhere in the sequence.\n",
    "            return print (\"C\")\n",
    "\n",
    "\n",
    "def assessment_of_round():\n",
    "    \n",
    "    assessment_of_player_peg(0)\n",
    "    assessment_of_player_peg(1)\n",
    "    assessment_of_player_peg(2)\n",
    "    if player_guess_nums == code_to_crack:\n",
    "        return print(\"WINNER!!!\")\n",
    "    else:\n",
    "        print (f\"This guess scored you {count_white} white pegs and {count_black} black pegs. Keep going!\")\n",
    "\n",
    "assessment_of_round()\n"
   ]
  },
  {
   "cell_type": "code",
   "execution_count": null,
   "metadata": {},
   "outputs": [],
   "source": [
    "#7. if didnt win then back to step 3 BUT also print what the BLACK/ WHTIE peg count was\n"
   ]
  },
  {
   "cell_type": "code",
   "execution_count": 12,
   "metadata": {},
   "outputs": [
    {
     "name": "stdout",
     "output_type": "stream",
     "text": [
      "Game over!\n",
      "Do you want to start again? (Y/N) y\n"
     ]
    }
   ],
   "source": [
    "#8. Once it gets to the allowable number of rounds then display a farewell message and ask for another game\n",
    "game_round = 5\n",
    "n_rounds = 5\n",
    "def game_over():\n",
    "    print(\"Game over!\")\n",
    "    player_guess_nums = []\n",
    "    player_guess = []\n",
    "    count_black = 0\n",
    "    count_white = 0\n",
    "    start_again = input(f\"Do you want to start again? (Y/N) \")\n",
    "    if start_again == \"Y\":\n",
    "        print(\"START AGAIN SOMEHOW\")\n",
    "\n",
    "if game_round == n_rounds:\n",
    "    game_over()\n",
    "\n",
    "\n"
   ]
  },
  {
   "cell_type": "code",
   "execution_count": null,
   "metadata": {},
   "outputs": [],
   "source": []
  },
  {
   "cell_type": "code",
   "execution_count": null,
   "metadata": {},
   "outputs": [],
   "source": []
  },
  {
   "cell_type": "code",
   "execution_count": null,
   "metadata": {},
   "outputs": [],
   "source": [
    "##BACKUP\n",
    "\n",
    "\n",
    "\n",
    "####################EARLIER THEN BELOW - GO TO BELOW#######################################\n",
    "#3. User Enter their code\n",
    "player_guess = []\n",
    "player_guess_nums = []\n",
    "def player_guess_entry_pos1():\n",
    "    global player_guess_nums\n",
    "    while (True):\n",
    "        guess_var = input(\"Enter your guessfor POSITION 1! Remember to use a single character [R]ed [G]reen [Y]ellow [B]lue [M]agenta : \")\n",
    "        if guess_var not in str(colour_letters):\n",
    "            print(\"Remember to use a single character [R]ed [G]reen [Y]ellow [B]lue [M]agenta\")\n",
    "            continue\n",
    "        else:\n",
    "            player_guess_nums.append(colour_lookup[guess_var])\n",
    "            print(player_guess_nums)\n",
    "            return player_guess.append(guess_var)\n",
    "\n",
    "def player_guess_entry_pos2():\n",
    "    while (True):\n",
    "        guess_var = input(\"Enter your guess for POSITION 2! \")\n",
    "        if guess_var not in str(colour_letters):\n",
    "            print(\"Remember to use a single character [R]ed [G]reen [Y]ellow [B]lue [M]agenta\")\n",
    "            continue\n",
    "        else:\n",
    "            player_guess_nums.append(colour_lookup[guess_var])\n",
    "            print(player_guess_nums)\n",
    "            return player_guess.append(guess_var)\n",
    "        \n",
    "def player_guess_entry_pos3():\n",
    "    while (True):\n",
    "        guess_var = input(\"Enter your guess for POSITION 3! \")\n",
    "        if guess_var not in str(colour_letters):\n",
    "            print(\"Remember to use a single character [R]ed [G]reen [Y]ellow [B]lue [M]agenta\")\n",
    "            continue\n",
    "        else:\n",
    "            player_guess_nums.append(colour_lookup[guess_var])\n",
    "            print(player_guess_nums)\n",
    "            return player_guess.append(guess_var)\n",
    "player_guess_entry_pos1()\n",
    "player_guess_entry_pos2()\n",
    "player_guess_entry_pos3()\n",
    "print(player_guess)\n",
    "###########################################################\n",
    "\n",
    "\n",
    "#######BACKUP 4:21PM 24/10 THURSDAY ####################################################\n",
    "\n",
    "#3. User Enter their code\n",
    "def player_guess_entry_pos1():\n",
    "    global player_guess_nums\n",
    "    while (True):\n",
    "        guess_var = input(\"Enter your guessfor POSITION 1! Remember to use a single character [R]ed [G]reen [Y]ellow [B]lue [M]agenta : \")\n",
    "        if guess_var not in str(colour_letters):\n",
    "            print(\"Remember to use a single character [R]ed [G]reen [Y]ellow [B]lue [M]agenta\")\n",
    "            continue\n",
    "        else:\n",
    "            player_guess_nums.append(colour_lookup[guess_var])\n",
    "            player_guess.append(guess_var)\n",
    "            return\n",
    "\n",
    "def player_guess_entry_pos2():\n",
    "    while (True):\n",
    "        guess_var = input(\"Enter your guess for POSITION 2! \")\n",
    "        if guess_var not in str(colour_letters):\n",
    "            print(\"Remember to use a single character [R]ed [G]reen [Y]ellow [B]lue [M]agenta\")\n",
    "            continue\n",
    "        else:\n",
    "            player_guess_nums.append(colour_lookup[guess_var])\n",
    "            player_guess.append(guess_var)\n",
    "            return\n",
    "        \n",
    "def player_guess_entry_pos3():\n",
    "    while (True):\n",
    "        guess_var = input(\"Enter your guess for POSITION 3! \")\n",
    "        if guess_var not in str(colour_letters):\n",
    "            print(\"Remember to use a single character [R]ed [G]reen [Y]ellow [B]lue [M]agenta\")\n",
    "            continue\n",
    "        else:\n",
    "            player_guess_nums.append(colour_lookup[guess_var])\n",
    "            player_guess.append(guess_var)\n",
    "            return\n",
    "\n",
    "player_guess_entry_pos1()\n",
    "player_guess_entry_pos2()\n",
    "player_guess_entry_pos3()\n",
    "\n",
    "\n",
    "\n",
    "\n",
    "\n",
    "\n",
    "\n",
    "\n"
   ]
  }
 ],
 "metadata": {
  "kernelspec": {
   "display_name": "Python 3",
   "language": "python",
   "name": "python3"
  },
  "language_info": {
   "codemirror_mode": {
    "name": "ipython",
    "version": 3
   },
   "file_extension": ".py",
   "mimetype": "text/x-python",
   "name": "python",
   "nbconvert_exporter": "python",
   "pygments_lexer": "ipython3",
   "version": "3.7.3"
  }
 },
 "nbformat": 4,
 "nbformat_minor": 2
}
