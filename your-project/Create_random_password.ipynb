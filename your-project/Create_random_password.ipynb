{
 "cells": [
  {
   "cell_type": "markdown",
   "metadata": {},
   "source": [
    "\n",
    "<img align=\"left\" width=\"150\" height=\"150\" src=password2.png>  \n"
   ]
  },
  {
   "cell_type": "markdown",
   "metadata": {},
   "source": [
    "# Creation of a very (and I repeat) very secure <font color=blue|green|pink|yellow>PASSWORD </font> !\n",
    "<br>\n",
    "<hr>"
   ]
  },
  {
   "cell_type": "markdown",
   "metadata": {},
   "source": [
    "### Password: early version\n"
   ]
  },
  {
   "cell_type": "code",
   "execution_count": 29,
   "metadata": {},
   "outputs": [
    {
     "name": "stdout",
     "output_type": "stream",
     "text": [
      "(VOpf(5795(\n"
     ]
    }
   ],
   "source": [
    "import string\n",
    "import random\n",
    "letList=[random.choice(string.ascii_letters) for i in range(4)]\n",
    "letTrans=lambda x: \"\".join(x)\n",
    "letters=str(letTrans(letList))\n",
    "numbList=[random.choice(string.digits) for i in range(4)]\n",
    "numTrans=lambda x: \"\".join(x)\n",
    "numbers=str(numbTrans(numbList))\n",
    "symbol=random.choice(string.punctuation)\n",
    "password=symbol+letters+symbol+numbers+symbol\n",
    "print(password)"
   ]
  },
  {
   "cell_type": "markdown",
   "metadata": {},
   "source": [
    "### Password: in a function\n"
   ]
  },
  {
   "cell_type": "code",
   "execution_count": 128,
   "metadata": {},
   "outputs": [
    {
     "data": {
      "text/plain": [
       "'1ss;;128NNN&&19683ii16384&&1953125ww216@@@'"
      ]
     },
     "execution_count": 128,
     "metadata": {},
     "output_type": "execute_result"
    }
   ],
   "source": [
    "def password():\n",
    "    import string\n",
    "    import random\n",
    "    lst = ([\n",
    "        str(i**int(random.choice(string.digits)))\n",
    "     + int(random.choice(range(4)))*str(random.choice(string.ascii_letters)) \n",
    "     + int(random.choice(range(4)))*str(random.choice(string.punctuation))\n",
    "     for i in range(1,7)\n",
    "    ])\n",
    "    Join=lambda x: \"\".join(x)\n",
    "    return Join(lst)\n",
    "password()"
   ]
  },
  {
   "cell_type": "markdown",
   "metadata": {},
   "source": [
    "### FINAL PASSWORD VERSION: in a function with length choice option\n"
   ]
  },
  {
   "cell_type": "markdown",
   "metadata": {},
   "source": [
    "The ```PASSWORD``` function:"
   ]
  },
  {
   "cell_type": "code",
   "execution_count": 1,
   "metadata": {},
   "outputs": [],
   "source": [
    "def PASSWORD():\n",
    "    \n",
    "    #elicits from the user if they want a specific length and saves it in input_user\n",
    "    input_user=input(\"Do you need a specific length?: \").lower()\n",
    "    \n",
    "    #as long as the answer isn't yes or no (capitalised letter don't matter) it repeats the question\n",
    "    while input_user!= \"yes\" and input_user!= \"no\":\n",
    "        input_user=input(\"Do you need a specific length?: \").lower()\n",
    "    else:\n",
    "        #when the answer is yes, it elicits the length that the user wants\n",
    "        if input_user==\"yes\":\n",
    "            length=input(\"Which length?(between 6 and 25): \")\n",
    "            \n",
    "            #as long as a length between 6 and 25 isn't specified, it repeats the question\n",
    "            while length not in [str(i) for i in range(6,26)]:\n",
    "                length=input(\"Which length?(between 6 and 25): \")\n",
    "\n",
    "            #when the answer is between the wanted range\n",
    "            else:\n",
    "                import string\n",
    "                import random\n",
    "                #a list with a combination of letters, numbers and symbols is created (lst)\n",
    "                lst = ([\n",
    "                    str(i**int(random.choice(string.digits)))\n",
    "                 + int(random.choice(range(4)))*str(random.choice(string.ascii_letters)) \n",
    "                 + int(random.choice(range(4)))*str(random.choice(string.punctuation))\n",
    "                 for i in range(1,5)\n",
    "                ])\n",
    "                #Using a lambda function the items of the list are joined together to create a string\n",
    "                Join=lambda x: \"\".join(x)\n",
    "                full_password=Join(lst)\n",
    "                #only the characters up to the length desired are stored in password\n",
    "                password=full_password[0:int(length)]\n",
    "                print(\"Password is:\",password)\n",
    "                \n",
    "            \n",
    "        elif input_user==\"no\":\n",
    "            #if the answer is no it runs the same code as when it says yes but without the length restriction\n",
    "            import string\n",
    "            import random\n",
    "            lst = ([\n",
    "                str(i**int(random.choice(string.digits)))\n",
    "             + int(random.choice(range(4)))*str(random.choice(string.ascii_letters)) \n",
    "             + int(random.choice(range(4)))*str(random.choice(string.punctuation))\n",
    "             for i in range(1,5)\n",
    "            ])\n",
    "            Join=lambda x: \"\".join(x)\n",
    "            print(\"Password is:\",Join(lst))"
   ]
  },
  {
   "cell_type": "markdown",
   "metadata": {},
   "source": [
    "Using ```PASSWORD()``` to obtain a password with a random length or the length that we want."
   ]
  },
  {
   "cell_type": "code",
   "execution_count": 2,
   "metadata": {},
   "outputs": [
    {
     "name": "stdout",
     "output_type": "stream",
     "text": [
      "Do you need a specific length?: yes\n",
      "Which length?(between 6 and 25): 7\n",
      "Password is: 1lll4``\n"
     ]
    }
   ],
   "source": [
    "PASSWORD()"
   ]
  },
  {
   "cell_type": "code",
   "execution_count": null,
   "metadata": {},
   "outputs": [],
   "source": []
  }
 ],
 "metadata": {
  "kernelspec": {
   "display_name": "Python 3",
   "language": "python",
   "name": "python3"
  },
  "language_info": {
   "codemirror_mode": {
    "name": "ipython",
    "version": 3
   },
   "file_extension": ".py",
   "mimetype": "text/x-python",
   "name": "python",
   "nbconvert_exporter": "python",
   "pygments_lexer": "ipython3",
   "version": "3.8.3"
  }
 },
 "nbformat": 4,
 "nbformat_minor": 4
}
