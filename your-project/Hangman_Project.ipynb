{
 "cells": [
  {
   "cell_type": "markdown",
   "metadata": {},
   "source": [
    "### Welcome to the classic Hangman Game! "
   ]
  },
  {
   "cell_type": "markdown",
   "metadata": {},
   "source": [
    "- ##### The rules are simple: the computer will randomly select a word from a list and you will then have to name a letter. You have 6 tryouts before you get hanged! \n",
    "\n",
    "- ##### All the words in our list are made of one single word. There are no symbols, no numbers included, only regular letters.\n"
   ]
  },
  {
   "cell_type": "code",
   "execution_count": 4,
   "metadata": {},
   "outputs": [],
   "source": [
    "from List_Hangman_Words import cpu_choice"
   ]
  },
  {
   "cell_type": "code",
   "execution_count": 5,
   "metadata": {},
   "outputs": [],
   "source": [
    "word_choice = cpu_choice()"
   ]
  },
  {
   "cell_type": "code",
   "execution_count": 6,
   "metadata": {},
   "outputs": [
    {
     "name": "stdout",
     "output_type": "stream",
     "text": [
      "The chosen word has 3 letters\n"
     ]
    }
   ],
   "source": [
    "#Building a dictionary to store the letters of the chosen words and the index\n",
    "word_choice_dict = {}\n",
    "   \n",
    "for index,letter in enumerate(word_choice): \n",
    "    word_choice_dict[index] = letter\n",
    "\n",
    "#print(word_choice)\n",
    "#print(word_choice_dict)\n",
    "len_word_choice = word_choice\n",
    "print(\"The chosen word has\", len(word_choice),\"letters\")\n"
   ]
  },
  {
   "cell_type": "code",
   "execution_count": 9,
   "metadata": {},
   "outputs": [
    {
     "name": "stdout",
     "output_type": "stream",
     "text": [
      "Please, pick a letter:p\n",
      "dict_values(['p', '_', '_'])\n",
      "[]\n",
      "['p']\n",
      "0\n",
      "Do you want to try to guess the word?yes\n",
      "Try now:pet\n",
      "You guessed the word! You are free!\n",
      "             +---+\n",
      "                        |\n",
      "                        |\n",
      "                   \\O/  |\n",
      "                    |   |\n",
      "                   | |  |\n",
      "                  ========= \n"
     ]
    }
   ],
   "source": [
    "#We create an empty dictionary with the same lenght but where the values are the index of the chosen word\n",
    "\n",
    "player_progress = {}\n",
    "\n",
    "for index,letter in enumerate(word_choice): \n",
    "    player_progress[index] = \"_\"\n",
    "\n",
    "#print(player_progress)\n",
    "\n",
    "fail_letter=[]\n",
    "letters_said =[]\n",
    "number_of_fails=0\n",
    "       \n",
    "while (len(fail_letter)< 6) and (player_progress != word_choice_dict):\n",
    "\n",
    "#Variables for the player. Computer asks for a letter > \n",
    "    input_player = input(\"Please, pick a letter:\")\n",
    "    chosen_letter = input_player.lower()\n",
    "    letters_said.append(chosen_letter)\n",
    "    \n",
    "#Player has chosen a letter, let's check each of their inputs to try to guess the word! \n",
    "\n",
    "    for n,v in word_choice_dict.items():\n",
    "        if chosen_letter == v:\n",
    "            player_progress[n] = chosen_letter\n",
    "        else:\n",
    "            if chosen_letter not in fail_letter and chosen_letter not in word_choice:\n",
    "                fail_letter.append(chosen_letter)\n",
    "                number_of_fails += 1\n",
    "    \n",
    "    player_show = player_progress.values()\n",
    "    print(player_show)\n",
    "    print(fail_letter)\n",
    "    print(letters_said)\n",
    "    print(number_of_fails)\n",
    "    \n",
    "    if (len(fail_letter)) == 6 or (player_progress == word_choice_dict):\n",
    "        print(\"\"\"My friend, you are dead.\n",
    "                    +---+\n",
    "                    |   |\n",
    "                   _O_  |\n",
    "                    |   |\n",
    "                   / \\  |\n",
    "                        |\n",
    "                  ========= \"\"\",\"The chosen word was\",word_choice)\n",
    "        break\n",
    "    \n",
    "    guess = input(\"Do you want to try to guess the word?\")\n",
    "    if guess.lower() == \"yes\":\n",
    "        guess_word_1 = input(\"Try now:\")\n",
    "#If they choose to guess the word correctly, then give them an input and if it's correct the game is over, if not, keep playing and add a mistake to the count of mistakes.\n",
    "        if guess_word_1.lower() == word_choice:\n",
    "            print(\"\"\"You guessed the word! You are free!\n",
    "             +---+\n",
    "                        |\n",
    "                        |\n",
    "                   \\O/  |\n",
    "                    |   |\n",
    "                   | |  |\n",
    "                  ========= \"\"\")\n",
    "            break\n",
    "        else: \n",
    "            print(\"Incorrect answer!Keep trying!\")\n",
    "            number_of_fails += 1\n",
    "            print(\"You have failed\",number_of_fails,\"times\")\n",
    "    else: \n",
    "        print(\"Okay,keep playing!\")\n"
   ]
  },
  {
   "cell_type": "code",
   "execution_count": null,
   "metadata": {},
   "outputs": [],
   "source": []
  }
 ],
 "metadata": {
  "kernelspec": {
   "display_name": "Python 3",
   "language": "python",
   "name": "python3"
  },
  "language_info": {
   "codemirror_mode": {
    "name": "ipython",
    "version": 3
   },
   "file_extension": ".py",
   "mimetype": "text/x-python",
   "name": "python",
   "nbconvert_exporter": "python",
   "pygments_lexer": "ipython3",
   "version": "3.8.2"
  }
 },
 "nbformat": 4,
 "nbformat_minor": 4
}
