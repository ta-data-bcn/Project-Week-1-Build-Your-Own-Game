{
 "cells": [
  {
   "cell_type": "markdown",
   "metadata": {},
   "source": [
    "# Black Jack - Project Week 1"
   ]
  },
  {
   "cell_type": "markdown",
   "metadata": {},
   "source": [
    "## Version 2"
   ]
  },
  {
   "cell_type": "markdown",
   "metadata": {},
   "source": [
    "## Having trouble with the list of cards and updating after appending and summing up within functions"
   ]
  },
  {
   "cell_type": "markdown",
   "metadata": {},
   "source": [
    "#### Defining the Deck and the Key Variables"
   ]
  },
  {
   "cell_type": "code",
   "execution_count": 5,
   "metadata": {},
   "outputs": [
    {
     "name": "stdout",
     "output_type": "stream",
     "text": [
      "['7', '8', '6', '9', '6', 'Q', '6', '5', 'J', 'K', '9', '2', '7', '8', 'J', '0', '9', '5', '0', '7', 'K', 'A', '0', '4', 'Q', '3', '3', 'A', 'Q', '6', '0', '8', 'Q', '4', 'A', '5', '9', 'J', '3', '2', '2', 'J', 'A', '3', 'K', '2', '4', 'K', '4', '8', '7', '5']\n",
      "Dealer has X and :  ['J']\n",
      "You have:  [['7'], ['K']]\n"
     ]
    },
    {
     "ename": "TypeError",
     "evalue": "unhashable type: 'list'",
     "output_type": "error",
     "traceback": [
      "\u001b[0;31m---------------------------------------------------------------------------\u001b[0m",
      "\u001b[0;31mTypeError\u001b[0m                                 Traceback (most recent call last)",
      "\u001b[0;32m<ipython-input-5-368ee8090a50>\u001b[0m in \u001b[0;36m<module>\u001b[0;34m\u001b[0m\n\u001b[1;32m     26\u001b[0m         \u001b[0mprint\u001b[0m\u001b[0;34m(\u001b[0m\u001b[0;34m\"You have: \"\u001b[0m \u001b[0;34m,\u001b[0m \u001b[0mplayer\u001b[0m\u001b[0;34m)\u001b[0m\u001b[0;34m\u001b[0m\u001b[0;34m\u001b[0m\u001b[0m\n\u001b[1;32m     27\u001b[0m \u001b[0;34m\u001b[0m\u001b[0m\n\u001b[0;32m---> 28\u001b[0;31m \u001b[0mplayer_sum\u001b[0m \u001b[0;34m=\u001b[0m \u001b[0msum\u001b[0m\u001b[0;34m(\u001b[0m\u001b[0mmap\u001b[0m\u001b[0;34m(\u001b[0m\u001b[0mcards\u001b[0m\u001b[0;34m.\u001b[0m\u001b[0mget\u001b[0m\u001b[0;34m,\u001b[0m \u001b[0mplayer\u001b[0m\u001b[0;34m)\u001b[0m\u001b[0;34m)\u001b[0m\u001b[0;34m\u001b[0m\u001b[0;34m\u001b[0m\u001b[0m\n\u001b[0m\u001b[1;32m     29\u001b[0m \u001b[0mdealer_sum\u001b[0m \u001b[0;34m=\u001b[0m \u001b[0msum\u001b[0m\u001b[0;34m(\u001b[0m\u001b[0mmap\u001b[0m\u001b[0;34m(\u001b[0m\u001b[0mcards\u001b[0m\u001b[0;34m.\u001b[0m\u001b[0mget\u001b[0m\u001b[0;34m,\u001b[0m \u001b[0mdealer\u001b[0m\u001b[0;34m)\u001b[0m\u001b[0;34m)\u001b[0m\u001b[0;34m\u001b[0m\u001b[0;34m\u001b[0m\u001b[0m\n",
      "\u001b[0;31mTypeError\u001b[0m: unhashable type: 'list'"
     ]
    }
   ],
   "source": [
    "# Define Deck\n",
    "import random\n",
    "\n",
    "\n",
    "deck = list('234567890JQKA'*4)\n",
    "random.shuffle(deck)\n",
    "print(deck)\n",
    "\n",
    "cards = {'2':2, '3':3, '4':4, '5':5, '6':6, '7':7, '8':8,\n",
    "          '9':9, '0':10, 'J':10, 'Q':10, 'K':10, 'A':1}\n",
    "\n",
    "# While loop for handing out cards is now short\n",
    "# Dealing the cards\n",
    "\n",
    "player = []\n",
    "dealer = []\n",
    "\n",
    "while len(dealer) != 2:\n",
    "    dealer.append(random.sample(deck, 1))\n",
    "    if len(dealer) == 2:\n",
    "        print(\"Dealer has X and : \" , dealer[0])\n",
    "\n",
    "while len(player) != 2:\n",
    "    player.append(random.sample(deck, 1))\n",
    "    if len(player) == 2:\n",
    "        print(\"You have: \" , player)\n",
    "\n",
    "player_sum = sum(map(cards.get, player))\n",
    "dealer_sum = sum(map(cards.get, dealer))"
   ]
  },
  {
   "cell_type": "code",
   "execution_count": 2,
   "metadata": {},
   "outputs": [
    {
     "name": "stdout",
     "output_type": "stream",
     "text": [
      "Would you like to play a round of Black Jack?.y\n",
      "You have  ['5', '3']\n",
      "Would you like to stay or hit? hit\n"
     ]
    },
    {
     "ename": "ValueError",
     "evalue": "list.remove(x): x not in list",
     "output_type": "error",
     "traceback": [
      "\u001b[0;31m---------------------------------------------------------------------------\u001b[0m",
      "\u001b[0;31mValueError\u001b[0m                                Traceback (most recent call last)",
      "\u001b[0;32m<ipython-input-2-e13a99b27a9f>\u001b[0m in \u001b[0;36m<module>\u001b[0;34m\u001b[0m\n\u001b[1;32m     50\u001b[0m \u001b[0;32mwhile\u001b[0m \u001b[0;32mTrue\u001b[0m\u001b[0;34m:\u001b[0m\u001b[0;34m\u001b[0m\u001b[0;34m\u001b[0m\u001b[0m\n\u001b[1;32m     51\u001b[0m     \u001b[0;32mif\u001b[0m \u001b[0mwant_to_play\u001b[0m \u001b[0;32min\u001b[0m \u001b[0;34m[\u001b[0m\u001b[0;34m\"y\"\u001b[0m\u001b[0;34m,\u001b[0m \u001b[0;34m\"Y\"\u001b[0m\u001b[0;34m,\u001b[0m \u001b[0;34m\"Yes\"\u001b[0m\u001b[0;34m,\u001b[0m \u001b[0;34m\"yes\"\u001b[0m\u001b[0;34m,\u001b[0m \u001b[0;34m\"YES\"\u001b[0m\u001b[0;34m,\u001b[0m \u001b[0;34m\"YEAH\"\u001b[0m\u001b[0;34m,\u001b[0m \u001b[0;34m\"yeah\"\u001b[0m\u001b[0;34m,\u001b[0m \u001b[0;34m\"yeah!\"\u001b[0m\u001b[0;34m,\u001b[0m \u001b[0;34m\"YEAH!\"\u001b[0m\u001b[0;34m,\u001b[0m \u001b[0;34m\"alright\"\u001b[0m\u001b[0;34m,\u001b[0m \u001b[0;34m\"Ok\"\u001b[0m\u001b[0;34m,\u001b[0m \u001b[0;34m\"ok\"\u001b[0m\u001b[0;34m]\u001b[0m\u001b[0;34m:\u001b[0m\u001b[0;34m\u001b[0m\u001b[0;34m\u001b[0m\u001b[0m\n\u001b[0;32m---> 52\u001b[0;31m         \u001b[0mplayer_move\u001b[0m\u001b[0;34m(\u001b[0m\u001b[0;34m)\u001b[0m\u001b[0;34m\u001b[0m\u001b[0;34m\u001b[0m\u001b[0m\n\u001b[0m\u001b[1;32m     53\u001b[0m     \u001b[0;32melse\u001b[0m\u001b[0;34m:\u001b[0m\u001b[0;34m\u001b[0m\u001b[0;34m\u001b[0m\u001b[0m\n\u001b[1;32m     54\u001b[0m         \u001b[0mprint\u001b[0m\u001b[0;34m(\u001b[0m\u001b[0;34m\"Ok, byebye!\"\u001b[0m\u001b[0;34m)\u001b[0m\u001b[0;34m\u001b[0m\u001b[0;34m\u001b[0m\u001b[0m\n",
      "\u001b[0;32m<ipython-input-2-e13a99b27a9f>\u001b[0m in \u001b[0;36mplayer_move\u001b[0;34m()\u001b[0m\n\u001b[1;32m     12\u001b[0m             \u001b[0mone_card_drawn\u001b[0m \u001b[0;34m=\u001b[0m \u001b[0mrandom\u001b[0m\u001b[0;34m.\u001b[0m\u001b[0msample\u001b[0m\u001b[0;34m(\u001b[0m\u001b[0mdeck\u001b[0m\u001b[0;34m,\u001b[0m \u001b[0;36m1\u001b[0m\u001b[0;34m)\u001b[0m\u001b[0;34m\u001b[0m\u001b[0;34m\u001b[0m\u001b[0m\n\u001b[1;32m     13\u001b[0m             \u001b[0mplayer\u001b[0m\u001b[0;34m.\u001b[0m\u001b[0mappend\u001b[0m\u001b[0;34m(\u001b[0m\u001b[0mone_card_drawn\u001b[0m\u001b[0;34m)\u001b[0m\u001b[0;34m\u001b[0m\u001b[0;34m\u001b[0m\u001b[0m\n\u001b[0;32m---> 14\u001b[0;31m             \u001b[0mdeck\u001b[0m\u001b[0;34m.\u001b[0m\u001b[0mremove\u001b[0m\u001b[0;34m(\u001b[0m\u001b[0mone_card_drawn\u001b[0m\u001b[0;34m)\u001b[0m\u001b[0;34m\u001b[0m\u001b[0;34m\u001b[0m\u001b[0m\n\u001b[0m\u001b[1;32m     15\u001b[0m             \u001b[0mdealer_move\u001b[0m\u001b[0;34m(\u001b[0m\u001b[0;34m)\u001b[0m\u001b[0;34m\u001b[0m\u001b[0;34m\u001b[0m\u001b[0m\n\u001b[1;32m     16\u001b[0m             \u001b[0mprint\u001b[0m\u001b[0;34m(\u001b[0m\u001b[0;34m\"You have \"\u001b[0m \u001b[0;34m,\u001b[0m \u001b[0mplayer\u001b[0m\u001b[0;34m,\u001b[0m \u001b[0;34m\"summing up to \"\u001b[0m \u001b[0;34m,\u001b[0m \u001b[0mplayer_sum\u001b[0m\u001b[0;34m)\u001b[0m\u001b[0;34m\u001b[0m\u001b[0;34m\u001b[0m\u001b[0m\n",
      "\u001b[0;31mValueError\u001b[0m: list.remove(x): x not in list"
     ]
    }
   ],
   "source": [
    "\n",
    "\n",
    "\n",
    "want_to_play = input(\"Would you like to play a round of Black Jack?.\")\n",
    "\n",
    "        \n",
    "# Choice of the Player\n",
    "\n",
    "def player_move():\n",
    "    player_sum = sum(map(cards.get, player))\n",
    "    while player_sum < 21:\n",
    "        print(\"You have \" , player)\n",
    "        player_choice = input(\"Would you like to stay or hit? \")\n",
    "        if player_choice in [\"hit\" , \"Hit\", \"HIT\", \"h\", \"H\"]:\n",
    "            one_card_drawn = random.sample(deck, 1)\n",
    "            player.append(one_card_drawn)\n",
    "            deck.remove(one_card_drawn)\n",
    "            dealer_move()\n",
    "            print(\"You have \" , player, \"summing up to \" , player_sum)\n",
    "            print(\"The dealer has X & \" , dealer[-1])\n",
    "        else:\n",
    "            compare()\n",
    "    if player_sum == 21:\n",
    "        print(\"Huurray you have BLACK JACK! You win!\")\n",
    "    else:\n",
    "        print(\"Uh ohh - sorry you busted! Dealer wins. hehehe\")\n",
    "\n",
    "# Choice of the Dealer\n",
    "        \n",
    "def dealer_move():\n",
    "    while dealer_sum < 17:\n",
    "        one_card_drawn = random.sample(deck, 1)\n",
    "        dealer.append(one_card_drawn)\n",
    "        deck.remove(one_card_drawn)\n",
    "\n",
    "# Game         \n",
    "        \n",
    "def compare():\n",
    "    player_result = 21 - player_sum\n",
    "    dealer_result = 21 - dealer_sum\n",
    "    if player_result < dealer_result:\n",
    "        print(\"Huuurraayy! You win! You have \" , player)\n",
    "        print(\"The dealer only has \", dealer)\n",
    "    if player_result > dealer_result:\n",
    "        print(\"Uh ohh... you lose. You have \" , player)\n",
    "        print(\"The dealer has \", dealer, \"Hehehe\")\n",
    "    if player_result == dealer_result:\n",
    "        print(\"Oh - it's a tie!\")\n",
    "        want_to_play\n",
    "    \n",
    "# Start the Game\n",
    "    \n",
    "while True:\n",
    "    if want_to_play in [\"y\", \"Y\", \"Yes\", \"yes\", \"YES\", \"YEAH\", \"yeah\", \"yeah!\", \"YEAH!\", \"alright\", \"Ok\", \"ok\"]:\n",
    "        player_move()\n",
    "    else:\n",
    "        print(\"Ok, byebye!\")\n",
    "        \n",
    "    \n"
   ]
  }
 ],
 "metadata": {
  "kernelspec": {
   "display_name": "Python 3",
   "language": "python",
   "name": "python3"
  },
  "language_info": {
   "codemirror_mode": {
    "name": "ipython",
    "version": 3
   },
   "file_extension": ".py",
   "mimetype": "text/x-python",
   "name": "python",
   "nbconvert_exporter": "python",
   "pygments_lexer": "ipython3",
   "version": "3.7.6"
  }
 },
 "nbformat": 4,
 "nbformat_minor": 2
}
