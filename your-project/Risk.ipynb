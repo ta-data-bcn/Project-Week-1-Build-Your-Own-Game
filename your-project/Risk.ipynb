{
 "cells": [
  {
   "cell_type": "code",
   "execution_count": 1,
   "metadata": {},
   "outputs": [],
   "source": [
    "import re\n",
    "import random "
   ]
  },
  {
   "cell_type": "code",
   "execution_count": 2,
   "metadata": {},
   "outputs": [],
   "source": [
    "#Limit number of soldiers to 9 \n",
    "#Pre combat: deciding what you want to attack with \n",
    "\n",
    "def soldier_checker(text_to_ask):\n",
    "    while True: \n",
    "        integer = input(f\"{text_to_ask}\")\n",
    "        if re.match(\"^[1-9]$\", integer) is not None:\n",
    "            return integer\n",
    "        print(\"Has to be digits between 1 and 9.\")"
   ]
  },
  {
   "cell_type": "code",
   "execution_count": 3,
   "metadata": {},
   "outputs": [
    {
     "name": "stdout",
     "output_type": "stream",
     "text": [
      "Attacker: How many soldiers do you have? \n",
      "Has to be digits between 1 and 9.\n",
      "Attacker: How many soldiers do you have? \n",
      "Has to be digits between 1 and 9.\n",
      "Attacker: How many soldiers do you have? 4\n",
      "Defendant: How many soldiers do you have? 4\n"
     ]
    }
   ],
   "source": [
    "soldiers_attack = int(soldier_checker(f\"Attacker: How many soldiers do you have? \")) \n",
    "soldiers_defense = int(soldier_checker(f\"Defendant: How many soldiers do you have? \"))"
   ]
  },
  {
   "cell_type": "code",
   "execution_count": 4,
   "metadata": {},
   "outputs": [],
   "source": [
    "# maximum of three soldiers\n",
    "def dice_attack_check(text_to_ask):\n",
    "    while True: \n",
    "        integer = input(f\"{text_to_ask}\")\n",
    "        if re.match(\"[1-3]$\", integer) is not None:\n",
    "            return integer\n",
    "        print(\"Maximum of three soldiers.\")\n",
    "        "
   ]
  },
  {
   "cell_type": "code",
   "execution_count": 5,
   "metadata": {},
   "outputs": [
    {
     "name": "stdout",
     "output_type": "stream",
     "text": [
      "Attacker: How many dices do you want to attack with? 3\n"
     ]
    }
   ],
   "source": [
    "dice_attack = int(dice_attack_check(f\"Attacker: How many dices do you want to attack with? \"))\n",
    "\n",
    "#you have to leave one soldier behind #this implies you can't attack with one soldier\n",
    "\n",
    "while dice_attack >= soldiers_attack: \n",
    "    print(\"You have to attack with less dices than soldiers you have\")\n",
    "    dice_attack = int(dice_attack_check(f\"Attacker: How many dices do you want to attack with? \"))\n"
   ]
  },
  {
   "cell_type": "code",
   "execution_count": 6,
   "metadata": {},
   "outputs": [],
   "source": [
    "# you can defend with a maximum of two soldiers\n",
    "\n",
    "def dice_defend_check(text_to_ask):\n",
    "    while True: \n",
    "        integer = input(f\"{text_to_ask}\")\n",
    "        if re.match(\"[1-2]$\", integer) is not None:\n",
    "            return integer\n",
    "        print(\"Maximum of two soldiers.\")"
   ]
  },
  {
   "cell_type": "code",
   "execution_count": 7,
   "metadata": {},
   "outputs": [
    {
     "name": "stdout",
     "output_type": "stream",
     "text": [
      "Defendant: How many dices do you want to defend with? 3\n",
      "Maximum of two soldiers.\n",
      "Defendant: How many dices do you want to defend with? 3\n",
      "Maximum of two soldiers.\n",
      "Defendant: How many dices do you want to defend with? 3\n",
      "Maximum of two soldiers.\n",
      "Defendant: How many dices do you want to defend with? 2\n"
     ]
    }
   ],
   "source": [
    "dice_defend = int(dice_defend_check(f\"Defendant: How many dices do you want to defend with? \"))\n",
    "\n",
    "while dice_defend > soldiers_defense:\n",
    "    dice_defend = int(dice_defend_check(f\"Defendant: How many dices do you want to defend with? \"))"
   ]
  },
  {
   "cell_type": "code",
   "execution_count": 8,
   "metadata": {},
   "outputs": [
    {
     "name": "stdout",
     "output_type": "stream",
     "text": [
      "[1, 4, 1]\n"
     ]
    }
   ],
   "source": [
    "#game starts\n",
    "\n",
    "attacker_dices = []\n",
    " \n",
    "while len(attacker_dices) < dice_attack: \n",
    "    i = random.randint(1,6)\n",
    "    attacker_dices.append(i)\n",
    "print(attacker_dices)"
   ]
  },
  {
   "cell_type": "code",
   "execution_count": 9,
   "metadata": {},
   "outputs": [
    {
     "name": "stdout",
     "output_type": "stream",
     "text": [
      "[3, 5]\n"
     ]
    }
   ],
   "source": [
    "defendant_dices = []\n",
    " \n",
    "while len(defendant_dices) < dice_defend: \n",
    "    i = random.randint(1,6)\n",
    "    defendant_dices.append(i)\n",
    "\n",
    "print(defendant_dices)"
   ]
  },
  {
   "cell_type": "code",
   "execution_count": 13,
   "metadata": {},
   "outputs": [
    {
     "name": "stdout",
     "output_type": "stream",
     "text": [
      "Attacker: How many soldiers do you have? 3\n",
      "Defendant: How many soldiers do you have? 2\n",
      "Attacker: How many dices do you want to attack with? 4\n",
      "Maximum of three soldiers.\n",
      "Attacker: How many dices do you want to attack with? 3\n",
      "You have to attack with less dices than soldiers you have\n",
      "Attacker: How many dices do you want to attack with? 2\n",
      "Defendant: How many dices do you want to defend with? 4\n",
      "Maximum of two soldiers.\n",
      "Defendant: How many dices do you want to defend with? 2\n",
      "Throw for attacker: [4, 3]\n",
      "Throw for defendant: [3, 3]\n",
      "Attacker wins: defendant looses one soldier\n",
      "Soldiers remaining for defense: 1\n",
      "Soldiers remaining for attack: 3\n",
      "Defendant wins: attacker looses one soldier\n",
      "Soldiers remaining for defense: 1\n",
      "Soldiers remaining for attack: 2\n",
      "Throw for attacker: [1, 5]\n",
      "Throw for defendant: [3, 1]\n",
      "Attacker wins: defendant looses one soldier\n",
      "Soldiers remaining for defense: 0\n",
      "Soldiers remaining for attack: 2\n",
      "Defendant wins: attacker looses one soldier\n",
      "Soldiers remaining for defense: 0\n",
      "Soldiers remaining for attack: 1\n",
      "Game result: Defendant wins\n",
      "Game result: Attacker wins\n"
     ]
    }
   ],
   "source": [
    "#Whole game \n",
    "\n",
    "import re\n",
    "import random\n",
    "\n",
    "def soldier_checker(text_to_ask):\n",
    "    while True: \n",
    "        integer = input(f\"{text_to_ask}\")\n",
    "        if re.match(\"^[1-9]$\", integer) is not None:\n",
    "            return integer\n",
    "        print(\"Has to be digits between 1 and 9.\")\n",
    "\n",
    "soldiers_attack = int(soldier_checker(f\"Attacker: How many soldiers do you have? \")) \n",
    "soldiers_defense = int(soldier_checker(f\"Defendant: How many soldiers do you have? \"))\n",
    "\n",
    "def dice_attack_check(text_to_ask):\n",
    "    while True: \n",
    "        integer = input(f\"{text_to_ask}\")\n",
    "        if re.match(\"[1-3]$\", integer) is not None:\n",
    "            return integer\n",
    "        print(\"Maximum of three soldiers.\")\n",
    "        \n",
    "dice_attack = int(dice_attack_check(f\"Attacker: How many dices do you want to attack with? \"))\n",
    "\n",
    "while dice_attack >= soldiers_attack: \n",
    "    print(\"You have to attack with less dices than soldiers you have\")\n",
    "    dice_attack = int(dice_attack_check(f\"Attacker: How many dices do you want to attack with? \"))\n",
    "    \n",
    "def dice_defend_check(text_to_ask):\n",
    "    while True: \n",
    "        integer = input(f\"{text_to_ask}\")\n",
    "        if re.match(\"[1-2]$\", integer) is not None:\n",
    "            return integer\n",
    "        print(\"Maximum of two soldiers.\")\n",
    "\n",
    "dice_defend = int(dice_defend_check(f\"Defendant: How many dices do you want to defend with? \"))\n",
    "\n",
    "while dice_defend > soldiers_defense:\n",
    "    dice_defend = int(dice_defend_check(f\"Defendant: How many dices do you want to defend with? \"))\n",
    "        \n",
    "while soldiers_attack > 1 and soldiers_defense > 0:\n",
    "    \n",
    "    attacker_dices = []\n",
    " \n",
    "    while len(attacker_dices) < dice_attack: \n",
    "        i = random.randint(1,6)\n",
    "        attacker_dices.append(i)\n",
    "    print(\"Throw for attacker: %s\" % attacker_dices)\n",
    "\n",
    "    defendant_dices = []\n",
    " \n",
    "    while len(defendant_dices) < dice_defend: \n",
    "        i = random.randint(1,6)\n",
    "        defendant_dices.append(i)\n",
    "    print(\"Throw for defendant: %s\" % defendant_dices)\n",
    "    \n",
    "    \n",
    "    while len(defendant_dices) > 0:\n",
    "        if max(attacker_dices) > max(defendant_dices): \n",
    "            print(\"Attacker wins: defendant looses one soldier\")\n",
    "            soldiers_defense -= 1\n",
    "        else: \n",
    "            print(\"Defendant wins: attacker looses one soldier\")\n",
    "            soldiers_attack -= 1\n",
    "        attacker_dices.remove(max(attacker_dices))\n",
    "        defendant_dices.remove(max(defendant_dices))\n",
    "        print(\"Soldiers remaining for defense: %s\" % soldiers_defense)\n",
    "        print(\"Soldiers remaining for attack: %s\" % soldiers_attack)\n",
    "    \n",
    "        \n",
    "if soldiers_attack == 1: \n",
    "    print(\"Game result: Defendant wins\")\n",
    "if soldiers_defense == 0: \n",
    "    print(\"Game result: Attacker wins\")"
   ]
  },
  {
   "cell_type": "code",
   "execution_count": null,
   "metadata": {},
   "outputs": [],
   "source": []
  }
 ],
 "metadata": {
  "kernelspec": {
   "display_name": "Python 3",
   "language": "python",
   "name": "python3"
  },
  "language_info": {
   "codemirror_mode": {
    "name": "ipython",
    "version": 3
   },
   "file_extension": ".py",
   "mimetype": "text/x-python",
   "name": "python",
   "nbconvert_exporter": "python",
   "pygments_lexer": "ipython3",
   "version": "3.7.4"
  }
 },
 "nbformat": 4,
 "nbformat_minor": 2
}
