{
 "cells": [
  {
   "cell_type": "code",
   "execution_count": 1,
   "metadata": {},
   "outputs": [],
   "source": [
    "import random\n"
   ]
  },
  {
   "cell_type": "code",
   "execution_count": 2,
   "metadata": {},
   "outputs": [],
   "source": [
    "def lets_play():\n",
    "    print(\"Lets play Hangman - My favourite food\")\n",
    "    "
   ]
  },
  {
   "cell_type": "code",
   "execution_count": 3,
   "metadata": {},
   "outputs": [
    {
     "name": "stdout",
     "output_type": "stream",
     "text": [
      "Lets play Hangman - My favourite food\n"
     ]
    }
   ],
   "source": [
    "lets_play()"
   ]
  },
  {
   "cell_type": "code",
   "execution_count": 4,
   "metadata": {},
   "outputs": [],
   "source": [
    "words_list=[\"steak\",\"chicken\",\"pizza\",\"burger\",\"cheese\"]\n",
    "word_to_guess=random.choice(words_list)\n",
    "mistakes=5\n",
    "hint=\"scib\"\n"
   ]
  },
  {
   "cell_type": "code",
   "execution_count": 5,
   "metadata": {},
   "outputs": [
    {
     "name": "stdout",
     "output_type": "stream",
     "text": [
      "s _ _ _ _ \n",
      "guess a letter_:\n",
      "it schould be only one lower case letter i\n",
      "you alredy has this letter ...\n",
      "s _ _ _ _ \n",
      "guess a letter_:\n",
      "it schould be only one lower case letter o\n",
      "No\n",
      "4 more turns\n",
      "  |  \n",
      "s _ _ _ _ \n",
      "guess a letter_:\n",
      "it schould be only one lower case letter a\n",
      "s _ _ a _ \n",
      "guess a letter_:\n",
      "it schould be only one lower case letter e\n",
      "s _ e a _ \n",
      "guess a letter_:\n",
      "it schould be only one lower case letter t\n",
      "s t e a _ \n",
      "guess a letter_:\n",
      "it schould be only one lower case letter k\n",
      "s t e a k You guessed it! Now you know something about my favorite food!\n"
     ]
    }
   ],
   "source": [
    "while mistakes>0:\n",
    "    not_guessed_letter=0\n",
    "    for letter in word_to_guess:\n",
    "        if letter in hint:\n",
    "            print(letter,end=\" \")\n",
    "        else:\n",
    "            print(\"_\",end=\" \")\n",
    "            not_guessed_letter=not_guessed_letter+1\n",
    "    print\n",
    "    if not_guessed_letter==0:\n",
    "        print (\"You guessed it! Now you know something about my favorite food!\")\n",
    "        break\n",
    "    your_guess=input(\"\\nguess a letter_:\\nit schould be only one lower case letter \")\n",
    "    if your_guess in hint:\n",
    "        print(\"you alredy has this letter ...\")\n",
    "    else:\n",
    "        \n",
    "        hint+=your_guess\n",
    "        if your_guess not in word_to_guess:\n",
    "            mistakes = mistakes -1\n",
    "            hint+=your_guess\n",
    "            print (\"No\")\n",
    "            print (mistakes, \"more turns\")\n",
    "            if mistakes < 5: print ('  |  ')\n",
    "            if mistakes < 4: print ('  O  ')\n",
    "            if mistakes < 3: print (' /|\\ ')\n",
    "            if mistakes < 2: print ('  |  ')\n",
    "            if mistakes < 1: print (' / \\ ')\n",
    "            if mistakes == 0:\n",
    "                 print (\"Sorry you lose :( \\nI guessed a\", word_to_guess)\n",
    "\n",
    "\n",
    "     \n",
    "\n",
    "            \n"
   ]
  },
  {
   "cell_type": "code",
   "execution_count": null,
   "metadata": {},
   "outputs": [],
   "source": []
  }
 ],
 "metadata": {
  "kernelspec": {
   "display_name": "Python 3",
   "language": "python",
   "name": "python3"
  },
  "language_info": {
   "codemirror_mode": {
    "name": "ipython",
    "version": 3
   },
   "file_extension": ".py",
   "mimetype": "text/x-python",
   "name": "python",
   "nbconvert_exporter": "python",
   "pygments_lexer": "ipython3",
   "version": "3.8.6"
  }
 },
 "nbformat": 4,
 "nbformat_minor": 4
}
