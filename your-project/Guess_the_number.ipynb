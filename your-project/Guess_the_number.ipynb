{
 "cells": [
  {
   "cell_type": "code",
   "execution_count": 16,
   "metadata": {},
   "outputs": [],
   "source": [
    "import random"
   ]
  },
  {
   "cell_type": "code",
   "execution_count": 17,
   "metadata": {},
   "outputs": [],
   "source": [
    "def hello_guessthenumber():\n",
    "    name = input(\"Hello, what's your name? \")\n",
    "    print(\"Hello \" + name + \"!\")\n",
    "    \n",
    "    level = input(\"Pick a level: easy or hard? \")\n",
    "    while level != \"easy\" and level != \"hard\":\n",
    "        level = input(\"Pick a level: easy or hard? \")\n",
    "        \n",
    "    if level == \"easy\":\n",
    "        number_10 = random.randint(1, 10)\n",
    "        print(\"I'm thinking of a number between 1 and 10. You will have 5 turns.\")\n",
    "        return number_10\n",
    "    elif level == \"hard\":\n",
    "        number_100 = random.randint(1, 100)\n",
    "        print(\"I'm thinking of a number between 1 and 100. You will have 5 turns.\")\n",
    "        return number_100"
   ]
  },
  {
   "cell_type": "code",
   "execution_count": null,
   "metadata": {},
   "outputs": [],
   "source": [
    "number = hello_guessthenumber()"
   ]
  },
  {
   "cell_type": "code",
   "execution_count": null,
   "metadata": {},
   "outputs": [],
   "source": [
    "guesses = 0"
   ]
  },
  {
   "cell_type": "code",
   "execution_count": null,
   "metadata": {},
   "outputs": [],
   "source": [
    "while guesses <= 5:\n",
    "    player_number = int(input(\"Guess: \"))\n",
    "    if player_number == number:\n",
    "        print(\"Congratulations! You guessed the number!\")\n",
    "        break\n",
    "    elif player_number < number:\n",
    "        guesses += 1\n",
    "        print(\"Too low\")\n",
    "    elif player_number > number:\n",
    "        guesses += 1\n",
    "        print(\"Too high\")\n",
    "    if guesses == 5:\n",
    "        print(\"Sorry, you lost the game.\")\n",
    "        break"
   ]
  },
  {
   "cell_type": "code",
   "execution_count": null,
   "metadata": {},
   "outputs": [],
   "source": []
  },
  {
   "cell_type": "code",
   "execution_count": null,
   "metadata": {},
   "outputs": [],
   "source": []
  }
 ],
 "metadata": {
  "kernelspec": {
   "display_name": "Python 3",
   "language": "python",
   "name": "python3"
  },
  "language_info": {
   "codemirror_mode": {
    "name": "ipython",
    "version": 3
   },
   "file_extension": ".py",
   "mimetype": "text/x-python",
   "name": "python",
   "nbconvert_exporter": "python",
   "pygments_lexer": "ipython3",
   "version": "3.8.3"
  }
 },
 "nbformat": 4,
 "nbformat_minor": 4
}
