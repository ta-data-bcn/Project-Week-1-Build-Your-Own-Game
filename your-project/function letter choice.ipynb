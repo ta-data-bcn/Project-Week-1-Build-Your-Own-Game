{
 "cells": [
  {
   "cell_type": "code",
   "execution_count": 2,
   "metadata": {},
   "outputs": [],
   "source": [
    "#defining letter choice\n",
    "def letter_choice():\n",
    "\n",
    "    alphabet = list(map(chr, range(97, 123)))\n",
    "    letter_choice = []\n",
    "\n",
    "    import random\n",
    "    choosing_player = random.choice(players)\n",
    "\n",
    "    if choosing_player in cpu_teams:\n",
    "        print(choosing_player + \" choose!\")\n",
    "        letter = random.choice(alphabet)\n",
    "        letter_choice.append(letter)\n",
    "        print(\"This rounds letter is\" + letter)\n",
    "\n",
    "    else:\n",
    "        letter_player = input(\"You choose! What letter will be? \")\n",
    "        print(letter_player)\n",
    "        if letter_choice.lower() in alphabet:\n",
    "            letter_choice.append(letter_player)\n",
    "        else:\n",
    "            print(input(\"You choose! What letter will be? \"))"
   ]
  },
  {
   "cell_type": "code",
   "execution_count": null,
   "metadata": {},
   "outputs": [],
   "source": []
  }
 ],
 "metadata": {
  "kernelspec": {
   "display_name": "Python 3",
   "language": "python",
   "name": "python3"
  },
  "language_info": {
   "codemirror_mode": {
    "name": "ipython",
    "version": 3
   },
   "file_extension": ".py",
   "mimetype": "text/x-python",
   "name": "python",
   "nbconvert_exporter": "python",
   "pygments_lexer": "ipython3",
   "version": "3.8.3"
  }
 },
 "nbformat": 4,
 "nbformat_minor": 4
}
