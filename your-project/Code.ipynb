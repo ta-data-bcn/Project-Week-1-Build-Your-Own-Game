{
 "cells": [
  {
   "cell_type": "markdown",
   "metadata": {},
   "source": [
    "GAME STRUCTURE\n",
    "\n",
    "1. Introduce game \n",
    "2. Ask for level of difficulty (input)\n",
    "    a. Easy: 1-10, 5 turns\n",
    "    b. Medium: 1-100, 7 turns\n",
    "    c. Hard: 1-1000, 11 turns\n",
    "    *capitalize letter of input, allow only these 3 options!!!! (message if not)\n",
    "    \n",
    "3. Assign variables in function of level chosen (if function): numbers (list), tries (integer)\n",
    "4. Print text explaing the game in function of the level\n",
    "\n",
    "Game\n",
    "\n",
    "5. Generate right_number (random variable)\n",
    "6. Ask for user's input, name it guess_number\n",
    "7. While loop, given number of tries the user can do\n",
    "8. Function that returns \"Low\" or \"High\" depending on if the number is high or low, and returns \"Correct!\" if the number is correct\n",
    "\n",
    "\n",
    "\n",
    "\n",
    "\n",
    "Ask if the want to play again. If they want, maybe keep track of the rounds they have won and failed????\n",
    "\n"
   ]
  },
  {
   "cell_type": "code",
   "execution_count": 8,
   "metadata": {},
   "outputs": [
    {
     "name": "stdout",
     "output_type": "stream",
     "text": [
      "Pick your level: easy, medium or hard? easy\n"
     ]
    }
   ],
   "source": [
    "levels=[\"easy\", \"medium\", \"hard\"]\n",
    "def ask_level():\n",
    "    choice=input(\"Pick your level: easy, medium or hard? \").lower()\n",
    "    while choice not in levels:\n",
    "        print(\"Please, choose one of the options: easy, medium or hard\")\n",
    "        choice=input(\"\\nPick your level: easy, medium or hard? \").lower()\n",
    "    return choice\n",
    "\n",
    "level=ask_level()"
   ]
  },
  {
   "cell_type": "code",
   "execution_count": 27,
   "metadata": {},
   "outputs": [
    {
     "name": "stdout",
     "output_type": "stream",
     "text": [
      "Pick your level: easy, medium or hard? hard\n"
     ]
    }
   ],
   "source": []
  },
  {
   "cell_type": "code",
   "execution_count": 9,
   "metadata": {},
   "outputs": [
    {
     "name": "stdout",
     "output_type": "stream",
     "text": [
      "Pick a number between 1 and 10. You have 5 turns. Let's play!\n"
     ]
    }
   ],
   "source": [
    "numbers=[]\n",
    "if level==\"easy\":\n",
    "    for i in range(1,11):\n",
    "        numbers.append(i)\n",
    "    tries=5\n",
    "    print(\"Pick a number between 1 and 10. You have 5 turns. Let's play!\")\n",
    "elif level==\"medium\":\n",
    "    for i in range(1,101):\n",
    "        numbers.append(i)\n",
    "    tries=7\n",
    "    print(\"Pick a number between 1 and 100. You have 7 turns. Let's play!\")\n",
    "else:\n",
    "    for i in range(1,1001):\n",
    "        numbers.append(i)\n",
    "    tries=11\n",
    "    print(\"Pick a number between 1 and 1000. You have 11 turns. Let's play!\")"
   ]
  },
  {
   "cell_type": "code",
   "execution_count": 11,
   "metadata": {},
   "outputs": [],
   "source": [
    "import random\n",
    "try_count=0\n",
    "correct_number=random.choice(numbers)\n"
   ]
  },
  {
   "cell_type": "code",
   "execution_count": 12,
   "metadata": {},
   "outputs": [],
   "source": [
    "ask_number_text=\"Pick a number between \" + str(min(numbers)) + \" and \" + str(max(numbers)) + \": \"\n",
    "str_numbers=[]\n",
    "for i in range(0,len(numbers)):\n",
    "    str_numbers.append(str(i))\n",
    "\n",
    "def ask_number():\n",
    "    choice1=input(ask_number_text)\n",
    "    while choice1 not in str_numbers:\n",
    "        print(\"Please, pick a number within the range!\\n\")\n",
    "        choice1=input(ask_number_text)\n",
    "    return int(choice1)"
   ]
  },
  {
   "cell_type": "code",
   "execution_count": null,
   "metadata": {},
   "outputs": [],
   "source": [
    "\n",
    "        "
   ]
  },
  {
   "cell_type": "code",
   "execution_count": 13,
   "metadata": {},
   "outputs": [
    {
     "name": "stdout",
     "output_type": "stream",
     "text": [
      "Pick a number between 1 and 10: 2\n",
      "You are too low, try again! You have 4 tries left.\n",
      "\n",
      "Pick a number between 1 and 10: 4\n",
      "You are too low, try again! You have 3 tries left.\n",
      "\n",
      "Pick a number between 1 and 10: 7\n",
      "You are too low, try again! You have 2 tries left.\n",
      "\n",
      "Pick a number between 1 and 10: 8\n",
      "Congratulations! You guessed the number!\n"
     ]
    }
   ],
   "source": [
    "tries_count=0\n",
    "\n",
    "for i in range(0, tries):\n",
    "    guess_number=ask_number()\n",
    "    if guess_number==correct_number:\n",
    "        print(\"Congratulations! You guessed the number!\")\n",
    "        break\n",
    "    elif guess_number<correct_number and tries_count<tries-1:\n",
    "        tries_count+=1\n",
    "        print(\"You are too low, try again! You have\", tries-tries_count, \"tries left.\\n\")\n",
    "        continue\n",
    "    elif guess_number>correct_number and tries_count<tries-1:\n",
    "        tries_count+=1\n",
    "        print(\"You are too high, try again! You have\", tries-tries_count, \"tries left.\\n\")\n",
    "        continue\n",
    "    else:\n",
    "        print(\"You don't have any tries left, you lose the game\")\n",
    "        \n"
   ]
  },
  {
   "cell_type": "code",
   "execution_count": null,
   "metadata": {},
   "outputs": [],
   "source": []
  }
 ],
 "metadata": {
  "kernelspec": {
   "display_name": "Python 3",
   "language": "python",
   "name": "python3"
  },
  "language_info": {
   "codemirror_mode": {
    "name": "ipython",
    "version": 3
   },
   "file_extension": ".py",
   "mimetype": "text/x-python",
   "name": "python",
   "nbconvert_exporter": "python",
   "pygments_lexer": "ipython3",
   "version": "3.8.2"
  }
 },
 "nbformat": 4,
 "nbformat_minor": 4
}
