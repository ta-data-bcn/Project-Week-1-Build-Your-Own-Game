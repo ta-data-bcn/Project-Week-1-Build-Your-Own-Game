{
 "cells": [
  {
   "cell_type": "markdown",
   "metadata": {},
   "source": [
    "GAME STRUCTURE\n",
    "\n",
    "1. Introduce game \n",
    "2. Ask for level of difficulty (input)\n",
    "    a. Easy: 1-10, 5 turns\n",
    "    b. Medium: 1-100, 7 turns\n",
    "    c. Hard: 1-1000, 11 turns\n",
    "    *capitalize letter of input, allow only these 3 options!!!! (message if not)\n",
    "    \n",
    "3. Assign variables in function of level chosen (if function): numbers (list), tries (integer)\n",
    "4. Print text explaing the game in function of the level\n",
    "\n",
    "Game\n",
    "\n",
    "5. Generate right_number (random variable)\n",
    "6. Ask for user's input, name it guess_number\n",
    "7. While loop, given number of tries the user can do\n",
    "8. Function that returns \"Low\" or \"High\" depending on if the number is high or low, and returns \"Correct!\" if the number is correct\n",
    "\n",
    "\n",
    "\n",
    "\n",
    "\n",
    "Ask if the want to play again. If they want, maybe keep track of the rounds they have won and failed????\n",
    "\n"
   ]
  },
  {
   "cell_type": "code",
   "execution_count": 38,
   "metadata": {},
   "outputs": [],
   "source": [
    "levels=[\"easy\", \"medium\", \"hard\"]\n",
    "def ask_level():\n",
    "    choice=input(\"Pick your level: easy, medium or hard? \").lower()\n",
    "    while choice not in levels:\n",
    "        print(\"Please, choose one of the options: easy, medium or hard\")\n",
    "        choice=input(\"\\nPick your level: easy, medium or hard? \").lower()\n",
    "    return choice"
   ]
  },
  {
   "cell_type": "code",
   "execution_count": 64,
   "metadata": {},
   "outputs": [
    {
     "name": "stdout",
     "output_type": "stream",
     "text": [
      "Pick your level: easy, medium or hard? easy\n"
     ]
    }
   ],
   "source": [
    "level=ask_level()"
   ]
  },
  {
   "cell_type": "code",
   "execution_count": 65,
   "metadata": {},
   "outputs": [
    {
     "name": "stdout",
     "output_type": "stream",
     "text": [
      "Pick a number between 1 and 10. You have 5 turns. Let's play!\n"
     ]
    }
   ],
   "source": [
    "numbers=[]\n",
    "if level==\"easy\":\n",
    "    for i in range(1,11):\n",
    "        numbers.append(i)\n",
    "    tries=5\n",
    "    print(\"Pick a number between 1 and 10. You have 5 turns. Let's play!\")\n",
    "elif level==\"medium\":\n",
    "    for i in range(1,101):\n",
    "        numbers.append(i)\n",
    "    tries=7\n",
    "    print(\"Pick a number between 1 and 100. You have 7 turns. Let's play!\")\n",
    "else:\n",
    "    for i in range(1,1001):\n",
    "        numbers.append(i)\n",
    "    tries=11\n",
    "    print(\"Pick a number between 1 and 1000. You have 11 turns. Let's play!\")"
   ]
  },
  {
   "cell_type": "code",
   "execution_count": 66,
   "metadata": {},
   "outputs": [
    {
     "data": {
      "text/plain": [
       "3"
      ]
     },
     "execution_count": 66,
     "metadata": {},
     "output_type": "execute_result"
    }
   ],
   "source": [
    "import random\n",
    "try_count=0\n",
    "correct_value=random.choice(numbers)\n",
    "\n",
    "\n",
    "print(correct_value)"
   ]
  },
  {
   "cell_type": "code",
   "execution_count": 67,
   "metadata": {},
   "outputs": [
    {
     "ename": "SyntaxError",
     "evalue": "invalid syntax (<ipython-input-67-1503f86f24f5>, line 1)",
     "output_type": "error",
     "traceback": [
      "\u001b[0;36m  File \u001b[0;32m\"<ipython-input-67-1503f86f24f5>\"\u001b[0;36m, line \u001b[0;32m1\u001b[0m\n\u001b[0;31m    while try_count<tries\u001b[0m\n\u001b[0m                         ^\u001b[0m\n\u001b[0;31mSyntaxError\u001b[0m\u001b[0;31m:\u001b[0m invalid syntax\n"
     ]
    }
   ],
   "source": [
    "def ask_number():\n",
    "    \n",
    "    \n",
    "\n",
    "\n",
    "\n",
    "\n",
    "while try_count<tries:\n",
    "    "
   ]
  },
  {
   "cell_type": "code",
   "execution_count": null,
   "metadata": {},
   "outputs": [],
   "source": []
  },
  {
   "cell_type": "code",
   "execution_count": null,
   "metadata": {},
   "outputs": [],
   "source": []
  }
 ],
 "metadata": {
  "kernelspec": {
   "display_name": "Python 3",
   "language": "python",
   "name": "python3"
  },
  "language_info": {
   "codemirror_mode": {
    "name": "ipython",
    "version": 3
   },
   "file_extension": ".py",
   "mimetype": "text/x-python",
   "name": "python",
   "nbconvert_exporter": "python",
   "pygments_lexer": "ipython3",
   "version": "3.8.2"
  }
 },
 "nbformat": 4,
 "nbformat_minor": 4
}
