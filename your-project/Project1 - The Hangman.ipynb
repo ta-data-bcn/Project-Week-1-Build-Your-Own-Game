{
 "cells": [
  {
   "cell_type": "code",
   "execution_count": 1,
   "metadata": {},
   "outputs": [
    {
     "name": "stdout",
     "output_type": "stream",
     "text": [
      "['Brazil', 'Fargo', 'Amadeus', 'Goodfellas', 'Crash', 'Batman', 'Titanic', 'Trainspotting', 'Casablanca', 'Magnolia', 'Godfather']\n"
     ]
    }
   ],
   "source": [
    "# Create list for the program to pick (NOTE for later: create extended list and import it)\n",
    "\n",
    "movies = [\"Brazil\", \"Fargo\", \"Amadeus\", \"Goodfellas\", \"Crash\", \"Batman\", \"Titanic\", \"Trainspotting\", \"Casablanca\", \"Magnolia\", \"Godfather\"]\n",
    "print (movies)\n",
    "\n",
    "import random"
   ]
  },
  {
   "cell_type": "code",
   "execution_count": 2,
   "metadata": {},
   "outputs": [],
   "source": [
    "# Program randomly picks an item from the list. \n",
    "\n",
    "def pick_movie():\n",
    "    movie = random.choice(movies)\n",
    "    return movie.lower()\n",
    "\n",
    "# Store the result of the function in a variable.\n",
    "movie = pick_movie()\n"
   ]
  },
  {
   "cell_type": "code",
   "execution_count": 3,
   "metadata": {
    "scrolled": true
   },
   "outputs": [
    {
     "name": "stdout",
     "output_type": "stream",
     "text": [
      "The word has 5 letters\n",
      " _  _  _  _  _ \n"
     ]
    }
   ],
   "source": [
    "# Program tells how many letters the movie has.\n",
    "\n",
    "movie_len= len(movie)\n",
    "print (\"The word has\",movie_len, \"letters\")\n",
    "\n",
    "word_lenght = \" _ \" * movie_len\n",
    "print (word_lenght)"
   ]
  },
  {
   "cell_type": "code",
   "execution_count": 4,
   "metadata": {
    "scrolled": false
   },
   "outputs": [
    {
     "name": "stdout",
     "output_type": "stream",
     "text": [
      "Type a new letter: a\n",
      "Congrats! Letter is in the word\n",
      "['_', 'a', '_', '_', '_']\n",
      "Type a new letter: e\n",
      "Tough luck. Try again!\n",
      "Number of fails:  1 out of 6\n",
      "Type a new letter: f\n",
      "Congrats! Letter is in the word\n",
      "['f', 'a', '_', '_', '_']\n",
      "Type a new letter: r\n",
      "Congrats! Letter is in the word\n",
      "['f', 'a', 'r', '_', '_']\n",
      "Type a new letter: g\n",
      "Congrats! Letter is in the word\n",
      "['f', 'a', 'r', 'g', '_']\n",
      "Type a new letter: h\n",
      "Tough luck. Try again!\n",
      "Number of fails:  2 out of 6\n",
      "Type a new letter: o\n",
      "You win!\n"
     ]
    }
   ],
   "source": [
    "# User has a maximum of 6 fails: head (o) + body (|) + 2 arms (/\\) + 2 legs (/\\)\n",
    "\n",
    "list1 = list(movie)\n",
    "list2 = ['_' for i in range(len(list1))]\n",
    "\n",
    "max_fails = 6\n",
    "\n",
    "# Create a variable to count the fails:\n",
    "fails = 0\n",
    "\n",
    " # Create an empty variable to add the guesses to:\n",
    "guess_list = []\n",
    "\n",
    "\n",
    "# User can input letters while fails<6 or guesses different than movie:\n",
    "\n",
    "while fails < max_fails or set(guess_list) != set(movie):\n",
    "# Create a variable to input letters:\n",
    "\n",
    "    new_letter = input(\"Type a new letter: \")\n",
    "\n",
    "    \n",
    "# When user's input is right, it shows up in the word on its correct location:\n",
    "\n",
    "    for index, letter in enumerate(list1):\n",
    "        if letter == new_letter:\n",
    "            list2[index] = new_letter\n",
    "\n",
    "    if new_letter in movie:\n",
    "        guess_list.append(new_letter)\n",
    "        if set(guess_list) == set(movie):\n",
    "            print (\"You win!\")\n",
    "            break\n",
    "        else:\n",
    "            print (\"Congrats! Letter is in the word\")\n",
    "            print(list2)\n",
    "\n",
    "    else:\n",
    "        fails +=1\n",
    "        if fails == max_fails:\n",
    "            print (\"Hanged! Play again?\")\n",
    "            break\n",
    "\n",
    "        else:\n",
    "            print (\"Tough luck. Try again!\")\n",
    "            print (\"Number of fails: \", fails, \"out of 6\")"
   ]
  },
  {
   "cell_type": "code",
   "execution_count": null,
   "metadata": {},
   "outputs": [],
   "source": []
  },
  {
   "cell_type": "code",
   "execution_count": null,
   "metadata": {},
   "outputs": [],
   "source": []
  },
  {
   "cell_type": "code",
   "execution_count": null,
   "metadata": {},
   "outputs": [],
   "source": []
  }
 ],
 "metadata": {
  "kernelspec": {
   "display_name": "Python 3",
   "language": "python",
   "name": "python3"
  },
  "language_info": {
   "codemirror_mode": {
    "name": "ipython",
    "version": 3
   },
   "file_extension": ".py",
   "mimetype": "text/x-python",
   "name": "python",
   "nbconvert_exporter": "python",
   "pygments_lexer": "ipython3",
   "version": "3.8.3"
  }
 },
 "nbformat": 4,
 "nbformat_minor": 4
}
