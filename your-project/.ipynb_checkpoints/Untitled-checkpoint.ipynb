{
 "cells": [
  {
   "cell_type": "code",
   "execution_count": 28,
   "metadata": {},
   "outputs": [],
   "source": [
    "import random"
   ]
  },
  {
   "cell_type": "code",
   "execution_count": 67,
   "metadata": {},
   "outputs": [
    {
     "name": "stdout",
     "output_type": "stream",
     "text": [
      "What is your teams name? bu1\n",
      "bu1 it is! Let's play!\n",
      "bu1  vs  cpu1\n"
     ]
    }
   ],
   "source": [
    "##defining complet list of players\n",
    "players = [\"cpu1\"]\n",
    "user_team = input(\"What is your teams name? \")\n",
    "print(user_team + \" it is! Let's play!\")\n",
    "players.append(user_team)\n",
    "print(players[1], \" vs \", players[0])"
   ]
  },
  {
   "cell_type": "code",
   "execution_count": 62,
   "metadata": {},
   "outputs": [
    {
     "name": "stdout",
     "output_type": "stream",
     "text": [
      "How many rounds do you want to play from 1 to 10? 11\n",
      "How many rounds do you want to play from 1 to 10? 9\n"
     ]
    }
   ],
   "source": [
    "##defining number of rounds integer\n",
    "ask_rounds = int(input(\"How many rounds do you want to play from 1 to 10? \"))\n",
    "while ask_rounds > 10:\n",
    "    ask_rounds = int(input(\"How many rounds do you want to play from 1 to 10? \"))"
   ]
  },
  {
   "cell_type": "code",
   "execution_count": 63,
   "metadata": {},
   "outputs": [],
   "source": [
    "## define victories counter\n",
    "user_vict = 0\n",
    "cpu_vict = 0"
   ]
  },
  {
   "cell_type": "code",
   "execution_count": 64,
   "metadata": {},
   "outputs": [],
   "source": [
    "#defining a list for each category"
   ]
  },
  {
   "cell_type": "code",
   "execution_count": 65,
   "metadata": {},
   "outputs": [],
   "source": [
    "##defining categories\n",
    "categories = [\"animals\", \"food\", \"countries\", \"names\", \"vehicles\", \"colors\", \"moods\", \"clothes\"]\n",
    "categories[0] = [\"Elephant\",]   # categories list\n",
    "categories[1] = [\"Egg\",]\n",
    "categories[2] = [\"Equador\",]\n",
    "categories[3] = [\"Elena\",]\n",
    "categories[4] = [\"ExpressTrain\",]\n",
    "categories[5] = [\"EarthYellow\",]\n",
    "categories[6] = [\"Energetic\",]\n",
    "categories[7] = [\"Earring\",]"
   ]
  },
  {
   "cell_type": "code",
   "execution_count": 66,
   "metadata": {},
   "outputs": [],
   "source": [
    "##defining game"
   ]
  },
  {
   "cell_type": "code",
   "execution_count": 71,
   "metadata": {
    "scrolled": true
   },
   "outputs": [
    {
     "name": "stdout",
     "output_type": "stream",
     "text": [
      "This rounds letter is e\n"
     ]
    },
    {
     "ename": "IndexError",
     "evalue": "Cannot choose from an empty sequence",
     "output_type": "error",
     "traceback": [
      "\u001b[1;31m---------------------------------------------------------------------------\u001b[0m",
      "\u001b[1;31mIndexError\u001b[0m                                Traceback (most recent call last)",
      "\u001b[1;32m<ipython-input-71-e15172092cfd>\u001b[0m in \u001b[0;36m<module>\u001b[1;34m\u001b[0m\n\u001b[0;32m     31\u001b[0m                 \u001b[1;32mif\u001b[0m \u001b[0mword\u001b[0m\u001b[1;33m.\u001b[0m\u001b[0mstartswith\u001b[0m\u001b[1;33m(\u001b[0m\u001b[0mletter_choice\u001b[0m\u001b[1;33m[\u001b[0m\u001b[0mlen\u001b[0m\u001b[1;33m(\u001b[0m\u001b[0mletter_choice\u001b[0m\u001b[1;33m)\u001b[0m \u001b[1;33m-\u001b[0m \u001b[1;36m1\u001b[0m\u001b[1;33m]\u001b[0m\u001b[1;33m)\u001b[0m\u001b[1;33m:\u001b[0m\u001b[1;33m\u001b[0m\u001b[1;33m\u001b[0m\u001b[0m\n\u001b[0;32m     32\u001b[0m                     \u001b[0mchoices\u001b[0m\u001b[1;33m.\u001b[0m\u001b[0mappend\u001b[0m\u001b[1;33m(\u001b[0m\u001b[0mword\u001b[0m\u001b[1;33m)\u001b[0m\u001b[1;33m\u001b[0m\u001b[1;33m\u001b[0m\u001b[0m\n\u001b[1;32m---> 33\u001b[1;33m             \u001b[0mcomputer_choices\u001b[0m\u001b[1;33m.\u001b[0m\u001b[0mappend\u001b[0m\u001b[1;33m(\u001b[0m\u001b[0mrandom\u001b[0m\u001b[1;33m.\u001b[0m\u001b[0mchoice\u001b[0m\u001b[1;33m(\u001b[0m\u001b[0mchoices\u001b[0m\u001b[1;33m)\u001b[0m\u001b[1;33m)\u001b[0m\u001b[1;33m\u001b[0m\u001b[1;33m\u001b[0m\u001b[0m\n\u001b[0m\u001b[0;32m     34\u001b[0m \u001b[1;33m\u001b[0m\u001b[0m\n\u001b[0;32m     35\u001b[0m         \u001b[0mactual_round\u001b[0m \u001b[1;33m+=\u001b[0m \u001b[1;36m1\u001b[0m\u001b[1;33m\u001b[0m\u001b[1;33m\u001b[0m\u001b[0m\n",
      "\u001b[1;32m~\\AppData\\Local\\Programs\\Python\\Python38-32\\lib\\random.py\u001b[0m in \u001b[0;36mchoice\u001b[1;34m(self, seq)\u001b[0m\n\u001b[0;32m    288\u001b[0m             \u001b[0mi\u001b[0m \u001b[1;33m=\u001b[0m \u001b[0mself\u001b[0m\u001b[1;33m.\u001b[0m\u001b[0m_randbelow\u001b[0m\u001b[1;33m(\u001b[0m\u001b[0mlen\u001b[0m\u001b[1;33m(\u001b[0m\u001b[0mseq\u001b[0m\u001b[1;33m)\u001b[0m\u001b[1;33m)\u001b[0m\u001b[1;33m\u001b[0m\u001b[1;33m\u001b[0m\u001b[0m\n\u001b[0;32m    289\u001b[0m         \u001b[1;32mexcept\u001b[0m \u001b[0mValueError\u001b[0m\u001b[1;33m:\u001b[0m\u001b[1;33m\u001b[0m\u001b[1;33m\u001b[0m\u001b[0m\n\u001b[1;32m--> 290\u001b[1;33m             \u001b[1;32mraise\u001b[0m \u001b[0mIndexError\u001b[0m\u001b[1;33m(\u001b[0m\u001b[1;34m'Cannot choose from an empty sequence'\u001b[0m\u001b[1;33m)\u001b[0m \u001b[1;32mfrom\u001b[0m \u001b[1;32mNone\u001b[0m\u001b[1;33m\u001b[0m\u001b[1;33m\u001b[0m\u001b[0m\n\u001b[0m\u001b[0;32m    291\u001b[0m         \u001b[1;32mreturn\u001b[0m \u001b[0mseq\u001b[0m\u001b[1;33m[\u001b[0m\u001b[0mi\u001b[0m\u001b[1;33m]\u001b[0m\u001b[1;33m\u001b[0m\u001b[1;33m\u001b[0m\u001b[0m\n\u001b[0;32m    292\u001b[0m \u001b[1;33m\u001b[0m\u001b[0m\n",
      "\u001b[1;31mIndexError\u001b[0m: Cannot choose from an empty sequence"
     ]
    }
   ],
   "source": [
    "player_words_lst = []\n",
    "actual_round = 1\n",
    "computer_choices = []\n",
    "alphabet = list(map(chr, range(97, 123)))\n",
    "letter_choice = []\n",
    "\n",
    "while actual_round < ask_rounds:\n",
    "    \n",
    "    letter = random.choice(alphabet)\n",
    "    letter_choice.append(letter)\n",
    "    print(\"This rounds letter is \" + letter)\n",
    "    \n",
    "    \n",
    "    while len(computer_choices) < len(categories):\n",
    "    \n",
    "        ##player words\n",
    "        for category in categories:\n",
    "            while category in range(len(categories)):\n",
    "                player_word = input(\"A word that starts with the letter \" + letter_choice[len(letter_choice) - 1] + \n",
    "                                    \" in \" + categories(c))\n",
    "                print(player_word)\n",
    "                if player_word.startswith(letter_choice[len(letter_choice) - 1]):\n",
    "                    player_words_lst.append(player_word_lst)\n",
    "                else:\n",
    "                    print(player_word)\n",
    "    \n",
    "        ##cpu_words\n",
    "        for category in categories:\n",
    "            for word in category:\n",
    "                choices = []\n",
    "                if word.startswith(letter_choice[len(letter_choice) - 1]):\n",
    "                    choices.append(word)\n",
    "            computer_choices.append(random.choice(choices))\n",
    "        \n",
    "        actual_round += 1\n",
    "                \n",
    "        ###scores\n",
    "\n",
    "    if len(player_words_lst) == len(categories) and len(computer_choices) == len(categories):\n",
    "        for word in player_word_lst:\n",
    "            for word1 in computer_choices:\n",
    "                if len(player_words_lst[word]) < len(computer_choices[word1]):\n",
    "                    cpu_vict += 1\n",
    "                elif len(player_words_lst[word]) > len(computer_choices[word1]):\n",
    "                    user_vict += 1\n",
    "\n",
    "        \n",
    "        \n",
    "##finish game\n",
    "if user_vict < cpu_vict:\n",
    "    print(\"The CPU is the winner...\")\n",
    "elif user_vict > cpu_vict:\n",
    "    print(user_name + \" is the winner!\")\n"
   ]
  }
 ],
 "metadata": {
  "kernelspec": {
   "display_name": "Python 3",
   "language": "python",
   "name": "python3"
  },
  "language_info": {
   "codemirror_mode": {
    "name": "ipython",
    "version": 3
   },
   "file_extension": ".py",
   "mimetype": "text/x-python",
   "name": "python",
   "nbconvert_exporter": "python",
   "pygments_lexer": "ipython3",
   "version": "3.8.3"
  }
 },
 "nbformat": 4,
 "nbformat_minor": 4
}
