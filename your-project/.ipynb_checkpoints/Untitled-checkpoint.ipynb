{
 "cells": [
  {
   "cell_type": "code",
   "execution_count": null,
   "metadata": {},
   "outputs": [],
   "source": [
    "#defining rules\n",
    "\n"
   ]
  },
  {
   "cell_type": "code",
   "execution_count": null,
   "metadata": {},
   "outputs": [],
   "source": [
    "##defining teams\n",
    "###defining number of teams playing\n",
    "num_cpu_teams = 0\n",
    "while num_cpu_teams == 0 or num_cpu_teams > 6:\n",
    "    x = int(input(\"How many teams will you play against from 1 to 6? \"))\n",
    "    print(x)\n",
    "    num_cpu_teams += x\n",
    "    \n",
    "num_teams = num_cpu_teams + 1\n",
    "print(\"Then, the game will have \" + str(num_teams) + \" teams!\")\n",
    "\n",
    "###defining name of user team\n",
    "user_team = input(\"What is your teams name? \")\n",
    "print(str(user_team) + \" will play against \" + str(num_cpu_teams) + \" cpu teams!\")\n",
    "\n",
    "###defining list of names of cpu_teams\n",
    "cpu_possible_teams = (\"cpu1\", \"cpu1\",\"cpu1\",\"cpu1\",\"cpu1\",\"cpu1\",)\n",
    "while len(cpu_teams) < num_cpu_teams:\n",
    "    cpu_teams.append(team)\n"
   ]
  },
  {
   "cell_type": "code",
   "execution_count": null,
   "metadata": {},
   "outputs": [],
   "source": [
    "#defining number of rounds integer\n",
    "num_rounds = input(\"How many rounds do you want to play? \")"
   ]
  },
  {
   "cell_type": "code",
   "execution_count": null,
   "metadata": {},
   "outputs": [],
   "source": [
    "#defining with or without timer\n",
    "timer = input(\"Do you want to play with time? \")\n",
    "timer = timer.lower()\n",
    "timer = timer(0)"
   ]
  },
  {
   "cell_type": "code",
   "execution_count": null,
   "metadata": {},
   "outputs": [],
   "source": [
    "#defining, if with timer, the time\n",
    "if timer == y:\n",
    "    timer_time = input(\"How many seconds per round? \")"
   ]
  },
  {
   "cell_type": "code",
   "execution_count": null,
   "metadata": {},
   "outputs": [],
   "source": [
    "#defining categories\n",
    "numcategories = input(\"\")"
   ]
  },
  {
   "cell_type": "code",
   "execution_count": null,
   "metadata": {},
   "outputs": [],
   "source": []
  },
  {
   "cell_type": "code",
   "execution_count": null,
   "metadata": {},
   "outputs": [],
   "source": []
  },
  {
   "cell_type": "code",
   "execution_count": null,
   "metadata": {},
   "outputs": [],
   "source": [
    "#creating the game setup rules\n",
    "#defining categories list\n",
    "categories_list = "
   ]
  }
 ],
 "metadata": {
  "kernelspec": {
   "display_name": "Python 3",
   "language": "python",
   "name": "python3"
  },
  "language_info": {
   "codemirror_mode": {
    "name": "ipython",
    "version": 3
   },
   "file_extension": ".py",
   "mimetype": "text/x-python",
   "name": "python",
   "nbconvert_exporter": "python",
   "pygments_lexer": "ipython3",
   "version": "3.8.3"
  }
 },
 "nbformat": 4,
 "nbformat_minor": 4
}
