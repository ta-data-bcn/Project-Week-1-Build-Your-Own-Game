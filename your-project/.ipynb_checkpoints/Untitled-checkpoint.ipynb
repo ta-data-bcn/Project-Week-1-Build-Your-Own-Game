{
 "cells": [
  {
   "cell_type": "code",
   "execution_count": null,
   "metadata": {},
   "outputs": [],
   "source": [
    "#defining rules"
   ]
  },
  {
   "cell_type": "code",
   "execution_count": null,
   "metadata": {},
   "outputs": [],
   "source": [
    "##defining teams\n",
    "\n",
    "###defining number of teams playing\n",
    "num_cpu_teams = 0\n",
    "while num_cpu_teams == 0 or num_cpu_teams > 6:\n",
    "    x = int(input(\"How many teams will you play against from 1 to 6? \"))\n",
    "    print(x)\n",
    "    if x.isdigit():\n",
    "        num_cpu_teams = x\n",
    "    else:\n",
    "        print(x)\n",
    "    \n",
    "num_teams = num_cpu_teams + 1\n",
    "print(\"Then, the game will have \" + str(num_teams) + \" teams!\")\n",
    "\n",
    "\n",
    "###defining name of user team\n",
    "user_team = str(input(\"What is your teams name? \"))\n",
    "print(user_team + \" will play against \" + str(num_cpu_teams) + \" cpu teams!\")\n",
    "\n",
    "\n",
    "###defining list of names of cpu_teams\n",
    "cpu_possible_teams = [\"cpu1\", \"cpu2\",\"cpu3\",\"cpu4\",\"cpu5\",\"cpu6\"]\n",
    "cpu_teams = []\n",
    "i = 0\n",
    "\n",
    "for i in cpu_possible_teams:\n",
    "    while len(cpu_teams) < num_cpu_teams:\n",
    "        cpu_teams.append(cpu_possible_teams(i))\n",
    "        i += 1\n",
    "print(\"The teams playing are \" + user_team + \" against \" + cpu_teams)\n",
    "\n",
    "\n",
    "###defining complet list of players\n",
    "players = []\n",
    "players.append(cpu_teams[])\n",
    "players.append(user_team)"
   ]
  },
  {
   "cell_type": "code",
   "execution_count": null,
   "metadata": {},
   "outputs": [],
   "source": [
    "##defining number of rounds integer\n",
    "ask_rounds = input(\"How many rounds do you want to play from 1 to 10? \")\n",
    "num_rounds = 0\n",
    "\n",
    "while num_rounds == 0:\n",
    "    if ask_rounds.isdigit() or ask_rounds <= 10:\n",
    "        num_rounds += ask_rounds\n",
    "        print(\"The game will have \" + num_rounds + \"!\")\n",
    "    else:\n",
    "        print(ask_rounds)"
   ]
  },
  {
   "cell_type": "code",
   "execution_count": null,
   "metadata": {},
   "outputs": [],
   "source": [
    "##defining with or without timer\n",
    "timer = input(\"Do you want to play with time? \")\n",
    "timer = timer.lower()\n",
    "timer = timer(0)\n",
    "\n",
    "if timer = \"y\":\n",
    "    print(\"Chrono mode on! You will have 60 second per round\")\n",
    "elif timer = \"n\":\n",
    "    print(\"Then, take your time in each round\")\n",
    "else:\n",
    "    print(timer)"
   ]
  },
  {
   "cell_type": "code",
   "execution_count": null,
   "metadata": {},
   "outputs": [],
   "source": [
    "##defining categories\n",
    "categories = [\"animals\", \"food\", \"countries\", \"names\", \"vehicles\", \"colors\", \"animals\", \"clothes\"]\n",
    "\n",
    "##defining number of categories\n",
    "numcategories = input(\"How many categories will we use from 1 to 8? \")\n",
    "\n",
    "if numcategories <= 8 and numcategories >= 1:\n",
    "    print(\"Let's use \" + numcategories)    "
   ]
  },
  {
   "cell_type": "code",
   "execution_count": null,
   "metadata": {},
   "outputs": [],
   "source": [
    "##define victories counter\n",
    "user_vict = 0\n",
    "cpu_vict = {\"cpu1_vict\": 0, \"cpu2_vict\": 0, \"cpu3_vict\": 0, \"cpu4_vict\": 0, \"cpu5_vict\": 0, \"cpu6_vict\": 0,}"
   ]
  },
  {
   "cell_type": "code",
   "execution_count": null,
   "metadata": {},
   "outputs": [],
   "source": [
    "#defining letter choice"
   ]
  },
  {
   "cell_type": "code",
   "execution_count": null,
   "metadata": {},
   "outputs": [],
   "source": [
    "alphabet = list(map(chr, range(97, 123)))\n",
    "letter_choice = []\n",
    "\n",
    "import random\n",
    "choosing_player = random.choice(players)\n",
    "\n",
    "if choosing_player in cpu_teams:\n",
    "    print(choosing_player + \" choose!\")\n",
    "    letter = random.choice(alphabet)\n",
    "    letter_choice.append(letter)\n",
    "    print(\"This rounds letter is\" + letter)\n",
    "\n",
    "else:\n",
    "    letter_player = input(\"You choose! What letter will be? \")\n",
    "    print(letter_player)\n",
    "    if letter_choice.lower() is in alphabet:\n",
    "        letter_choice.append(letter_player)\n",
    "    else:\n",
    "        print(input(\"You choose! What letter will be? \")"
   ]
  },
  {
   "cell_type": "code",
   "execution_count": null,
   "metadata": {},
   "outputs": [],
   "source": [
    "#defining chrono function"
   ]
  },
  {
   "cell_type": "code",
   "execution_count": null,
   "metadata": {},
   "outputs": [],
   "source": [
    "import time\n",
    "seconds = 60\n",
    "def countdown(seconds):\n",
    "    while seconds > 0:\n",
    "        seconds -= 1\n",
    "        time.sleep(1)"
   ]
  },
  {
   "cell_type": "code",
   "execution_count": null,
   "metadata": {},
   "outputs": [],
   "source": [
    "#defining a list for each category"
   ]
  },
  {
   "cell_type": "code",
   "execution_count": null,
   "metadata": {},
   "outputs": [],
   "source": [
    "animals = []   #import categories list\n",
    "food = []\n",
    "countries = []\n",
    "names = []\n",
    "vehicles = []\n",
    "colors = []\n",
    "animals = []\n",
    "clothes = []"
   ]
  },
  {
   "cell_type": "code",
   "execution_count": null,
   "metadata": {},
   "outputs": [],
   "source": [
    "#defining cpu category choice"
   ]
  },
  {
   "cell_type": "code",
   "execution_count": null,
   "metadata": {},
   "outputs": [],
   "source": []
  },
  {
   "cell_type": "code",
   "execution_count": null,
   "metadata": {},
   "outputs": [],
   "source": [
    "#defining game without timer"
   ]
  },
  {
   "cell_type": "code",
   "execution_count": null,
   "metadata": {},
   "outputs": [],
   "source": []
  },
  {
   "cell_type": "code",
   "execution_count": null,
   "metadata": {},
   "outputs": [],
   "source": [
    "#defining game with timer"
   ]
  },
  {
   "cell_type": "code",
   "execution_count": null,
   "metadata": {},
   "outputs": [],
   "source": []
  }
 ],
 "metadata": {
  "kernelspec": {
   "display_name": "Python 3",
   "language": "python",
   "name": "python3"
  },
  "language_info": {
   "codemirror_mode": {
    "name": "ipython",
    "version": 3
   },
   "file_extension": ".py",
   "mimetype": "text/x-python",
   "name": "python",
   "nbconvert_exporter": "python",
   "pygments_lexer": "ipython3",
   "version": "3.8.3"
  }
 },
 "nbformat": 4,
 "nbformat_minor": 4
}
