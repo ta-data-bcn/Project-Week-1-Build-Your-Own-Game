{
 "cells": [
  {
   "cell_type": "markdown",
   "metadata": {},
   "source": [
    "<img src=\"https://bit.ly/2VnXWr2\" alt=\"Ironhack Logo\" width=\"100\"/>\n",
    "\n",
    "# TicTacToe Game\n",
    "Raul Castrillo Martinez\n",
    "\n",
    "Data full time, Ironhack Barcelona 22/oct/2020\n",
    "\n",
    "## Content\n",
    "- [Project Description](#project-description)\n",
    "- [Rules](#rules)\n",
    "- [Workflow](#workflow)\n",
    "- [Organization](#organization)\n",
    "- [Links](#links)\n",
    "\n",
    "## Project Description\n",
    "In this project, i will create my first python-based software!\n",
    "I am tasked with creating a TicTacToe game that interacts with the user, using functions and other basic python resources i have learned during the week.\n",
    "\n",
    "## Rules\n",
    "\n",
    "- The game is played on a 3x3 grid.\n",
    "- Each grid cell has a number from 0 to 8 as it's coordinate, player must write the number of the cell where he wants to  place each token.\n",
    "- Each player can place one token for each turn.\n",
    "- The first player to get 3 of her marks in a row (up, down, across, or diagonally) is the winner.\n",
    "- When all 9 squares are full, the game is over.\n",
    "- Human Player will always starts first turn.\n",
    "- The computer opponent will place it's tokens randomly .\n",
    "\n",
    "\n",
    "\n",
    "## Workflow\n",
    "\n",
    "* Planning how to structure the code.\n",
    "* Organizing my full plan in trello\n",
    "* Coding and testing\n",
    "* Organize a slides presentation\n",
    "\n",
    "\n",
    "## Organization\n",
    "\n",
    "To organize my project i used Trello kanbas tool to plan my project.\n",
    "\n",
    "\n",
    "## Links\n",
    "\n",
    "\n",
    "- https://github.com/raulcastr/Project-Week-1-Build-Your-Own-Game           \n",
    "- https://slides.com/raulcastr/tictactoc  \n",
    "- https://trello.com/b/LIJM1iAw/tic-tac-toe  \n"
   ]
  },
  {
   "cell_type": "code",
   "execution_count": null,
   "metadata": {},
   "outputs": [],
   "source": []
  }
 ],
 "metadata": {
  "kernelspec": {
   "display_name": "Python 3",
   "language": "python",
   "name": "python3"
  },
  "language_info": {
   "codemirror_mode": {
    "name": "ipython",
    "version": 3
   },
   "file_extension": ".py",
   "mimetype": "text/x-python",
   "name": "python",
   "nbconvert_exporter": "python",
   "pygments_lexer": "ipython3",
   "version": "3.8.3"
  }
 },
 "nbformat": 4,
 "nbformat_minor": 4
}
