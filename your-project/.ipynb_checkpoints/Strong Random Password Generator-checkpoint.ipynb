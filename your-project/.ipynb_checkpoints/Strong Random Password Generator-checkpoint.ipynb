{
 "cells": [
  {
   "cell_type": "markdown",
   "metadata": {},
   "source": [
    "---"
   ]
  },
  {
   "attachments": {
    "caja%20fuerte.jpg": {
     "image/jpeg": "[encoded data removed]"
    }
   },
   "cell_type": "markdown",
   "metadata": {},
   "source": [
    "# **Welcome to Strong Random Password Generator**\n",
    "![caja%20fuerte.jpg](attachment:caja%20fuerte.jpg) \n",
    "\n",
    "\n",
    "\n",
    "\n"
   ]
  },
  {
   "cell_type": "markdown",
   "metadata": {},
   "source": [
    "#### This game will generate a password with as many characters as the user decide.\n",
    "####  In addition, the game will provide several options creating an interaction with the user:\n",
    "> Option 1 _The user decide to play the game and generate a password_\n",
    "\n",
    "> Option 2 _The user decide not to play the game but after been tempted by the game, eventually decide to play_\n",
    "\n",
    "> Option 3 _The user refuses to play the game_"
   ]
  },
  {
   "cell_type": "markdown",
   "metadata": {},
   "source": [
    "#### Import Modules"
   ]
  },
  {
   "cell_type": "code",
   "execution_count": 4,
   "metadata": {},
   "outputs": [],
   "source": [
    "import random\n",
    "import time\n",
    "import string"
   ]
  },
  {
   "cell_type": "markdown",
   "metadata": {},
   "source": [
    "#### Generate Characters "
   ]
  },
  {
   "cell_type": "code",
   "execution_count": 5,
   "metadata": {},
   "outputs": [
    {
     "name": "stdout",
     "output_type": "stream",
     "text": [
      "0123456789abcdefABCDEF\n"
     ]
    }
   ],
   "source": [
    "element = string.hexdigits\n",
    "print(element)"
   ]
  },
  {
   "cell_type": "markdown",
   "metadata": {},
   "source": [
    "#### Game Code"
   ]
  },
  {
   "cell_type": "code",
   "execution_count": 6,
   "metadata": {},
   "outputs": [],
   "source": [
    "def password_generator():\n",
    "    greeting = input('Hi Yuyu, hope you are doing well today, Would you like to create a game today? ')\n",
    "    if greeting == 'Yes':\n",
    "        time.sleep(2)\n",
    "        print(\"cools!!! let's do it\")\n",
    "        password_len = int(input('how many characters do you want for your password? '))\n",
    "        time.sleep(2)\n",
    "        password = []\n",
    "        for i in range(0,password_len):\n",
    "            a = random.choice(element)\n",
    "            password.append(a)\n",
    "        print('You have generated a password:')\n",
    "        print('------------------------------')\n",
    "        print('Password: '+''.join(password))\n",
    "    else:\n",
    "        print('You are so boring \\n')\n",
    "        print('Come on, give it a chance')\n",
    "        player_decision = input('Tempted now? ')\n",
    "        if player_decision == 'Yes':\n",
    "            time.sleep(2)\n",
    "            print(\"cools!!! let's do it\")\n",
    "            password_len = int(input('how many characters do you want for your password? '))\n",
    "            time.sleep(2)\n",
    "            password = []\n",
    "            for i in range(0,password_len):\n",
    "                a = random.choice(element)\n",
    "                password.append(a)\n",
    "            print('You have generated a password:')\n",
    "            print('------------------------------')\n",
    "            print('Password: '+''.join(password))\n",
    "        else:\n",
    "            print('Oh I see, I guess you are busy with IronHack labs.\\n')\n",
    "            print('Hope see you soon!')"
   ]
  },
  {
   "cell_type": "markdown",
   "metadata": {},
   "source": [
    "#### Let's Play"
   ]
  },
  {
   "cell_type": "code",
   "execution_count": 9,
   "metadata": {},
   "outputs": [
    {
     "name": "stdout",
     "output_type": "stream",
     "text": [
      "Hi Yuyu, hope you are doing well today, Would you like to create a game today? Nop\n",
      "You are so boring \n",
      "\n",
      "Come on, give it a chance\n",
      "Tempted now? Sorry I do not\n",
      "Oh I see, I guess you are busy with IronHack labs.\n",
      "\n",
      "Hope see you soon!\n"
     ]
    }
   ],
   "source": [
    "password_generator()"
   ]
  },
  {
   "cell_type": "code",
   "execution_count": null,
   "metadata": {},
   "outputs": [],
   "source": []
  },
  {
   "cell_type": "code",
   "execution_count": null,
   "metadata": {},
   "outputs": [],
   "source": []
  }
 ],
 "metadata": {
  "kernelspec": {
   "display_name": "Python 3",
   "language": "python",
   "name": "python3"
  },
  "language_info": {
   "codemirror_mode": {
    "name": "ipython",
    "version": 3
   },
   "file_extension": ".py",
   "mimetype": "text/x-python",
   "name": "python",
   "nbconvert_exporter": "python",
   "pygments_lexer": "ipython3",
   "version": "3.7.6"
  }
 },
 "nbformat": 4,
 "nbformat_minor": 4
}
