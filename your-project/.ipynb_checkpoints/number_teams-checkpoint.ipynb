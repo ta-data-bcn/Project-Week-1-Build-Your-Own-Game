{
 "cells": [
  {
   "cell_type": "code",
   "execution_count": null,
   "metadata": {},
   "outputs": [],
   "source": [
    "##defining number of teams playing\n",
    "def teams_num():\n",
    "    num_cpu_teams = 0\n",
    "    while num_cpu_teams == 0 or num_cpu_teams > 6:\n",
    "        x = int(input(\"How many teams will you play against from 1 to 6? \"))\n",
    "        print(x)\n",
    "        if x.isdigit():\n",
    "            num_cpu_teams = x\n",
    "        else:\n",
    "            print(x)\n",
    "    \n",
    "    num_teams = num_cpu_teams + 1\n",
    "    print(\"Then, the game will have \" + str(num_teams) + \" teams!\")"
   ]
  }
 ],
 "metadata": {
  "kernelspec": {
   "display_name": "Python 3",
   "language": "python",
   "name": "python3"
  },
  "language_info": {
   "codemirror_mode": {
    "name": "ipython",
    "version": 3
   },
   "file_extension": ".py",
   "mimetype": "text/x-python",
   "name": "python",
   "nbconvert_exporter": "python",
   "pygments_lexer": "ipython3",
   "version": "3.8.3"
  }
 },
 "nbformat": 4,
 "nbformat_minor": 4
}
