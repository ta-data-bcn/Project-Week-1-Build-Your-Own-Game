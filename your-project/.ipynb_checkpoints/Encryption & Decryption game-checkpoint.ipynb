{
 "cells": [
  {
   "cell_type": "markdown",
   "metadata": {},
   "source": [
    "# Welcome to the Message Encryption and Decryption game!\n",
    "\n",
    " Here you will get a ciphered message to send to your secret lover or the CIA.\n",
    " \n",
    " As an easy encription approach, you will be encrypting and decrypting through a so-called ROT13 encryption."
   ]
  },
  {
   "cell_type": "code",
   "execution_count": 1,
   "metadata": {},
   "outputs": [],
   "source": [
    "import string"
   ]
  },
  {
   "cell_type": "markdown",
   "metadata": {},
   "source": [
    "# Encryptor"
   ]
  },
  {
   "cell_type": "code",
   "execution_count": 4,
   "metadata": {},
   "outputs": [
    {
     "name": "stdout",
     "output_type": "stream",
     "text": [
      "Would you like to play? (yes / no) yes\n",
      "Enter a message to encrypt: hfurfhr\n",
      "Your secret message is: ushesue\n"
     ]
    }
   ],
   "source": [
    "def encryptor(message):\n",
    "# You need to make the function that changes each letter in the string into another letter\n",
    "    secret_message = \"\".join([string.ascii_letters[(string.ascii_letters.find(c)+13)%26] for c in message])\n",
    "    for i in range(len(message)):\n",
    "        secret_message_list = list(secret_message)\n",
    "        message_list = list(message)\n",
    "        if message[i].isupper():\n",
    "            secret_message_list[i] = secret_message_list[i].upper()\n",
    "            secret_message = \"\".join(secret_message_list)\n",
    "        elif message[i]==' ':\n",
    "            secret_message_list[i] = message[i]\n",
    "            secret_message = \"\".join(secret_message_list)\n",
    "        elif message[i].isalpha() == False:\n",
    "            secret_message_list[i] = message[i]\n",
    "            secret_message = \"\".join(secret_message_list)\n",
    "    print(\"Your secret message is: \" + secret_message)\n",
    "\n",
    "\n",
    "wanna_play = input(\"Would you like to play? (yes / no) \")\n",
    "if wanna_play == 'yes':\n",
    "    message = str(input(\"Enter a message to encrypt: \"))\n",
    "    encryptor(message)\n",
    "    # Create a string (input) so that they ask you the message you want to encrypt\n",
    "elif wanna_play == 'no':\n",
    "        print(\"Okay. Bye, loser!\") \n",
    "else:\n",
    "    print(\"Sorry, I don't understand.\")"
   ]
  },
  {
   "cell_type": "markdown",
   "metadata": {},
   "source": [
    "# Decryptor\n"
   ]
  },
  {
   "cell_type": "code",
   "execution_count": 5,
   "metadata": {},
   "outputs": [
    {
     "name": "stdout",
     "output_type": "stream",
     "text": [
      "Would you like to play? (yes / no) yes\n",
      "Enter a message to decrypt: ushesue\n",
      "Your secret message is: hfurfhr\n"
     ]
    }
   ],
   "source": [
    "def decryptor(message):\n",
    "    # Create a string (input) so that they ask you the message you want to decrypt\n",
    "    message = str(input(\"Enter a message to decrypt: \"))\n",
    "# You need to make the function that changes each letter in the string into another letter\n",
    "    secret_message = \"\".join([string.ascii_letters[(string.ascii_letters.find(c)-13)%26] for c in message])\n",
    "    for i in range(len(message)):\n",
    "        secret_message_list = list(secret_message)\n",
    "        message_list = list(message)\n",
    "        if message[i].isupper():\n",
    "            secret_message_list[i] = secret_message_list[i].upper()\n",
    "            secret_message = \"\".join(secret_message_list)\n",
    "        elif message[i]==' ':\n",
    "            secret_message_list[i] = message[i]\n",
    "            secret_message = \"\".join(secret_message_list)\n",
    "        elif message[i].isalpha() == False:\n",
    "            secret_message_list[i] = message[i]\n",
    "            secret_message = \"\".join(secret_message_list)\n",
    "    print(\"Your secret message is: \" + secret_message)\n",
    "    \n",
    "    \n",
    "wanna_play = input(\"Would you like to play? (yes / no) \")\n",
    "if wanna_play == 'yes':\n",
    "    decryptor(message)\n",
    "elif wanna_play == 'no':\n",
    "        print(\"Okay. Bye, loser!\") \n",
    "else:\n",
    "    print(\"Sorry, I don't understand.\")"
   ]
  },
  {
   "cell_type": "markdown",
   "metadata": {},
   "source": [
    "### That's all folks! Thank you for participating :)"
   ]
  },
  {
   "cell_type": "markdown",
   "metadata": {},
   "source": [
    "Hope they don't discover your secret message!"
   ]
  }
 ],
 "metadata": {
  "kernelspec": {
   "display_name": "Python 3",
   "language": "python",
   "name": "python3"
  },
  "language_info": {
   "codemirror_mode": {
    "name": "ipython",
    "version": 3
   },
   "file_extension": ".py",
   "mimetype": "text/x-python",
   "name": "python",
   "nbconvert_exporter": "python",
   "pygments_lexer": "ipython3",
   "version": "3.8.5"
  }
 },
 "nbformat": 4,
 "nbformat_minor": 4
}
