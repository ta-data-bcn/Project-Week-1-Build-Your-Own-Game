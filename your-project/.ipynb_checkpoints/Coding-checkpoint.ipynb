{
 "cells": [
  {
   "cell_type": "code",
   "execution_count": null,
   "metadata": {},
   "outputs": [],
   "source": [
    "#1.\tWelcome the player to the game and ask them the length of the code to crack. (Min of 3, Max 9)\n",
    "#    a.\tDetermines how many positions need to be filled by player when they are guessing.\n",
    "#2.\tBased on that number will display the number of guesses that the player is entitled to.\n",
    "#3.\tComputer to generate the ‘code’ based on the length specific in Step 1.\n",
    "#4.\tAsk the user to input the colour guess of their first position (needs error handling)\n",
    "#    a.\tColour for second position\n",
    "#    b.\tColour of third position\n",
    "#        i.\tRepeat to fulfil the number from Set 1 above.\n",
    "#5.\tAfter all guesses complete, the player’s guess will be compared to the CPU’s code (Step 3)\n",
    "#6.\tFeedback on the guess will be provided\n",
    "#    a.\tFor each correct colour but incorrect position XXX will be displayed\n",
    "#    b.\tFor each correct colour and position combination YYY will be displayed.\n",
    "#7.\tUser asked to enter their next guess\n",
    "#    a.\tRepeats until number of allowable rounds (determined in 1a) are exhausted\n",
    "#8.\tAt any time, if the user guesses the correct ‘code’ then routine will break and display a success message.\n"
   ]
  },
  {
   "cell_type": "code",
   "execution_count": 16,
   "metadata": {},
   "outputs": [],
   "source": [
    "#General tasks\n",
    "import random\n",
    "import itertools\n",
    "\n",
    "#variables\n",
    "code_to_crack = [] #this is in numbers\n",
    "player_guess_nums = []"
   ]
  },
  {
   "cell_type": "code",
   "execution_count": 12,
   "metadata": {},
   "outputs": [
    {
     "name": "stdout",
     "output_type": "stream",
     "text": [
      "{'R': 0, 'G': 1, 'Y': 2, 'B': 3, 'M': 4, 0: 'R', 1: 'G', 2: 'Y', 3: 'B', 4: 'M'}\n",
      "G\n"
     ]
    }
   ],
   "source": [
    "##dictionary to turn colours into numbers and vice versa\n",
    "\n",
    "colour_lookup = {\n",
    "  \"R\": 0,\n",
    "  \"G\": 1,\n",
    "  \"Y\": 2,\n",
    "  \"B\": 3,\n",
    "  \"M\": 4,\n",
    "  0: \"R\",\n",
    "  1: \"G\",\n",
    "  2: \"Y\",\n",
    "  3: \"B\",\n",
    "  4: \"M\"\n",
    "}\n",
    "print(colour_lookup)\n",
    "\n",
    "print(colour_lookup[1])"
   ]
  },
  {
   "cell_type": "code",
   "execution_count": 21,
   "metadata": {},
   "outputs": [
    {
     "name": "stdout",
     "output_type": "stream",
     "text": [
      "######################################################## \n",
      "######## Welcome to the game of Mastermind 2019 ######## \n",
      "######################################################## \n",
      "In this game you'll be playing against the computer who will create a combination of 3 from a pool of 5 colours. The computer can repeat the colour selection.\n",
      "For example the computer could pick RED RED YELLOW or GREEN GREEN GREEN\n",
      "You will have 5 attempts to try and guess the correct colour and position of the computers combination\n",
      "Remeber the options are \u001b[0;37;41m [R]ED \u001b[0;37;42m [G]REEN \u001b[0;30;43m [Y]ELLOW \u001b[0;37;44m [B]LUE \u001b[0;37;45m [M]AGENTA \n"
     ]
    }
   ],
   "source": [
    "#1.\tWelcome the player to the game and ask them the length of the code to crack. (Min of 3, Max 9)\n",
    "#    a.\tDetermines how many positions need to be filled by player when they are guessing.\n",
    "\n",
    "print (\"######################################################## \")\n",
    "print (\"######## Welcome to the game of Mastermind 2019 ######## \")\n",
    "print (\"######################################################## \")\n",
    "print (\"In this game you'll be playing against the computer who will create a combination of 3 from a pool of 5 colours. The computer can repeat the colour selection.\")\n",
    "print (\"For example the computer could pick RED RED YELLOW or GREEN GREEN GREEN\")\n",
    "print (\"You will have 5 attempts to try and guess the correct colour and position of the computers combination\")\n",
    "print (f\"Remeber the options are \\033[0;37;41m [R]ED \\033[0;37;42m [G]REEN \\033[0;30;43m [Y]ELLOW \\033[0;37;44m [B]LUE \\033[0;37;45m [M]AGENTA \" )\n",
    "\n",
    "\n",
    "pegs = ['RED','ORANGE', 'YELLOW' ,'GREEN' , 'BLUE', ]\n",
    "#pegs = ['RED','GREEN', 'BLUE']# ,'GREEN' , 'BLUE', ]\n",
    "#R O Y G B\n",
    "\n",
    "#dict = {}\n",
    "\n",
    "#R = 0\n",
    "#G = 1\n",
    "#Y = 2\n",
    "#B = 3\n",
    "#M = 4\n"
   ]
  },
  {
   "cell_type": "code",
   "execution_count": 17,
   "metadata": {},
   "outputs": [
    {
     "name": "stdout",
     "output_type": "stream",
     "text": [
      "[[3], [1], [3]]\n"
     ]
    }
   ],
   "source": [
    "def cpu_code_to_crack():\n",
    "    \n",
    "    code_to_crack.append([random.randint(0,4)])\n",
    "    code_to_crack.append([random.randint(0,4)])\n",
    "    code_to_crack.append([random.randint(0,4)])\n",
    "    print(code_to_crack)\n",
    "\n",
    "cpu_code_to_crack()"
   ]
  },
  {
   "cell_type": "code",
   "execution_count": 6,
   "metadata": {},
   "outputs": [
    {
     "data": {
      "text/plain": [
       "125"
      ]
     },
     "execution_count": 6,
     "metadata": {},
     "output_type": "execute_result"
    }
   ],
   "source": [
    "import itertools\n",
    "\n",
    "\n",
    "\n",
    "[p for p in itertools.product(pegs, repeat=3)] #4 in this case is the number you want so this will be variable\n",
    "#len([p for p in itertools.product(pegs, repeat=3)])\n",
    "\n",
    "\n"
   ]
  },
  {
   "cell_type": "code",
   "execution_count": 18,
   "metadata": {},
   "outputs": [
    {
     "name": "stdout",
     "output_type": "stream",
     "text": [
      "\u001b[0;37;41mRED\n",
      "\u001b[0;37;42mGREEN\n",
      "\u001b[0;30;43mYELLOW\n",
      "\u001b[0;37;44mBLUE\n",
      "\u001b[0;37;45mMAGENTA\n"
     ]
    }
   ],
   "source": [
    "print(f\"\\033[0;37;41mRED\")\n",
    "print(f\"\\033[0;37;42mGREEN\")\n",
    "print(f\"\\033[0;30;43mYELLOW\")\n",
    "print(f\"\\033[0;37;44mBLUE\")\n",
    "print(f\"\\033[0;37;45mMAGENTA\")"
   ]
  },
  {
   "cell_type": "code",
   "execution_count": 4,
   "metadata": {},
   "outputs": [
    {
     "name": "stdout",
     "output_type": "stream",
     "text": [
      "Enter your guess! Remember to use a single character [R]ed [G]reen [Y]ellow [B]lue [M]agenta : G\n",
      "['M', 'M', 'G']\n"
     ]
    }
   ],
   "source": [
    "#4.\tAsk the user to input the colour guess of their first position (needs error handling)\n",
    "#    a.\tColour for second position\n",
    "#    b.\tColour of third position\n",
    "#        i.\tRepeat to fulfil the number from Set 1 above.\n",
    "\n",
    "colour_letters = [\"R\",\"G\",\"Y\",\"B\",\"M\"]\n",
    "player_guess= []\n",
    "\n",
    "def player_guess_entry_func():\n",
    "    #global player_gesture_var\n",
    "    while (True):\n",
    "        guess_var = input(\"Enter your guess! Remember to use a single character [R]ed [G]reen [Y]ellow [B]lue [M]agenta : \")\n",
    "        if guess_var not in str(colour_letters):\n",
    "            print(\"Remember to use a single character [R]ed [G]reen [Y]ellow [B]lue [M]agenta\")\n",
    "            continue\n",
    "        else:\n",
    "            #break\n",
    "            return player_guess.append(guess_var)\n",
    "\n",
    "player_guess_entry_func()\n",
    "print(player_guess)"
   ]
  },
  {
   "cell_type": "code",
   "execution_count": 7,
   "metadata": {},
   "outputs": [
    {
     "name": "stdout",
     "output_type": "stream",
     "text": [
      "Enter your guess! Remember to use a single character [R]ed [G]reen [Y]ellow [B]lue [M]agenta : M\n",
      "Enter your guess! Remember to use a single character [R]ed [G]reen [Y]ellow [B]lue [M]agenta : M\n",
      "Enter your guess! Remember to use a single character [R]ed [G]reen [Y]ellow [B]lue [M]agenta : R\n",
      "['M', 'M', 'R']\n"
     ]
    }
   ],
   "source": [
    "player_guess= []\n",
    "while len(player_guess) < 3:\n",
    "    player_guess_entry_func()\n",
    "    \n",
    "print(player_guess)    "
   ]
  },
  {
   "cell_type": "code",
   "execution_count": 13,
   "metadata": {},
   "outputs": [
    {
     "name": "stdout",
     "output_type": "stream",
     "text": [
      "[4, 4, 0]\n"
     ]
    }
   ],
   "source": [
    "##Turn players colours into numbers\n",
    "player_guess_nums = []\n",
    "\n",
    "for i in player_guess:\n",
    "    player_guess_nums.append(colour_lookup[i])\n",
    "print(player_guess_nums)"
   ]
  },
  {
   "cell_type": "code",
   "execution_count": 29,
   "metadata": {},
   "outputs": [
    {
     "name": "stdout",
     "output_type": "stream",
     "text": [
      "WINNER!!!\n",
      "The guess scored you 1 white pegs and 0 black pegs. Keep going!\n",
      "The guess scored you 2 white pegs and 0 black pegs. Keep going!\n",
      "The guess scored you 3 white pegs and 0 black pegs. Keep going!\n"
     ]
    }
   ],
   "source": [
    "#is winning combination?\n",
    "if player_guess_nums == code_to_crack:\n",
    "    print(\"WINNER!!!\")\n",
    "    \n",
    "#is there a correct color in the sequence\n",
    "#Each WHITE peg means that one of the guessed pegs is correct, but is in the wrong hole. i.e. correct colour incorrect hole\n",
    "#Each BLACK peg means that one of the guessed pegs is correct, and is in the right hole. i.e. correct colour & correct hole\n",
    "count_white = 0\n",
    "count_black = 0\n",
    "\n",
    "\n",
    "player_guess_nums = [1,2,3]\n",
    "code_to_crack = [1,2,3]\n",
    "\n",
    "\n",
    "# This function will assess 1 peg & 1 position against CPU corresponging peg and position\n",
    "def assessment_of_player_peg(position, colour): #pos is 0, 1, 2 and colour is RGYBM\n",
    "    global count_white\n",
    "    global count_black\n",
    "    if colour not in code_to_crack:\n",
    "        return\n",
    "    else:\n",
    "        if position == code_to_crack[position]:\n",
    "            count_black += 1\n",
    "        else:\n",
    "            count_white += 1\n",
    "    print (f\"The guess scored you {count_white} white pegs and {count_black} black pegs. Keep going!\")\n",
    "\n",
    "    \n",
    "assessment_of_player_peg(0, player_guess_nums[0])\n",
    "assessment_of_player_peg(1, player_guess_nums[1])\n",
    "assessment_of_player_peg(2, player_guess_nums[2])\n",
    "\n"
   ]
  },
  {
   "cell_type": "code",
   "execution_count": 44,
   "metadata": {},
   "outputs": [
    {
     "name": "stdout",
     "output_type": "stream",
     "text": [
      "P\n",
      "N\n",
      "P\n",
      "The guess scored you 0 white pegs and 2 black pegs. Keep going!\n"
     ]
    }
   ],
   "source": [
    "count_white = 0\n",
    "count_black = 0\n",
    "\n",
    "\n",
    "player_guess_nums = [1,2,3]\n",
    "code_to_crack = [1,5,3]\n",
    "\n",
    "\n",
    "# This function will assess 1 peg & 1 position at a time against CPU corresponging peg and position\n",
    "def assessment_of_player_peg(position): #pos is 0, 1, 2 and colour is RGYBM\n",
    "    global count_white\n",
    "    global count_black\n",
    "    if player_guess_nums[position] not in code_to_crack:\n",
    "        return print (\"N\")\n",
    "    else:\n",
    "        if player_guess_nums[position] == code_to_crack[position]: #this means colour and position are correct\n",
    "            count_black += 1\n",
    "            return print (\"P\")\n",
    "        else:\n",
    "            count_white += 1 #this means colour is present somewhere in the sequence.\n",
    "            return print (\"C\")\n",
    "\n",
    "assessment_of_player_peg(0)\n",
    "assessment_of_player_peg(1)\n",
    "assessment_of_player_peg(2)\n",
    "\n",
    "#this function will assess all 3 positions/ colours in one go to return\n",
    "\n",
    "def assessment_of_round():\n",
    "    if player_guess_nums == code_to_crack:\n",
    "        print(\"WINNER!!!\")\n",
    "    else:\n",
    "        print (f\"The guess scored you {count_white} white pegs and {count_black} black pegs. Keep going!\")\n",
    "    count_white = 0 #adding these to reset for the next round\n",
    "    count_black = 0\n",
    "        \n",
    "assessment_of_round()"
   ]
  },
  {
   "cell_type": "code",
   "execution_count": 51,
   "metadata": {},
   "outputs": [
    {
     "name": "stdout",
     "output_type": "stream",
     "text": [
      "N\n",
      "C\n",
      "N\n",
      "The guess scored you 1 white pegs and 2 black pegs. Keep going!\n"
     ]
    }
   ],
   "source": [
    "assessment_of_player_peg(0)\n",
    "assessment_of_player_peg(1)\n",
    "assessment_of_player_peg(2)\n",
    "\n",
    "#this function will assess all 3 positions/ colours in one go to return\n",
    "\n",
    "def assessment_of_round():\n",
    "    if player_guess_nums == code_to_crack:\n",
    "        print(\"WINNER!!!\")\n",
    "    else:\n",
    "        print (f\"The guess scored you {count_white} white pegs and {count_black} black pegs. Keep going!\")\n",
    "\n",
    "assessment_of_round()"
   ]
  },
  {
   "cell_type": "code",
   "execution_count": null,
   "metadata": {},
   "outputs": [],
   "source": [
    "### if this works its' the BEST\n",
    "this function will assess all 3 positions/ colours in one go to return\n",
    "\n",
    "def assessment_of_round():\n",
    "    assessment_of_player_peg(0)\n",
    "    assessment_of_player_peg(1)\n",
    "    assessment_of_player_peg(2)\n",
    "    if player_guess_nums == code_to_crack:\n",
    "        print(\"WINNER!!!\")\n",
    "    else:\n",
    "        print (f\"The guess scored you {count_white} white pegs and {count_black} black pegs. Keep going!\")\n",
    "\n",
    "assessment_of_round()"
   ]
  },
  {
   "cell_type": "code",
   "execution_count": null,
   "metadata": {},
   "outputs": [],
   "source": [
    "##display what the users guess was"
   ]
  },
  {
   "cell_type": "code",
   "execution_count": 50,
   "metadata": {},
   "outputs": [
    {
     "name": "stdout",
     "output_type": "stream",
     "text": [
      "Your combination is \u001b[0;30;43m YELLOW  \u001b[0;37;44m BLUE  \u001b[0;37;45m MAGENTA \n"
     ]
    }
   ],
   "source": [
    "player_guess_nums = [2,3,4]\n",
    "colour_lookup = {\n",
    "  0: \"\\033[0;37;41m RED \",\n",
    "  1: \"\\033[0;37;42m GREEN \",\n",
    "  2: \"\\033[0;30;43m YELLOW \",\n",
    "  3: \"\\033[0;37;44m BLUE \",\n",
    "  4: \"\\033[0;37;45m MAGENTA \"\n",
    "}\n",
    "\n",
    "print(f\"Your combination is {colour_lookup[player_guess_nums[0]]} {colour_lookup[player_guess_nums[1]]} {colour_lookup[player_guess_nums[2]]}\")\n"
   ]
  },
  {
   "cell_type": "code",
   "execution_count": null,
   "metadata": {},
   "outputs": [],
   "source": []
  },
  {
   "cell_type": "code",
   "execution_count": null,
   "metadata": {},
   "outputs": [],
   "source": []
  }
 ],
 "metadata": {
  "kernelspec": {
   "display_name": "Python 3",
   "language": "python",
   "name": "python3"
  },
  "language_info": {
   "codemirror_mode": {
    "name": "ipython",
    "version": 3
   },
   "file_extension": ".py",
   "mimetype": "text/x-python",
   "name": "python",
   "nbconvert_exporter": "python",
   "pygments_lexer": "ipython3",
   "version": "3.7.3"
  }
 },
 "nbformat": 4,
 "nbformat_minor": 2
}
