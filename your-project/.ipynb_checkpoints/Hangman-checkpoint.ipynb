{
 "cells": [
  {
   "cell_type": "markdown",
   "metadata": {},
   "source": [
    "# Hangman"
   ]
  },
  {
   "cell_type": "markdown",
   "metadata": {},
   "source": [
    "## Demo1"
   ]
  },
  {
   "cell_type": "markdown",
   "metadata": {},
   "source": [
    "This version you can guess **13** letters. While you are playing you will see where you are in the \"killing process\"."
   ]
  },
  {
   "cell_type": "code",
   "execution_count": 6,
   "metadata": {},
   "outputs": [],
   "source": [
    "# Decide who the winner is\n",
    "def result(win,lose):\n",
    "    if win == 0: \n",
    "        print(\"Congratulations!!!!! You won!\")\n",
    "    elif lose == max_game: \n",
    "        print(\"You died...\")\n",
    "        "
   ]
  },
  {
   "cell_type": "code",
   "execution_count": 7,
   "metadata": {},
   "outputs": [],
   "source": [
    "import time"
   ]
  },
  {
   "cell_type": "code",
   "execution_count": 8,
   "metadata": {},
   "outputs": [
    {
     "name": "stdout",
     "output_type": "stream",
     "text": [
      "Add your word: hello\n",
      "Here is the word you need to find out:  ['_', '_', '_', '_', '_']\n",
      "Add your letter: k\n",
      "Wrong! Sorry, I have to draw the  basis\n",
      "Letters you already guessed:  ['k']\n",
      "['_', '_', '_', '_', '_']\n",
      "Add your letter: h\n",
      "Letters you already guessed:  ['k', 'h']\n",
      "['h', '_', '_', '_', '_']\n",
      "Add your letter: e\n",
      "Letters you already guessed:  ['k', 'h', 'e']\n",
      "['h', 'e', '_', '_', '_']\n",
      "Add your letter: o\n",
      "Letters you already guessed:  ['k', 'h', 'e', 'o']\n",
      "['h', 'e', '_', '_', 'o']\n",
      "Add your letter: l\n",
      "Letters you already guessed:  ['k', 'h', 'e', 'o', 'l']\n",
      "['h', 'e', 'l', 'l', 'o']\n",
      "Congratulations!!!!! You won!\n"
     ]
    }
   ],
   "source": [
    "# with full world possibility\n",
    "word = str(input('Add your word: '))     # The word from player1\n",
    "word_list = list(word)                 # Word converted to a list\n",
    "count_lines=len(word_list)             #length of the word\n",
    "\n",
    "word_guess = list((len(word_list))*(str(\"_\")))  #the list that shows the lines and changes to letters\n",
    "print(\"Here is the word you need to find out: \", word_guess)\n",
    "\n",
    "\n",
    "killer_proc = [\"basis\", \"pillar\", \"upper thingy\", \"loop\", \"head\", \"body\", \"left leg\", \"right leg\", \"left hand\", \"right hand\", \"lef eye\", \"right eye\", \"no smile\" ]\n",
    "max_game = len(killer_proc)\n",
    "\n",
    "time.sleep(2)\n",
    "\n",
    "guesses = []\n",
    "x = 0                             # +1 if the guess was not successful\n",
    "while count_lines > 0 and x != max_game:\n",
    "    mistake = 0\n",
    "    \n",
    "    guess = str(input(\"Add your letter: \"))\n",
    "    while guess in guesses:\n",
    "        print(\"you picked this letter already\")\n",
    "        guess = str(input(\"Add another letter: \"))\n",
    "    guesses.append(guess)\n",
    "    guess_list = list(guess)\n",
    "    \n",
    "    for i in range(len(word_list)):\n",
    "        for j in range(len(guess_list)):\n",
    "            if word_list[i] == guess[j]:\n",
    "                word_guess[i]= guess[j]\n",
    "            else:\n",
    "                mistake +=1\n",
    "                if mistake == len(word_list):\n",
    "                    print(\"Wrong! Sorry, I have to draw the \", killer_proc[x])\n",
    "                    x+=1\n",
    "    \n",
    "    time.sleep(1)    \n",
    "\n",
    "    count_lines = word_guess.count(\"_\")  # counts how many lines are missing\n",
    "    print(\"Letters you already guessed: \" ,guesses)\n",
    "    print(word_guess)\n",
    "    \n",
    "\n",
    "result(count_lines,x)  "
   ]
  },
  {
   "cell_type": "markdown",
   "metadata": {},
   "source": [
    "## Demo2"
   ]
  },
  {
   "cell_type": "markdown",
   "metadata": {},
   "source": [
    "This version you can guess **3** letters. While you are playing you will see where you are in the \"killing process\"."
   ]
  },
  {
   "cell_type": "code",
   "execution_count": 9,
   "metadata": {},
   "outputs": [
    {
     "name": "stdout",
     "output_type": "stream",
     "text": [
      "Add your word: pig\n",
      "Here is the word you need to find out:  ['_', '_', '_']\n",
      "Add your letter: t\n",
      "Wrong! Sorry, I have to draw the  lef eye\n",
      "Letters you already guessed:  ['t']\n",
      "['_', '_', '_']\n",
      "Add your letter: \n",
      "Letters you already guessed:  ['t', '']\n",
      "['_', '_', '_']\n",
      "Add your letter: r\n",
      "Wrong! Sorry, I have to draw the  right eye\n",
      "Letters you already guessed:  ['t', '', 'r']\n",
      "['_', '_', '_']\n",
      "Add your letter: w\n",
      "Wrong! Sorry, I have to draw the  no smile\n",
      "Letters you already guessed:  ['t', '', 'r', 'w']\n",
      "['_', '_', '_']\n",
      "You died...\n"
     ]
    }
   ],
   "source": [
    "# with full world possibility\n",
    "word = str(input('Add your word: '))     # The word from player1\n",
    "word_list = list(word)                 # Word converted to a list\n",
    "count_lines=len(word_list)             #length of the word\n",
    "\n",
    "word_guess = list((len(word_list))*(str(\"_\")))  #the list that shows the lines and changes to letters\n",
    "print(\"Here is the word you need to find out: \", word_guess)\n",
    "\n",
    "\n",
    "killer_proc = [\"lef eye\", \"right eye\", \"no smile\" ]\n",
    "max_game = len(killer_proc)\n",
    "\n",
    "time.sleep(2)\n",
    "\n",
    "guesses = []\n",
    "x = 0                             # +1 if the guess was not successful\n",
    "while count_lines > 0 and x != max_game:\n",
    "    mistake = 0\n",
    "    \n",
    "    guess = str(input(\"Add your letter: \"))\n",
    "    while guess in guesses:\n",
    "        print(\"you picked this letter already\")\n",
    "        guess = str(input(\"Add another letter: \"))\n",
    "    guesses.append(guess)\n",
    "    guess_list = list(guess)\n",
    "    \n",
    "    for i in range(len(word_list)):\n",
    "        for j in range(len(guess_list)):\n",
    "            if word_list[i] == guess[j]:\n",
    "                word_guess[i]= guess[j]\n",
    "            else:\n",
    "                mistake +=1\n",
    "                if mistake == len(word_list):\n",
    "                    print(\"Wrong! Sorry, I have to draw the \", killer_proc[x])\n",
    "                    x+=1\n",
    "    \n",
    "    time.sleep(1)    \n",
    "\n",
    "    count_lines = word_guess.count(\"_\")  # counts how many lines are missing\n",
    "    print(\"Letters you already guessed: \" ,guesses)\n",
    "    print(word_guess)\n",
    "    \n",
    "\n",
    "result(count_lines,x)  "
   ]
  },
  {
   "cell_type": "code",
   "execution_count": null,
   "metadata": {},
   "outputs": [],
   "source": []
  }
 ],
 "metadata": {
  "kernelspec": {
   "display_name": "Python 3",
   "language": "python",
   "name": "python3"
  },
  "language_info": {
   "codemirror_mode": {
    "name": "ipython",
    "version": 3
   },
   "file_extension": ".py",
   "mimetype": "text/x-python",
   "name": "python",
   "nbconvert_exporter": "python",
   "pygments_lexer": "ipython3",
   "version": "3.8.6"
  }
 },
 "nbformat": 4,
 "nbformat_minor": 4
}
