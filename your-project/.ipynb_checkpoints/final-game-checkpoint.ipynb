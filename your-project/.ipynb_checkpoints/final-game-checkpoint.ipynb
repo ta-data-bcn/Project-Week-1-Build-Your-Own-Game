{
 "cells": [
  {
   "cell_type": "markdown",
   "metadata": {},
   "source": [
    "# Message encrypter and decrypter"
   ]
  },
  {
   "cell_type": "markdown",
   "metadata": {},
   "source": [
    "Welcome to the ultimate message encoder! It's time to send your secret statements encrypted through the Caesar Algorythm. Insert a message to make it secret and then decrypt it again."
   ]
  },
  {
   "cell_type": "code",
   "execution_count": 2,
   "metadata": {
    "scrolled": true
   },
   "outputs": [],
   "source": [
    "# c = (x + n) % 26"
   ]
  },
  {
   "cell_type": "code",
   "execution_count": 13,
   "metadata": {},
   "outputs": [],
   "source": [
    "import string\n",
    "message = \"\"\n",
    "def encrypter(message):\n",
    "    cipher_message = []\n",
    "    for letter in message:\n",
    "        if letter not in string.ascii_letters:\n",
    "            cipher_message.append(letter)\n",
    "        else:\n",
    "            cipher_message.append(string.ascii_letters[(string.ascii_letters.index(letter) + 9) % len(string.ascii_letters)])\n",
    "    cipher = \"\".join(cipher_message)\n",
    "    return cipher\n",
    "\n",
    "def decrypter(message):\n",
    "    cipher_message = []\n",
    "    for letter in message:\n",
    "        if letter not in string.ascii_letters:\n",
    "            cipher_message.append(letter)\n",
    "        else:\n",
    "            cipher_message.append(string.ascii_letters[(string.ascii_letters.index(letter) - 9) % len(string.ascii_letters)])\n",
    "    cipher = \"\".join(cipher_message)\n",
    "    return cipher"
   ]
  },
  {
   "cell_type": "code",
   "execution_count": null,
   "metadata": {},
   "outputs": [],
   "source": [
    "user_input = input(\"Write the message you want to encrypt: \")\n",
    "encrypted_message = encrypter(user_input)\n",
    "print(encrypted_message)\n",
    "\n",
    "input(\"Now, it's time to decrypt your previous message: \")\n",
    "decrypted_message = decrypter(encrypted_message)\n",
    "print(decrypted_message)"
   ]
  },
  {
   "cell_type": "code",
   "execution_count": null,
   "metadata": {},
   "outputs": [],
   "source": []
  },
  {
   "cell_type": "code",
   "execution_count": null,
   "metadata": {},
   "outputs": [],
   "source": []
  },
  {
   "cell_type": "code",
   "execution_count": null,
   "metadata": {},
   "outputs": [],
   "source": []
  }
 ],
 "metadata": {
  "kernelspec": {
   "display_name": "Python 3",
   "language": "python",
   "name": "python3"
  },
  "language_info": {
   "codemirror_mode": {
    "name": "ipython",
    "version": 3
   },
   "file_extension": ".py",
   "mimetype": "text/x-python",
   "name": "python",
   "nbconvert_exporter": "python",
   "pygments_lexer": "ipython3",
   "version": "3.8.6"
  }
 },
 "nbformat": 4,
 "nbformat_minor": 4
}
