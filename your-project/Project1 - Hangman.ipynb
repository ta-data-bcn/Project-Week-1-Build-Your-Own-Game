{
 "cells": [
  {
   "cell_type": "markdown",
   "metadata": {},
   "source": [
    "# Project1 Hangman"
   ]
  },
  {
   "cell_type": "markdown",
   "metadata": {},
   "source": [
    "### Greeting"
   ]
  },
  {
   "cell_type": "code",
   "execution_count": 1,
   "metadata": {},
   "outputs": [
    {
     "name": "stdout",
     "output_type": "stream",
     "text": [
      "Hello! We are going to play a tematic Hangman. The tematic is going to be: Countries!\n",
      "The computer will choose a random country from the above list.\n",
      "You will have 6 possible atemps. If you reach the maximum of attemps, you lose.\n",
      "Try your luck and guess the country!\n"
     ]
    }
   ],
   "source": [
    "#Explanation of the game\n",
    "print(f\"Hello! We are going to play a tematic Hangman. The tematic is going to be: Countries!\\nThe computer will choose a random country from the above list.\\nYou will have 6 possible atemps. If you reach the maximum of attemps, you lose.\\nTry your luck and guess the country!\")"
   ]
  },
  {
   "cell_type": "markdown",
   "metadata": {},
   "source": [
    "### Introduction\n",
    "Show the list of elements that might appear on Hangman. The word will be chose randomly by the computer. Also, you can find the characters allowed for this game. \n",
    "\n",
    "Notice that there is a \"1\" (more explanation letter) and a \" \" for countries with two, or more, words on them."
   ]
  },
  {
   "cell_type": "code",
   "execution_count": 2,
   "metadata": {},
   "outputs": [],
   "source": [
    "#The computer will choose randomly from one of those items.\n",
    "\n",
    "countries = [\"Armenia\", \"Andorra\", \"Angola\", \"Australia\", \"Austria\", \"Bahamas\", \"Belgium\", \"Bolivia\", \"Brazil\", \"Cameroon\",\n",
    "            \"Canada\", \"China\", \"Chile\", \"Dominican Republic\", \"Egypt\", \"Finland\", \"France\", \"Guatemala\", \"Iceland\", \n",
    "             \"India\", \"Ireland\", \"Italy\", \"Japan\", \"Luxembourg\", \"Liechtenstein\", \"Mauritania\", \"Mexico\", \"Montenegro\",\n",
    "            \"Netherlands\", \"New Zealand\", \"Papua New Guinea\", \"Philippines\", \"Romania\", \"San Marino\", \"Sierra Leone\",\n",
    "            \"South Korea\", \"Switzerland\", \"United Kingdom\", \"United States of America\", \"Venezuela\", \"Zimbabwe\"]\n",
    "\n",
    "allowed_characters = [\"A\", \"B\", \"C\", \"D\", \"E\", \"F\", \"G\", \"H\", \"I\", \"J\", \"K\", \"L\", \"M\", \"N\", \"O\", \"P\", \"Q\", \"R\",\n",
    "                     \"S\", \"T\", \"U\", \"V\", \"W\", \"X\", \"Y\", \"Z\", \"1\", \" \"]"
   ]
  },
  {
   "cell_type": "markdown",
   "metadata": {},
   "source": [
    "### Step1: Let the computer chose the country.\n",
    "You can run the following cell as much times as you want. Go to **Step2** when you are prepared for playing. "
   ]
  },
  {
   "cell_type": "code",
   "execution_count": 10,
   "metadata": {},
   "outputs": [],
   "source": [
    "#Game starts. Define a function that shows the lenght of the word (hidden by _), creates a list with the used letters \n",
    "#of the user (to avoid losing lives if letter is repeated) and sets the maximum amount of lives.\n",
    "\n",
    "import random\n",
    "import time\n",
    "\n",
    "def get_country():\n",
    "    country_picked = random.choice(countries).upper()\n",
    "    return country_picked\n",
    "\n",
    "country = get_country()"
   ]
  },
  {
   "cell_type": "markdown",
   "metadata": {},
   "source": [
    "### Step2: Play Time\n",
    "Before input, read the rules of the game that will be printed as soon as you run the code. You have 10 maximum fails.\n",
    "\n",
    "If you solve the country before hitting 10 fails, **you win**. If not, **you lose**. :(\n",
    "\n",
    "**Good luck!**"
   ]
  },
  {
   "cell_type": "code",
   "execution_count": 11,
   "metadata": {},
   "outputs": [
    {
     "name": "stdout",
     "output_type": "stream",
     "text": [
      "It's play time!\n",
      "Your maximum fail attempts are 10. Be careful.\n",
      "The country you have to find is: ___________. Hint, the lenght is 11.\n",
      "If you want to stop playing in any moment, write '1' for stop the game.\n",
      "Chose one letter from A to Z (or a space): a\n",
      "You chose the letter A.\n",
      "The letter A is not there. Your fails are 1 out of 10.\n",
      "Current status of the word: ___________.\n",
      "Chose one letter from A to Z (or a space): e\n",
      "You chose the letter E.\n",
      "Hurray! You discovered the letter E of that country.\n",
      "Current status of the word: _________E_.\n",
      "Chose one letter from A to Z (or a space): o\n",
      "You chose the letter O.\n",
      "The letter O is not there. Your fails are 2 out of 10.\n",
      "Current status of the word: _________E_.\n",
      "Chose one letter from A to Z (or a space): i\n",
      "You chose the letter I.\n",
      "Hurray! You discovered the letter I of that country.\n",
      "Current status of the word: __I_I__I_E_.\n",
      "Chose one letter from A to Z (or a space): p\n",
      "You chose the letter P.\n",
      "Hurray! You discovered the letter P of that country.\n",
      "Current status of the word: P_I_IPPI_E_.\n",
      "Chose one letter from A to Z (or a space): h\n",
      "You chose the letter H.\n",
      "Hurray! You discovered the letter H of that country.\n",
      "Current status of the word: PHI_IPPI_E_.\n",
      "Chose one letter from A to Z (or a space): l\n",
      "You chose the letter L.\n",
      "Hurray! You discovered the letter L of that country.\n",
      "Current status of the word: PHILIPPI_E_.\n",
      "Chose one letter from A to Z (or a space): n\n",
      "You chose the letter N.\n",
      "Hurray! You discovered the letter N of that country.\n",
      "Current status of the word: PHILIPPINE_.\n",
      "Chose one letter from A to Z (or a space): s\n",
      "You chose the letter S.\n",
      "Hurray! You discovered the letter S of that country.\n",
      "Current status of the word: PHILIPPINES.\n",
      "CONGRATULATIONS! YOU WIN!.\n"
     ]
    }
   ],
   "source": [
    "#Inputs del usuario para adivinar la palabra.\n",
    "\n",
    "def play_game(country):\n",
    "    country_hidden = \"_\" * len(country)\n",
    "    used_letters = [] #Append here all the letters used by the player\n",
    "    current_fails = 0\n",
    "    max_fails = 10\n",
    "    print(\"It's play time!\")\n",
    "    print(f\"Your maximum fail attempts are {max_fails}. Be careful.\")\n",
    "    print(f\"The country you have to find is: {country_hidden}. Hint, the lenght is {len(country)}.\")\n",
    "    print(f\"If you want to stop playing in any moment, write '1' for stop the game.\")\n",
    "    time.sleep(0.5)\n",
    "    while current_fails < max_fails and country != country_hidden:\n",
    "        choice = input(\"Chose one letter from A to Z (or a space): \").upper()\n",
    "        if choice in used_letters:\n",
    "            print(\"You already used that letter. Write one character from A to Z (or a space) and avoid the listed below.\")\n",
    "            print(used_letters)\n",
    "        elif choice == '':\n",
    "            print(\"Ops, seems you didn't type. Please, write one character from A to Z (or a space).\")\n",
    "        elif choice not in allowed_characters:\n",
    "            print(\"Ops, seems you typed a not allowed character. Please, write one character from A to Z (or a space).\")\n",
    "        elif choice == \"1\": #Break para romper el while loop\n",
    "            print(\"The game ended. If this was a mistake, run again and have some fun!\")\n",
    "            break\n",
    "        elif len(choice) >= 2:\n",
    "            print(\"Ops, you writed more than one character. Please, write one character from A to Z (or a space).\")\n",
    "        else:\n",
    "            used_letters.append(choice)\n",
    "            print(f\"You chose the letter {choice}.\")\n",
    "            if choice not in country:\n",
    "                current_fails += 1\n",
    "                if current_fails == max_fails:\n",
    "                    print(f\"I'm sorry, you lose. The answer was {country}.\")\n",
    "                    break\n",
    "                elif current_fails < max_fails:\n",
    "                    print(f\"The letter {choice} is not there. Your fails are {current_fails} out of {max_fails}.\")\n",
    "                    print(f\"Current status of the word: {country_hidden}.\")              \n",
    "            elif choice in country:\n",
    "                    print(f\"Hurray! You discovered the letter {choice} of that country.\")\n",
    "                    for index, letter in enumerate(country):\n",
    "                        if letter == choice:\n",
    "                            country_hidden = country_hidden[:index] + letter + country_hidden[index+1:]               \n",
    "                    print(f\"Current status of the word: {country_hidden}.\")\n",
    "        if country == country_hidden:            \n",
    "            print(f\"CONGRATULATIONS! YOU WIN!.\")\n",
    "                    \n",
    "play_game(country)"
   ]
  }
 ],
 "metadata": {
  "kernelspec": {
   "display_name": "Python 3",
   "language": "python",
   "name": "python3"
  },
  "language_info": {
   "codemirror_mode": {
    "name": "ipython",
    "version": 3
   },
   "file_extension": ".py",
   "mimetype": "text/x-python",
   "name": "python",
   "nbconvert_exporter": "python",
   "pygments_lexer": "ipython3",
   "version": "3.8.3"
  }
 },
 "nbformat": 4,
 "nbformat_minor": 4
}
