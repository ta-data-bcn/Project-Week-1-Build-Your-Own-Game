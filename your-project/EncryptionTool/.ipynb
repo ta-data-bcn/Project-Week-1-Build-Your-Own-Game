{
 "cells": [
  {
   "cell_type": "markdown",
   "metadata": {},
   "source": [
    "# Caesar's Cypher"
   ]
  },
  {
   "cell_type": "markdown",
   "metadata": {},
   "source": [
    "The following program contains three different bocks of code. Each block of code corresponds to a different function(ality) of the program.\n",
    "\n",
    "At the end of the blocks you may find a space to run the code and test it. Have fun!"
   ]
  },
  {
   "cell_type": "markdown",
   "metadata": {},
   "source": [
    "## Function to gather input from the user\n",
    "\n",
    "I've create a simple function to gather input from the user and stores the values to be used in a the main function to encrypt."
   ]
  },
  {
   "cell_type": "code",
   "execution_count": 10,
   "metadata": {
    "scrolled": true
   },
   "outputs": [
    {
     "name": "stdout",
     "output_type": "stream",
     "text": [
      "Please specify if you want to (e)ncrypt or (d)ecrypt. (Allowed characters (e) or (d))e\n",
      "Please insert your secret messageGoodbye! And thanks for all the fish.\n",
      "\"Your input message is Goodbye! And thanks for all the fish.\n"
     ]
    }
   ],
   "source": [
    "def user_input():\n",
    "    selection = input('Please specify if you want to (e)ncrypt or (d)ecrypt. (Allowed characters (e) or (d))')\n",
    "    if selection == \"e\" or \"E\":\n",
    "        answer = input('Please insert your secret message')\n",
    "        print(f'\"Your input message is {answer}')\n",
    "    elif selection == \"d\" or \"D\":\n",
    "        answer1 = input('Please insert message to decrypt')\n",
    "        print(f'\"The message your are trying to decrypt is: {answer1}')\n",
    "\n",
    "user_input()"
   ]
  },
  {
   "cell_type": "markdown",
   "metadata": {},
   "source": [
    "## Function to Encrypt user's message"
   ]
  },
  {
   "cell_type": "code",
   "execution_count": null,
   "metadata": {},
   "outputs": [],
   "source": [
    "def encrypt(answer,enc_message):\n",
    "    \n"
   ]
  },
  {
   "cell_type": "markdown",
   "metadata": {},
   "source": [
    "## Function to Decrypt user's message"
   ]
  },
  {
   "cell_type": "code",
   "execution_count": null,
   "metadata": {},
   "outputs": [],
   "source": []
  }
 ],
 "metadata": {
  "kernelspec": {
   "display_name": "Python 3",
   "language": "python",
   "name": "python3"
  },
  "language_info": {
   "codemirror_mode": {
    "name": "ipython",
    "version": 3
   },
   "file_extension": ".py",
   "mimetype": "text/x-python",
   "name": "python",
   "nbconvert_exporter": "python",
   "pygments_lexer": "ipython3",
   "version": "3.7.7"
  }
 },
 "nbformat": 4,
 "nbformat_minor": 4
}
