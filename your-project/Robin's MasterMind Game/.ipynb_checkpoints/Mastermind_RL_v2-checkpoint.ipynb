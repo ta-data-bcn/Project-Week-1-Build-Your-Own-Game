{
 "cells": [
  {
   "cell_type": "code",
   "execution_count": 1,
   "metadata": {},
   "outputs": [],
   "source": [
    "import random"
   ]
  },
  {
   "cell_type": "code",
   "execution_count": 2,
   "metadata": {},
   "outputs": [],
   "source": [
    "coloured_balls = [\"green\", \"yellow\", \"white\", \"black\", \"orange\",\"red\",\"purple\",\"blue\"]"
   ]
  },
  {
   "cell_type": "code",
   "execution_count": 3,
   "metadata": {},
   "outputs": [],
   "source": [
    "# coloured_balls_dico = {\"g\":\"green\", \"y\":\"yellow\", \"w\":\"white\", \"bk\":\"black\", \"o\":\"orange\",\"r\":\"red\",\"p\":\"purple\",\"bl\":\"blue\"}\n",
    "# type(coloured_balls_dico)"
   ]
  },
  {
   "cell_type": "code",
   "execution_count": 4,
   "metadata": {},
   "outputs": [
    {
     "data": {
      "text/plain": [
       "dict"
      ]
     },
     "execution_count": 4,
     "metadata": {},
     "output_type": "execute_result"
    }
   ],
   "source": [
    "coloured_balls_dico_2 = {1:\"green\", 2:\"yellow\", 3:\"white\", 4:\"black\", 5:\"orange\", 6:\"red\", 7:\"purple\", 8:\"blue\"}\n",
    "type(coloured_balls_dico_2)"
   ]
  },
  {
   "cell_type": "code",
   "execution_count": 5,
   "metadata": {},
   "outputs": [],
   "source": [
    "rounds_10 = 10\n",
    "round_number = 0"
   ]
  },
  {
   "cell_type": "code",
   "execution_count": 6,
   "metadata": {},
   "outputs": [],
   "source": [
    "def random_cpu():\n",
    "    \"\"\"function randomly choses a combination of 4 coloured balls for the computer ie. the Mastercode\n",
    "    Input : random function generates randomly a 4 coloured ball combination\n",
    "    Output : generates the MasterCode for the game to be cracked by the player\"\"\"\n",
    "    \n",
    "    return random.choices(coloured_balls, k=4)\n"
   ]
  },
  {
   "cell_type": "code",
   "execution_count": 7,
   "metadata": {},
   "outputs": [],
   "source": [
    "# def random_cpu_dic():\n",
    "#     \"\"\"function randomly choses a combination of 4 coloured balls for the computer ie. the Mastercode\"\"\"\n",
    "    \n",
    "#     return random.choices(list(coloured_balls_dico))\n",
    "\n",
    "# computer_Mastercode_dic = random_cpu_dic()\n",
    "# computer_Mastercode_dic"
   ]
  },
  {
   "cell_type": "code",
   "execution_count": 8,
   "metadata": {},
   "outputs": [],
   "source": [
    "# computer_Mastercode_dic2 = random.sample(list(coloured_balls_dico, j=3)\n",
    "# print(computer_Mastercode_dic2)"
   ]
  },
  {
   "cell_type": "code",
   "execution_count": 9,
   "metadata": {},
   "outputs": [],
   "source": [
    "def player_select():\n",
    "    \"\"\"Each round - ask the player to make a 4 coloured choice\n",
    "    Input : the player has to input 4 coloured ball\n",
    "    Output : 4 ball combination\"\"\"\n",
    "    \n",
    "    print(\"choose 4 coloured balls (among green, yellow, white, black, orange,red,purple,blue)\\\n",
    "    Do or Do not. There is no try. \\\n",
    "    good luck padawan\")\n",
    "    \n",
    "    player_input_ball_list = []\n",
    "    \n",
    "    for i in range(4):\n",
    "        player_input_ball = input()\n",
    "        while player_input_ball not in coloured_balls:\n",
    "            player_input_ball = input(\"please choose a colour among the 8 coloured balls. \\\n",
    "                                      i.e. green, yellow, white, black, orange,red,purple,blue. \\\n",
    "                                      No more, No less \")\n",
    "        player_input_ball_list.append(player_input_ball)\n",
    "    \n",
    "    print(\"congrats, you have chosen\", player_input_ball_list, \"a wise choice \\n\")\n",
    "    \n",
    "    return player_input_ball_list"
   ]
  },
  {
   "cell_type": "code",
   "execution_count": 10,
   "metadata": {},
   "outputs": [],
   "source": [
    "# test_player = player_select()"
   ]
  },
  {
   "cell_type": "code",
   "execution_count": null,
   "metadata": {},
   "outputs": [],
   "source": []
  },
  {
   "cell_type": "code",
   "execution_count": 11,
   "metadata": {},
   "outputs": [],
   "source": [
    "# print(test_player)"
   ]
  },
  {
   "cell_type": "code",
   "execution_count": 12,
   "metadata": {},
   "outputs": [],
   "source": [
    "# def player_select_2():\n",
    "#     \"\"\"ask the player to make a 4 coloured choice\"\"\"\n",
    "#     player_input_ball = []\n",
    "#     print(\"chose 4 coloured balls and make your best choice, good luck padawan\")\n",
    "#     for i in range[4]:\n",
    "#         player_input_ball[i] = input()\n",
    "#         while player_input_ball not in coloured_balls:\n",
    "#             player_input = input(\"please chose a colour among the 8 coloured balls\")\n",
    "#         player_input_ball.append()\n",
    "#     return \"your first ball choice is \", player_input_ball"
   ]
  },
  {
   "cell_type": "code",
   "execution_count": 13,
   "metadata": {},
   "outputs": [],
   "source": [
    "# player2 = player_select_2()\n",
    "# player2"
   ]
  },
  {
   "cell_type": "code",
   "execution_count": 14,
   "metadata": {},
   "outputs": [],
   "source": [
    "def each_round_check(computer_Mastercode,player_guess):\n",
    "    \"\"\"check whether the player has guessed correctly the Master code\n",
    "    Input : round's player guess\n",
    "    Output : Computer gives feedback whether the player's getting close or not\"\"\"\n",
    "    \n",
    "    empty_string = []       \n",
    "    for i in player_guess:\n",
    "        if i in computer_Mastercode:\n",
    "            empty_string.append(i)\n",
    "    print(f\"The {i} is in the cpu but different location\")\n",
    "    \n",
    "    for i,j in zip(computer_Mastercode,player_guess):\n",
    "        if i == j:\n",
    "            print(\"that ball\",i,\"is in the right place\")\n",
    "\n",
    "        else:\n",
    "            if i not in computer_Mastercode:\n",
    "                print(\"not even close mate ! no\",i,\"in my code\")"
   ]
  },
  {
   "cell_type": "code",
   "execution_count": 15,
   "metadata": {},
   "outputs": [],
   "source": [
    "def finale_result(player_guess,computer_Mastercode):\n",
    "    \"\"\"Check the finale result of the game\n",
    "    Input : each round check whether the player is right OR after 10 rounds, the game ends\n",
    "    Output : gives the name of the winner - the Codebreaker OR the Mastercode.\n",
    "    There is no middle ground\"\"\"\n",
    "    \n",
    "    if player_guess == computer_Mastercode:\n",
    "        print(\"congrats, you have broken the code, you're a Grand Master\")\n",
    "    else:\n",
    "        print(\"I knew you did not have what it takes to break the Mastercode. Try again, my very young padawan\")"
   ]
  },
  {
   "cell_type": "code",
   "execution_count": 16,
   "metadata": {},
   "outputs": [],
   "source": [
    "#the game itself\n",
    "\n",
    "computer_Mastercode = random_cpu()\n",
    "\n",
    "# player_guess = player_select()\n",
    "\n",
    "#while loop / while not 10 rounds"
   ]
  },
  {
   "cell_type": "code",
   "execution_count": 17,
   "metadata": {},
   "outputs": [
    {
     "name": "stdout",
     "output_type": "stream",
     "text": [
      "['white', 'purple', 'black', 'orange']\n"
     ]
    }
   ],
   "source": [
    "print(computer_Mastercode)"
   ]
  },
  {
   "cell_type": "code",
   "execution_count": null,
   "metadata": {},
   "outputs": [
    {
     "name": "stdout",
     "output_type": "stream",
     "text": [
      "choose 4 coloured balls (among green, yellow, white, black, orange,red,purple,blue)    Do or Do not. There is no try.     good luck padawan\n",
      "white\n",
      "orange\n",
      "black\n",
      "purple\n",
      "congrats, you have chosen ['white', 'orange', 'black', 'purple'] a wise choice \n",
      "\n",
      "The purple is in the cpu but different location\n",
      "that ball white is in the right place\n",
      "that ball black is in the right place\n",
      "choose 4 coloured balls (among green, yellow, white, black, orange,red,purple,blue)    Do or Do not. There is no try.     good luck padawan\n"
     ]
    }
   ],
   "source": [
    "#Overall finale results\n",
    "round_number = 0\n",
    "\n",
    "while round_number<rounds_10 :\n",
    "    player_guess = player_select()\n",
    "    each_round_check(computer_Mastercode,player_guess)\n",
    "    round_number +=1\n",
    "    if computer_Mastercode == player_guess:\n",
    "        break    \n",
    "    \n",
    "finale_result(player_guess,computer_Mastercode)"
   ]
  },
  {
   "cell_type": "code",
   "execution_count": null,
   "metadata": {},
   "outputs": [],
   "source": []
  }
 ],
 "metadata": {
  "kernelspec": {
   "display_name": "Python 3",
   "language": "python",
   "name": "python3"
  },
  "language_info": {
   "codemirror_mode": {
    "name": "ipython",
    "version": 3
   },
   "file_extension": ".py",
   "mimetype": "text/x-python",
   "name": "python",
   "nbconvert_exporter": "python",
   "pygments_lexer": "ipython3",
   "version": "3.7.0"
  }
 },
 "nbformat": 4,
 "nbformat_minor": 2
}
