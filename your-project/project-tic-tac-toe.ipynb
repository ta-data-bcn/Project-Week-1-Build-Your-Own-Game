{
 "cells": [
  {
   "cell_type": "markdown",
   "metadata": {},
   "source": [
    "# Tic - Tac - Toe   \n",
    "*[Miguel Granica]*"
   ]
  },
  {
   "cell_type": "markdown",
   "metadata": {},
   "source": [
    "## Project Description\n",
    "\n",
    "#### \tIf you always pay attention and look ahead, you'll never lose a game of Tic-Tac-Toe. You may not win, but at least you'll tie."
   ]
  },
  {
   "cell_type": "markdown",
   "metadata": {},
   "source": [
    "### Rules\n",
    "\n",
    "\t1. The game is played on a grid that's 3 squares by 3 squares.\n",
    "\t2. The player is 1, the CPU is 2. Players take turns putting their marks in empty squares.\n",
    "\t3. The first player to get 3 of her marks in a row (up, down, across, or diagonally) is the winner.\n",
    "\t4. When all 9 squares are full, the game is over. If no player has 3 marks in a row, the game ends in a tie.\n",
    "\n"
   ]
  },
  {
   "cell_type": "markdown",
   "metadata": {},
   "source": [
    "<img src=\"maxresdefault.jpg\">"
   ]
  },
  {
   "cell_type": "markdown",
   "metadata": {},
   "source": [
    "## Strategie\n",
    "\n",
    "    -Part of your strategy is trying to figure out how to get three 1s in a row.\n",
    "    -After you put a 1 in a square. You have to decide where's the best place for your next 1? \n",
    "    -You look at the empty squares and decide which ones are good choices—which ones might let you make three 1s in a row.\n",
    "    \n",
    "    \n",
    "    -The other part is trying to figure out how to stop the computer from getting three 2s in a row.\n",
    "    -You also have to watch where the computer puts its 2. That could change what you do next. \n",
    "    -If the computer gets two 2s in a row, you have to put your next 1 in the last empty square in that row, \n",
    "     or the computer will win. You are forced to play in a particular square or lose the game.\n"
   ]
  },
  {
   "cell_type": "markdown",
   "metadata": {},
   "source": [
    "## Workflow "
   ]
  },
  {
   "cell_type": "markdown",
   "metadata": {},
   "source": [
    "   ### Preparing the board\n",
    "   \n",
    "       the board variable is a list with 3 nested lists. each one of this lists, contains 3 integers whit the 0 value.\n",
    "      \n",
    "       In porpose of being friendly to the player, the board is surrounded by coordenates, they are expresed in numbers \n",
    "       for the rows and in letters for the columns. the for loop has a counter for each round, and prints it with the element \n",
    "       assigned. the letters are printed, as \"str\" types before the loop.\n",
    "       \n",
    "       the dictionary is a perfect tool to link one key to multiple values. the key becomes the element that the player \n",
    "       will input and the value is a tuple with the coordenates of it or the index position in the list board.   \n",
    "      \n",
    "      \n",
    "       "
   ]
  },
  {
   "cell_type": "code",
   "execution_count": 1,
   "metadata": {},
   "outputs": [],
   "source": [
    "import random\n",
    "board = [[0,0,0],[0,0,0],[0,0,0]]\n",
    "square_dict = {\"1a\": (0, 0), \"1b\": (0, 1), \"1c\": (0, 2), \"2a\": (1, 0), \"2b\": (1, 1),\n",
    "                \"2c\": (1, 2), \"3a\": (2, 0), \"3b\": (2, 1), \"3c\": (2, 2)}\n"
   ]
  },
  {
   "cell_type": "code",
   "execution_count": 2,
   "metadata": {},
   "outputs": [],
   "source": [
    "def board_game(board):\n",
    "    columne = 1\n",
    "    print(\"   a\", \" b\", \" c\")\n",
    "    for row in board:\n",
    "        print(columne, row)\n",
    "        columne += 1\n",
    "    return board"
   ]
  },
  {
   "cell_type": "code",
   "execution_count": 3,
   "metadata": {
    "scrolled": true
   },
   "outputs": [
    {
     "name": "stdout",
     "output_type": "stream",
     "text": [
      "   a  b  c\n",
      "1 [0, 0, 0]\n",
      "2 [0, 0, 0]\n",
      "3 [0, 0, 0]\n"
     ]
    },
    {
     "data": {
      "text/plain": [
       "[[0, 0, 0], [0, 0, 0], [0, 0, 0]]"
      ]
     },
     "execution_count": 3,
     "metadata": {},
     "output_type": "execute_result"
    }
   ],
   "source": [
    "board_game(board)"
   ]
  },
  {
   "cell_type": "markdown",
   "metadata": {},
   "source": [
    "   ### Player's move\n",
    "      -The input function leaves the oportunity to the player to choose a square and starts the game.\n",
    "      \n",
    "      -The while with an if combination, allow the sistem to repit the operation until the input is part of the keys in the\n",
    "       dictionary. \n",
    "      -the tuple in the dictionary is returned by the \n",
    "       player_square_choose variable.\n",
    "      "
   ]
  },
  {
   "cell_type": "code",
   "execution_count": 4,
   "metadata": {},
   "outputs": [],
   "source": [
    "def player_square():\n",
    "    player = True\n",
    "    while player == True:\n",
    "        player_choose = input(\"Please, choose a square:\\n\")\n",
    "        if player_choose.lower() in square_dict.keys():\n",
    "            player == False\n",
    "            player_square_choose = square_dict[player_choose]\n",
    "            print(\"you choose the square \" + player_choose)\n",
    "            print(\"the coordenates of this square are: \\n\" + str(player_square_choose))\n",
    "            return player_square_choose"
   ]
  },
  {
   "cell_type": "code",
   "execution_count": 5,
   "metadata": {},
   "outputs": [
    {
     "name": "stdout",
     "output_type": "stream",
     "text": [
      "Please, choose a square:\n",
      "1a\n",
      "you choose the square 1a\n",
      "the coordenates of this square are: \n",
      "(0, 0)\n"
     ]
    },
    {
     "data": {
      "text/plain": [
       "(0, 0)"
      ]
     },
     "execution_count": 5,
     "metadata": {},
     "output_type": "execute_result"
    }
   ],
   "source": [
    "player_square()"
   ]
  },
  {
   "cell_type": "markdown",
   "metadata": {},
   "source": [
    "   ### CPU's move\n",
    "       -the random.choice function picks a randon value from the list made of the dictionary key's. \n",
    "       -in the same way, the tuple content in the dictionary returns as the value of the function.\n",
    "       -this functions need to be improved whit a play strategie for the CPU:\n",
    "           -if the middle is free pick that square.\n",
    "           -if not choose one of the corners.\n",
    "           -if the player has two squares on a row stop him from completing the line.\n",
    "           -select the potentialy winning spots"
   ]
  },
  {
   "cell_type": "code",
   "execution_count": 6,
   "metadata": {},
   "outputs": [],
   "source": [
    "def cpu_square():\n",
    "    cpu_choose = random.choice(list(square_dict.keys()))\n",
    "    cpu_square_choose = square_dict[cpu_choose]\n",
    "    print(\"the CPU choose the square: \" + cpu_choose)\n",
    "    print(\"the coordenates of this square are: \\n\" + str(cpu_square_choose))\n",
    "    return cpu_square_choose"
   ]
  },
  {
   "cell_type": "code",
   "execution_count": 13,
   "metadata": {},
   "outputs": [
    {
     "ename": "SyntaxError",
     "evalue": "invalid syntax (<ipython-input-13-046700925ce2>, line 1)",
     "output_type": "error",
     "traceback": [
      "\u001b[1;36m  File \u001b[1;32m\"<ipython-input-13-046700925ce2>\"\u001b[1;36m, line \u001b[1;32m1\u001b[0m\n\u001b[1;33m    <img src=\"rotators.jpg\">\u001b[0m\n\u001b[1;37m    ^\u001b[0m\n\u001b[1;31mSyntaxError\u001b[0m\u001b[1;31m:\u001b[0m invalid syntax\n"
     ]
    }
   ],
   "source": [
    "<img src=\"rotators.jpg\">"
   ]
  },
  {
   "cell_type": "markdown",
   "metadata": {},
   "source": [
    "   ### Verifications\n",
    "       -Not active\n",
    "       -crucial to prevent the overlaping from happening.\n",
    "       -whitout reasking to the player his move if the computers make the mistake.\n",
    "       -"
   ]
  },
  {
   "cell_type": "code",
   "execution_count": null,
   "metadata": {},
   "outputs": [],
   "source": [
    "def round_ver(player, cpu):\n",
    "    verif = True\n",
    "    while verif == True:\n",
    "        if player == cpu:\n",
    "            verif == True\n",
    "            player_square()\n",
    "            cpu_square()\n",
    "        else:\n",
    "            verif ==False\n",
    "    return player_square(), cpu_square()\n",
    "\n"
   ]
  },
  {
   "cell_type": "code",
   "execution_count": null,
   "metadata": {},
   "outputs": [],
   "source": [
    "round_ver(player_square(),cpu_square())"
   ]
  },
  {
   "cell_type": "markdown",
   "metadata": {},
   "source": [
    "   ### Update list\n",
    "       -secures the repetition of each round.\n",
    "       -by his own this function is a infinit loop. It's concibe to be use inside the play game function\n",
    "       \n"
   ]
  },
  {
   "cell_type": "code",
   "execution_count": null,
   "metadata": {},
   "outputs": [],
   "source": [
    "board_status = board_game(board)\n",
    "    a, b = player_square()\n",
    "    x, y = cpu_square()\n",
    "    board_status[a][b] = 1\n",
    "    board_status[x][y] = 2\n",
    "    #board_game(board_status)\n",
    "    return board_status\n"
   ]
  },
  {
   "cell_type": "code",
   "execution_count": null,
   "metadata": {},
   "outputs": [],
   "source": [
    "update()"
   ]
  },
  {
   "cell_type": "markdown",
   "metadata": {},
   "source": [
    "\n",
    "    \n",
    "    "
   ]
  },
  {
   "cell_type": "code",
   "execution_count": null,
   "metadata": {},
   "outputs": [],
   "source": [
    "def play_game():\n",
    "\n",
    "    while True:\n",
    "        board_actual = update()\n",
    "        h1 = sum(board_actual[0])\n",
    "        h2 = sum(board_actual[1])\n",
    "        h3 = sum(board_actual[2])\n",
    "        v1 = sum([item[0] for item in board_actual])\n",
    "        v2 = sum([item[1] for item in board_actual])\n",
    "        v3 = sum([item[2] for item in board_actual])\n",
    "        d1 = board_actual[0][0] + board_actual[1][1] + board_actual[2][2]\n",
    "        d2 = board_actual[2][0] + board_actual[1][1] + board_actual[0][2]\n",
    "        \n",
    "        if h1 == 3 and 0 not in board_actual[0]:\n",
    "            print(board_game(board_actual))\n",
    "            print(\"TIC TAC TOE on row 1\\nYou won the game!!\")\n",
    "            break\n",
    "        if h1 == 6 and 0 not in board_actual[0]:\n",
    "            print(board_game(board_actual))\n",
    "            print(\"TIC TAC TOE on row 1\\nYou lost the game!!\")\n",
    "            break\n",
    "        if h2 == 3 and 0 not in board_actual[1]:\n",
    "            print(board_game(board_actual))\n",
    "            print(\"TIC TAC TOE on row 2\\nYou won the game!!\")\n",
    "            break\n",
    "        if h2 == 6 and 0 not in board_actual[1]:\n",
    "            print(board_game(board_actual))\n",
    "            print(\"TIC TAC TOE on row 2\\nYou lost the game!!\")\n",
    "            break\n",
    "        if h3 == 3 and 0 not in board_actual[2]:\n",
    "            print(board_game(board_actual))\n",
    "            print(\"TIC TAC TOE on row 3\\nYou won the game!!\")\n",
    "            break\n",
    "        if h3 == 6 and 0 not in board_actual[2]:\n",
    "            print(board_game(board_actual))\n",
    "            print(\"TIC TAC TOE on row 3\\nYou lost the game!!\")\n",
    "            break\n",
    "        if v1 == 3 and 0 not in [item[0] for item in board_actual]:\n",
    "            print(board_game(board_actual))\n",
    "            print(\"TIC TAC TOE on colomn A\\nYou won the game!!\")\n",
    "            break\n",
    "        if v1 == 6 and 0 not in [item[0] for item in board_actual]:\n",
    "            print(board_game(board_actual))\n",
    "            print(\"TIC TAC TOE on colomn A\\nYou lost the game!!\")\n",
    "            break\n",
    "        if v2 == 3 and 0 not in [item[1] for item in board_actual]:\n",
    "            print(board_game(board_actual))\n",
    "            print(\"TIC TAC TOE on colomn B\\nYou won the game!!\")\n",
    "            break\n",
    "        if v2 == 6 and 0 not in [item[1] for item in board_actual]:\n",
    "            print(board_game(board_actual))\n",
    "            print(\"TIC TAC TOE on colomn B\\nYou lost the game!!\")\n",
    "            break\n",
    "        if v3 == 3 and 0 not in [item[2] for item in board_actual]:\n",
    "            print(board_game(board_actual))\n",
    "            print(\"TIC TAC TOE on colomn C\\nYou won the game!!\")\n",
    "            break\n",
    "        if v3 == 6 and 0 not in [item[2] for item in board_actual]:\n",
    "            print(board_game(board_actual))\n",
    "            print(\"TIC TAC TOE on colomn C\\nYou lost the game!!\")\n",
    "            break\n",
    "        if d1 == 3 and board_actual[0][0] != 0 and board_actual[1][1] != 0 and board_actual[2][2] != 0:\n",
    "            print(board_game(board_actual))\n",
    "            print(\"TIC TAC TOE on the left diagonal\\nYou won the game!!\")\n",
    "            break\n",
    "        if d1 == 6 and board_actual[0][0] != 0 and board_actual[1][1] != 0 and board_actual[2][2] != 0:\n",
    "            print(board_game(board_actual))\n",
    "            print(\"TIC TAC TOE on the left diagonal\\nYou lost the game!!\")\n",
    "            break\n",
    "        if d2 == 3 and board_actual[0][2] != 0 and board_actual[1][1] != 0 and board_actual[2][0] != 0:\n",
    "            print(board_game(board_actual))\n",
    "            print(\"TIC TAC TOE on the left diagonal\\nYou won the game!!\")\n",
    "            break\n",
    "        if d2 == 6 and board_actual[0][2] != 0 and board_actual[1][1] != 0 and board_actual[2][0] != 0:\n",
    "            print(board_game(board_actual))\n",
    "            print(\"TIC TAC TOE on the left diagonal\\nYou lost the game!!\")\n",
    "            break"
   ]
  },
  {
   "cell_type": "code",
   "execution_count": null,
   "metadata": {},
   "outputs": [],
   "source": [
    "play_game()"
   ]
  },
  {
   "cell_type": "code",
   "execution_count": null,
   "metadata": {},
   "outputs": [],
   "source": []
  },
  {
   "cell_type": "code",
   "execution_count": null,
   "metadata": {},
   "outputs": [],
   "source": []
  },
  {
   "cell_type": "markdown",
   "metadata": {},
   "source": [
    "while not winner or rounds != 9:\n",
    "    player = preguntar usuario\n",
    "    cpu = random cpu\n",
    "    asignar usuario\n",
    "    asignar cpu\n",
    "    comprobar ganador"
   ]
  },
  {
   "cell_type": "code",
   "execution_count": null,
   "metadata": {},
   "outputs": [],
   "source": []
  },
  {
   "cell_type": "code",
   "execution_count": null,
   "metadata": {},
   "outputs": [],
   "source": []
  }
 ],
 "metadata": {
  "kernelspec": {
   "display_name": "Python 3",
   "language": "python",
   "name": "python3"
  },
  "language_info": {
   "codemirror_mode": {
    "name": "ipython",
    "version": 3
   },
   "file_extension": ".py",
   "mimetype": "text/x-python",
   "name": "python",
   "nbconvert_exporter": "python",
   "pygments_lexer": "ipython3",
   "version": "3.7.4"
  }
 },
 "nbformat": 4,
 "nbformat_minor": 2
}
