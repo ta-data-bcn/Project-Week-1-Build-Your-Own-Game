{
 "cells": [
  {
   "cell_type": "markdown",
   "metadata": {},
   "source": [
    "# Black Jack - Project Week 1"
   ]
  },
  {
   "cell_type": "markdown",
   "metadata": {},
   "source": [
    "## Version 4"
   ]
  },
  {
   "cell_type": "markdown",
   "metadata": {},
   "source": [
    "#### Define the Deck and the Key Variables"
   ]
  },
  {
   "cell_type": "code",
   "execution_count": 8,
   "metadata": {},
   "outputs": [
    {
     "name": "stdout",
     "output_type": "stream",
     "text": [
      "['8', '9', '5', '3', 'J', 'J', '7', 'A', 'Q', '6', '4', '9', 'K', '10', '2', 'K', '7', '2', '5', 'Q', '3', '6', '2', 'Q', 'A', 'Q', '7', '10', 'K', '2', 'K', 'J', '4', 'A', '5', '10', '8', '8', '5', '8', '4', '3', '9', '7', '10', '4', 'A', '6', '9', '3', 'J', '6']\n",
      "['K', '3']\n",
      "['A', 'J']\n",
      "13\n",
      "11\n"
     ]
    }
   ],
   "source": [
    "# Define Deck\n",
    "\n",
    "import random\n",
    "deck = list((\"2\", \"3\", \"4\", \"5\", \"6\", \"7\", \"8\", \"9\", \"10\", \"J\" , \"Q\", \"K\", \"A\")*4)\n",
    "random.shuffle(deck)\n",
    "print(deck)\n",
    "cards = {'2':2, '3':3, '4':4, '5':5, '6':6, '7':7, '8':8, '9':9, '10':10, 'J':10, 'Q':10, 'K':10, 'A':1}\n",
    "\n",
    "# Dealing the cards\n",
    "# Initial player cards\n",
    "\n",
    "player = random.sample(deck,2)\n",
    "for i in player:\n",
    "    deck.remove(i)\n",
    "    \n",
    "# Initial dealer cards\n",
    "dealer = random.sample(deck,2)\n",
    "for i in dealer:\n",
    "    deck.remove(i)\n",
    "\n",
    "print(player)\n",
    "print(dealer)\n",
    "player_sum = sum(map(cards.get, player))\n",
    "dealer_sum = sum(map(cards.get, dealer))\n",
    "print(player_sum)\n",
    "print(dealer_sum)"
   ]
  },
  {
   "cell_type": "markdown",
   "metadata": {},
   "source": [
    "#### Create the Game"
   ]
  },
  {
   "cell_type": "code",
   "execution_count": null,
   "metadata": {},
   "outputs": [],
   "source": [
    "# Choice of the Player\n",
    "\n",
    "want_to_play = input(\"Would you like to play a round of Black Jack?.\")\n",
    "\n",
    "# Game as a function: defines the players coices, the hands and the outcomes\n",
    "\n",
    "def game():\n",
    "    global player\n",
    "    global dealer\n",
    "    global player_sum\n",
    "    global dealer_sum\n",
    "    while player_sum < 21:\n",
    "        player_choice = input(\"Would you like to stay or hit? \")\n",
    "        if player_choice in [\"hit\" , \"Hit\", \"HIT\", \"h\", \"H\"]:\n",
    "            random_card_p = random.sample(deck,1)[0]\n",
    "            player.append(random_card_p)\n",
    "            deck.remove(random_card_p)\n",
    "            player_sum = sum(map(cards.get, player))\n",
    "            if dealer_sum < 17:\n",
    "                random_card_d = random.sample(deck,1)[0]\n",
    "                dealer.append(random_card_d)\n",
    "                deck.remove(random_card_d)\n",
    "                dealer_sum = sum(map(cards.get, dealer))\n",
    "            print(\"You have \" , player, \"summing up to \" , player_sum)\n",
    "        else:\n",
    "            player_result = 21 - player_sum\n",
    "            dealer_result = 21 - dealer_sum\n",
    "            if player_result < dealer_result:\n",
    "                print(\"Huuurraayy! You win! You have \" , player, player_sum)\n",
    "                print(\"The dealer only had \", dealer, dealer_sum)\n",
    "                break\n",
    "            if player_result > dealer_result:\n",
    "                print(\"Uh ohh... you lose. You have \" , player, \"summing up to \" ,player_sum)\n",
    "                print(\"The dealer has \", dealer, \"summing up to \" , dealer_sum)\n",
    "                break\n",
    "            if player_result == dealer_result:\n",
    "                print(\"Oh - it's a tie!\")\n",
    "                break\n",
    "    if player_sum == 21:\n",
    "        print(\"Huurray you have BLACK JACK! You win!\")\n",
    "    if dealer_sum == 21:\n",
    "        print(\"Uhh ohh. You lose! The dealer had 21. hehehe\")\n",
    "    if player_sum > 21:\n",
    "        print(\"Uhh ohh. You lose! You have more than 21. hehehe\")\n",
    "    if dealer_sum > 21:\n",
    "        print(\"You win! The dealer has more than 21\")\n",
    "\n",
    "        \n",
    "# While loop keeping the Game going        \n",
    "        \n",
    "while True:\n",
    "    if want_to_play in [\"y\", \"Y\", \"Yes\", \"yes\", \"YES\", \"YEAH\", \"yeah\", \"yeah!\", \"YEAH!\", \"alright\", \"Ok\", \"ok\"]:\n",
    "        print(\"You have \" , player)\n",
    "        game()\n",
    "        break\n",
    "    else:\n",
    "        print(\"Ok, byebye!\")\n",
    "        break"
   ]
  },
  {
   "cell_type": "code",
   "execution_count": null,
   "metadata": {},
   "outputs": [],
   "source": []
  }
 ],
 "metadata": {
  "kernelspec": {
   "display_name": "Python 3",
   "language": "python",
   "name": "python3"
  },
  "language_info": {
   "codemirror_mode": {
    "name": "ipython",
    "version": 3
   },
   "file_extension": ".py",
   "mimetype": "text/x-python",
   "name": "python",
   "nbconvert_exporter": "python",
   "pygments_lexer": "ipython3",
   "version": "3.7.6"
  }
 },
 "nbformat": 4,
 "nbformat_minor": 2
}
