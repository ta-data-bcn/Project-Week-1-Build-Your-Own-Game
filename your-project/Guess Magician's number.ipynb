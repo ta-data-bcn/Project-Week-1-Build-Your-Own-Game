{
 "cells": [
  {
   "cell_type": "markdown",
   "metadata": {},
   "source": [
    "# GUESS THE MAGICIAN'S NUMBER"
   ]
  },
  {
   "cell_type": "markdown",
   "metadata": {},
   "source": [
    "### A magician has come to Ironhack and want to challenge people if they are luckily enough to guess the number he takes out of his hat. Do you think you will guess it correctly?\n",
    "\n",
    "### Give it a try!"
   ]
  },
  {
   "cell_type": "code",
   "execution_count": null,
   "metadata": {},
   "outputs": [],
   "source": [
    "import random\n",
    "import time"
   ]
  },
  {
   "cell_type": "code",
   "execution_count": null,
   "metadata": {},
   "outputs": [],
   "source": [
    "player_name = input(\"Let's play GUESS THE NUMBER GAME, enter your name: \")\n",
    "print(\"Nice to meet you\",player_name,\"!\" )\n",
    "time.sleep(3)\n",
    "print(\"I'll take a number out of the hat between 1 and 30\")\n",
    "time.sleep(4)\n",
    "print(\"↓↓ If you guess it correctly ↓↓\") \n",
    "time.sleep(2)\n",
    "print (\"\")\n",
    "print (\"        Y O U  W I N !!!\")\n",
    "time.sleep(2) \n",
    "print (\"\")\n",
    "print(\"↓↓ If you fail to guess 5 times ↓↓\") \n",
    "time.sleep(2) \n",
    "print (\"\")\n",
    "print (\"        Y O U  L O S E ;( !!!\")\n",
    "print (\"\")\n",
    "time.sleep(2)\n",
    "print(\">>>>> YOU HAVE 5 ATTEMPTS to guess ✅ <<<<< \")\n",
    "time.sleep(3)\n",
    "print (\"\")\n",
    "print(\"    Easy peasy, so let's get started! 🧙‍♂️\")\n",
    "time.sleep(4)"
   ]
  },
  {
   "cell_type": "code",
   "execution_count": null,
   "metadata": {},
   "outputs": [],
   "source": [
    "magician_choice = random.randint(1,30)"
   ]
  },
  {
   "cell_type": "code",
   "execution_count": null,
   "metadata": {},
   "outputs": [],
   "source": [
    "player_choice = int(input(\"Guess the number between 1 and 30: \"))\n",
    "time.sleep(2)\n",
    "\n",
    "rounds_played = 1\n",
    "\n",
    "while player_choice != magician_choice and rounds_played < 5:\n",
    "    if player_choice < magician_choice:\n",
    "        print (\"You have to choose a higher number, try again!\")\n",
    "    else:\n",
    "        print (\"You have to choose a lower number, try again!\")\n",
    "    \n",
    "    player_choice = int(input(\"Incorrect!, try again: \"))\n",
    "    time.sleep(2)\n",
    "    rounds_played +=1\n",
    "    \n",
    "\n",
    "if player_choice == magician_choice and rounds_played <= 5:\n",
    "    time.sleep(2)\n",
    "    print(\"\")\n",
    "    print (\"You win!!! CONGRATS 🏆🎉🎉 the correct number was\", magician_choice)\n",
    "    \n",
    "\n",
    "while player_choice != magician_choice and rounds_played >= 5:\n",
    "    print (\"You run out of attempts 😭 >>> YOU LOST! The correct number was: \", magician_choice)\n",
    "    print(\"\")\n",
    "    print(\"Game is finished, thank you for playing! 😃\")\n",
    "    time.sleep(2)\n",
    "    break\n",
    "    "
   ]
  },
  {
   "cell_type": "code",
   "execution_count": null,
   "metadata": {},
   "outputs": [],
   "source": []
  }
 ],
 "metadata": {
  "kernelspec": {
   "display_name": "Python 3",
   "language": "python",
   "name": "python3"
  },
  "language_info": {
   "codemirror_mode": {
    "name": "ipython",
    "version": 3
   },
   "file_extension": ".py",
   "mimetype": "text/x-python",
   "name": "python",
   "nbconvert_exporter": "python",
   "pygments_lexer": "ipython3",
   "version": "3.8.5"
  }
 },
 "nbformat": 4,
 "nbformat_minor": 4
}
