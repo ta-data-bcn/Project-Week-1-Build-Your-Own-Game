{
 "cells": [
  {
   "cell_type": "markdown",
   "metadata": {},
   "source": [
    "Creating a Random Password Generator"
   ]
  },
  {
   "cell_type": "markdown",
   "metadata": {},
   "source": [
    "First, import all relevant modules"
   ]
  },
  {
   "cell_type": "code",
   "execution_count": 1,
   "metadata": {},
   "outputs": [],
   "source": [
    "import random\n",
    "import string\n",
    "import re\n",
    "import time"
   ]
  },
  {
   "cell_type": "markdown",
   "metadata": {},
   "source": [
    "Define a function that generates a random string"
   ]
  },
  {
   "cell_type": "code",
   "execution_count": 2,
   "metadata": {},
   "outputs": [],
   "source": [
    "def get_the_password ():\n",
    "    \"\"\"\n",
    "    This function generates a random string with letters, digits and punctuation marks\n",
    "    ouputs: a random string with 16 characters\n",
    "    \"\"\"\n",
    "    \n",
    "    p1 = string.ascii_letters + string.digits + string.punctuation # I created a variable that stores a string with uppercase, lowercase, numbers and special characters\n",
    "    password1 = [random.choice(p1) for i in range(16)] # I created a list that produces 16 random values with the characteristics of the variable I defined before\n",
    "    pass2=''.join(password1) # random.choice provided 16 separate strings, but I need them all together for the password, so I joined them\n",
    "    return pass2\n",
    "\n"
   ]
  },
  {
   "cell_type": "markdown",
   "metadata": {},
   "source": [
    "Define another function that interacts with the user and calls the previous function in order to provide the user with her random password."
   ]
  },
  {
   "cell_type": "code",
   "execution_count": 3,
   "metadata": {},
   "outputs": [],
   "source": [
    "def random_password ():\n",
    "    \"\"\"\n",
    "    This function interacts with the user. Asks her if she wants a random password\n",
    "    and prints the password on the screen.\n",
    "    ouputs: a random string with 16 characters\n",
    "    \"\"\"\n",
    "    print (\"Welcome to the best random password generator ever!\")\n",
    "    time.sleep(1)\n",
    "    x = input(\"Press Enter to get your safe password!\")\n",
    "    while x!=\"\":\n",
    "        x = input(\"Please press Enter to get your safe password. Make sure nobody is around!\") # I want the user to only get the password once they are ready\n",
    "    print(get_the_password()) ## I needed the print because if not the values in pass2 didnt print. It was just running inside random_password function\n",
    "          "
   ]
  },
  {
   "cell_type": "markdown",
   "metadata": {},
   "source": [
    "Now define another function that asks the user if she is happy with the password and in case she is not provide another one.\n"
   ]
  },
  {
   "cell_type": "code",
   "execution_count": 4,
   "metadata": {},
   "outputs": [],
   "source": [
    "def user_check_2():\n",
    "    z=input(\"Are you happy with your password now? Please press y/n\")\n",
    "    if z!=\"n\":\n",
    "        print(\"Great! Do not share your password with anyone!\") # I want the user to only get the password once they are ready\n",
    "    else:\n",
    "        t=input(\"Sorry to hear that. Would you like to get a password that is weaker but easier to remember? Please press y/n\")\n",
    "        if t!=\"n\":\n",
    "            print(\"Ok, here we go!\") # It announces it will start all over again\n",
    "            return False\n",
    "        else:\n",
    "            print(\"Ok, bye!\")\n",
    "    return True"
   ]
  },
  {
   "cell_type": "markdown",
   "metadata": {},
   "source": [
    "Define one more function that checks again and offers the user to create a password that is notcompletely random and instead takes input from them. This will make the password weaker but \n",
    "easier to remember. Explain that to the user."
   ]
  },
  {
   "cell_type": "code",
   "execution_count": 5,
   "metadata": {},
   "outputs": [],
   "source": [
    "\n",
    "def user_friendly_pass():\n",
    "    \n",
    "    \"\"\"\n",
    "    This function offers the user to create a password that is not \n",
    "    completely random and instead takes input from them\n",
    "    input: one phrase, 3 digits, 1 special character\n",
    "    ouputs: a random string with 16 characters\n",
    "    \"\"\"\n",
    "    phrase=input(\"Please enter a complete sentence.(Suggestion: use at least 10 words to make your password safer\")\n",
    "    phrase_into_string=\"\".join([i[0] for i in phrase.split(\" \")])\n",
    "    #phrase_into_letters= re.findall(\"[ ^\\b]([A-Za-z])\",phrase) (this doesnt work)\n",
    "    digit1=input(\"Now, please enter a number: \")\n",
    "    digit2=input(\"Now, please enter another number: \")\n",
    "    digit3=input(\"Now, please enter another number: \")\n",
    "    punct1=input(\"Now, please enter a special character (#$.,:;!): \")\n",
    "    easy_pass=phrase_into_string+punct1+digit3+digit2+digit1\n",
    "    print(\"Your new password is: \"+ easy_pass)\n",
    "\n"
   ]
  },
  {
   "cell_type": "markdown",
   "metadata": {},
   "source": [
    "Call the 3 functions defined previously"
   ]
  },
  {
   "cell_type": "code",
   "execution_count": 6,
   "metadata": {},
   "outputs": [
    {
     "name": "stdout",
     "output_type": "stream",
     "text": [
      "Welcome to the best random password generator ever!\n",
      "Press Enter to get your safe password!\n",
      "2%vrPX+B(%:[0q|H\n",
      "Are you happy with your password now? Please press y/nn\n",
      "Sorry to hear that. Would you like to get a password that is weaker but easier to remember? Please press y/ny\n",
      "Ok, here we go!\n",
      "Please enter a complete sentence.(Suggestion: use at least 10 words to make your password saferg\n",
      "Now, please enter a number: g\n",
      "Now, please enter another number: g\n",
      "Now, please enter another number: g\n",
      "Now, please enter a special character (#$.,:;!): g\n",
      "Your new password is: ggggg\n"
     ]
    }
   ],
   "source": [
    "random_password()\n",
    "happy = user_check_2()\n",
    "if not happy:\n",
    "    user_friendly_pass()\n",
    "else:\n",
    "    print(\"Thank you for trusting the random password generator. Bye!\")"
   ]
  },
  {
   "cell_type": "code",
   "execution_count": 7,
   "metadata": {},
   "outputs": [],
   "source": [
    "## To change\n",
    "\n",
    "# flow of the program. Add menu at the beginning\n",
    "# try except\n"
   ]
  }
 ],
 "metadata": {
  "kernelspec": {
   "display_name": "Python 3",
   "language": "python",
   "name": "python3"
  },
  "language_info": {
   "codemirror_mode": {
    "name": "ipython",
    "version": 3
   },
   "file_extension": ".py",
   "mimetype": "text/x-python",
   "name": "python",
   "nbconvert_exporter": "python",
   "pygments_lexer": "ipython3",
   "version": "3.6.4"
  }
 },
 "nbformat": 4,
 "nbformat_minor": 2
}
