{
 "cells": [
  {
   "cell_type": "code",
   "execution_count": null,
   "metadata": {},
   "outputs": [],
   "source": [
    "import library_funct.user_name.user_name as func1\n",
    "import library_funct.number_teams.teams_num as func2\n",
    "import library_funct.cpu_teams.teams_name as func3\n",
    "import library_funct.letter_choice.letter_choice as func4\n",
    "\n",
    "##defining complet list of players\n",
    "players = []\n",
    "players.append(cpu_teams[])\n",
    "players.append(user_team)"
   ]
  },
  {
   "cell_type": "code",
   "execution_count": null,
   "metadata": {},
   "outputs": [],
   "source": [
    "##defining number of rounds integer\n",
    "ask_rounds = input(\"How many rounds do you want to play from 1 to 10? \")\n",
    "num_rounds = 0\n",
    "\n",
    "while num_rounds == 0:\n",
    "    if ask_rounds.isdigit() or ask_rounds <= 10:\n",
    "        num_rounds += ask_rounds\n",
    "        print(\"The game will have \" + num_rounds + \"!\")\n",
    "    else:\n",
    "        print(ask_rounds)"
   ]
  },
  {
   "cell_type": "code",
   "execution_count": 3,
   "metadata": {},
   "outputs": [
    {
     "name": "stdout",
     "output_type": "stream",
     "text": [
      "How many categories will we use from 1 to 8? 3\n",
      "Let's use  3\n"
     ]
    },
    {
     "ename": "NameError",
     "evalue": "name 'random' is not defined",
     "output_type": "error",
     "traceback": [
      "\u001b[1;31m---------------------------------------------------------------------------\u001b[0m",
      "\u001b[1;31mNameError\u001b[0m                                 Traceback (most recent call last)",
      "\u001b[1;32m<ipython-input-3-fc169d22b57e>\u001b[0m in \u001b[0;36m<module>\u001b[1;34m\u001b[0m\n\u001b[0;32m     14\u001b[0m \u001b[1;33m\u001b[0m\u001b[0m\n\u001b[0;32m     15\u001b[0m \u001b[1;32mwhile\u001b[0m \u001b[0mi\u001b[0m \u001b[1;33m<\u001b[0m \u001b[0mnumcategories\u001b[0m\u001b[1;33m:\u001b[0m\u001b[1;33m\u001b[0m\u001b[1;33m\u001b[0m\u001b[0m\n\u001b[1;32m---> 16\u001b[1;33m     \u001b[0mx\u001b[0m \u001b[1;33m=\u001b[0m \u001b[0mrandom\u001b[0m\u001b[1;33m.\u001b[0m\u001b[0mchoice\u001b[0m\u001b[1;33m(\u001b[0m\u001b[0mcategories\u001b[0m\u001b[1;33m)\u001b[0m\u001b[1;33m\u001b[0m\u001b[1;33m\u001b[0m\u001b[0m\n\u001b[0m\u001b[0;32m     17\u001b[0m     \u001b[0mplaying_categories\u001b[0m\u001b[1;33m.\u001b[0m\u001b[0mappend\u001b[0m\u001b[1;33m(\u001b[0m\u001b[0mx\u001b[0m\u001b[1;33m)\u001b[0m\u001b[1;33m\u001b[0m\u001b[1;33m\u001b[0m\u001b[0m\n\u001b[0;32m     18\u001b[0m     \u001b[0mi\u001b[0m \u001b[1;33m+=\u001b[0m \u001b[1;36m1\u001b[0m\u001b[1;33m\u001b[0m\u001b[1;33m\u001b[0m\u001b[0m\n",
      "\u001b[1;31mNameError\u001b[0m: name 'random' is not defined"
     ]
    }
   ],
   "source": [
    "##defining categories\n",
    "categories = [\"animals\", \"food\", \"countries\", \"names\", \"vehicles\", \"colors\", \"animals\", \"clothes\"]\n",
    "\n",
    "##defining number of categories\n",
    "numcategories = input(\"How many categories will we use from 1 to 8? \")\n",
    "numcategories = int(numcategories)\n",
    "\n",
    "if numcategories <= 8 and numcategories >= 1:\n",
    "    print(\"Let's use \", numcategories)\n",
    "    \n",
    "#defining which categories\n",
    "playing_categories = []\n",
    "i = 0\n",
    "\n",
    "while i < numcategories:\n",
    "    x = random.choice(categories)\n",
    "    playing_categories.append(x)\n",
    "    i += 1"
   ]
  },
  {
   "cell_type": "code",
   "execution_count": null,
   "metadata": {},
   "outputs": [],
   "source": [
    "##define victories counter\n",
    "user_vict = 0\n",
    "cpu_vict = {\"cpu1_vict\": 0, \"cpu2_vict\": 0, \"cpu3_vict\": 0, \"cpu4_vict\": 0, \"cpu5_vict\": 0, \"cpu6_vict\": 0,}"
   ]
  },
  {
   "cell_type": "code",
   "execution_count": null,
   "metadata": {},
   "outputs": [],
   "source": [
    "#defining a list for each category"
   ]
  },
  {
   "cell_type": "code",
   "execution_count": null,
   "metadata": {},
   "outputs": [],
   "source": [
    "categories = [animals, food, countries, names, vehicles, colors, animals, clothes]\n",
    "animals = []   # categories list\n",
    "food = []\n",
    "countries = []\n",
    "names = []\n",
    "vehicles = []\n",
    "colors = []\n",
    "animals = []\n",
    "clothes = []"
   ]
  },
  {
   "cell_type": "code",
   "execution_count": null,
   "metadata": {},
   "outputs": [],
   "source": [
    "#defining game"
   ]
  },
  {
   "cell_type": "code",
   "execution_count": null,
   "metadata": {},
   "outputs": [],
   "source": [
    "player_word = input(\"A word that starts with the letter \" + letter_choice(len(letter_choice)) + \" in \" + )\n",
    "player_words_lst = []\n",
    "cpu_words_lst = {}\n",
    "\n",
    "print(player_word)\n",
    "\n",
    "while len(player_words_lst) < numcategories:\n",
    "                    "
   ]
  },
  {
   "cell_type": "code",
   "execution_count": null,
   "metadata": {},
   "outputs": [],
   "source": []
  }
 ],
 "metadata": {
  "kernelspec": {
   "display_name": "Python 3",
   "language": "python",
   "name": "python3"
  },
  "language_info": {
   "codemirror_mode": {
    "name": "ipython",
    "version": 3
   },
   "file_extension": ".py",
   "mimetype": "text/x-python",
   "name": "python",
   "nbconvert_exporter": "python",
   "pygments_lexer": "ipython3",
   "version": "3.8.3"
  }
 },
 "nbformat": 4,
 "nbformat_minor": 4
}
