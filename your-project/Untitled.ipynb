{
 "cells": [
  {
   "cell_type": "code",
   "execution_count": 1,
   "metadata": {},
   "outputs": [],
   "source": [
    "from library_funct.user_name import user_name as func1 #give users team a name"
   ]
  },
  {
   "cell_type": "code",
   "execution_count": 4,
   "metadata": {},
   "outputs": [
    {
     "name": "stdout",
     "output_type": "stream",
     "text": [
      "What is your teams name? blah\n"
     ]
    },
    {
     "ename": "NameError",
     "evalue": "name 'num_cpu_teams' is not defined",
     "output_type": "error",
     "traceback": [
      "\u001b[1;31m---------------------------------------------------------------------------\u001b[0m",
      "\u001b[1;31mNameError\u001b[0m                                 Traceback (most recent call last)",
      "\u001b[1;32m<ipython-input-4-8a93dc90245a>\u001b[0m in \u001b[0;36m<module>\u001b[1;34m\u001b[0m\n\u001b[0;32m      2\u001b[0m \u001b[0mcpu_teams\u001b[0m \u001b[1;33m=\u001b[0m \u001b[1;33m[\u001b[0m\u001b[1;34m\"cpu1\"\u001b[0m\u001b[1;33m]\u001b[0m\u001b[1;33m\u001b[0m\u001b[1;33m\u001b[0m\u001b[0m\n\u001b[0;32m      3\u001b[0m \u001b[0mplayers\u001b[0m \u001b[1;33m=\u001b[0m \u001b[1;33m[\u001b[0m\u001b[1;33m]\u001b[0m \u001b[1;33m+\u001b[0m \u001b[0mcpu_teams\u001b[0m\u001b[1;33m\u001b[0m\u001b[1;33m\u001b[0m\u001b[0m\n\u001b[1;32m----> 4\u001b[1;33m \u001b[0mfunc1\u001b[0m\u001b[1;33m(\u001b[0m\u001b[1;33m)\u001b[0m\u001b[1;33m\u001b[0m\u001b[1;33m\u001b[0m\u001b[0m\n\u001b[0m\u001b[0;32m      5\u001b[0m \u001b[0mplayers\u001b[0m\u001b[1;33m.\u001b[0m\u001b[0mappend\u001b[0m\u001b[1;33m(\u001b[0m\u001b[0muser_team\u001b[0m\u001b[1;33m)\u001b[0m\u001b[1;33m\u001b[0m\u001b[1;33m\u001b[0m\u001b[0m\n",
      "\u001b[1;32m~\\ironhack\\week 1\\Project-Week-1-Build-Your-Own-Game\\your-project\\library_funct\\user_name.py\u001b[0m in \u001b[0;36muser_name\u001b[1;34m()\u001b[0m\n\u001b[0;32m      2\u001b[0m \u001b[1;32mdef\u001b[0m \u001b[0muser_name\u001b[0m\u001b[1;33m(\u001b[0m\u001b[1;33m)\u001b[0m\u001b[1;33m:\u001b[0m\u001b[1;33m\u001b[0m\u001b[1;33m\u001b[0m\u001b[0m\n\u001b[0;32m      3\u001b[0m     \u001b[0muser_team\u001b[0m \u001b[1;33m=\u001b[0m \u001b[0mstr\u001b[0m\u001b[1;33m(\u001b[0m\u001b[0minput\u001b[0m\u001b[1;33m(\u001b[0m\u001b[1;34m\"What is your teams name? \"\u001b[0m\u001b[1;33m)\u001b[0m\u001b[1;33m)\u001b[0m\u001b[1;33m\u001b[0m\u001b[1;33m\u001b[0m\u001b[0m\n\u001b[1;32m----> 4\u001b[1;33m     \u001b[0mprint\u001b[0m\u001b[1;33m(\u001b[0m\u001b[0muser_team\u001b[0m \u001b[1;33m+\u001b[0m \u001b[1;34m\" it is! Let's play!\"\u001b[0m\u001b[1;33m)\u001b[0m\u001b[1;33m\u001b[0m\u001b[1;33m\u001b[0m\u001b[0m\n\u001b[0m",
      "\u001b[1;31mNameError\u001b[0m: name 'num_cpu_teams' is not defined"
     ]
    }
   ],
   "source": [
    "##defining complet list of players\n",
    "cpu_teams = [\"cpu1\"]\n",
    "players = [] + cpu_teams\n",
    "func1()\n",
    "players.append(user_team)"
   ]
  },
  {
   "cell_type": "code",
   "execution_count": null,
   "metadata": {},
   "outputs": [],
   "source": [
    "##defining number of rounds integer\n",
    "ask_rounds = input(\"How many rounds do you want to play from 1 to 10? \")\n",
    "num_rounds = 0\n",
    "\n",
    "while num_rounds == 0:\n",
    "    print(ask_rounds)\n",
    "    if ask_rounds.isdigit() or ask_rounds <= 10:\n",
    "        num_rounds += ask_rounds\n",
    "        print(\"The game will have \" + num_rounds + \"!\")\n",
    "    else:\n",
    "        print(ask_rounds)"
   ]
  },
  {
   "cell_type": "code",
   "execution_count": null,
   "metadata": {},
   "outputs": [],
   "source": [
    "##define victories counter\n",
    "user_vict = 0\n",
    "cpu_vict = 0"
   ]
  },
  {
   "cell_type": "code",
   "execution_count": null,
   "metadata": {},
   "outputs": [],
   "source": [
    "#defining a list for each category"
   ]
  },
  {
   "cell_type": "code",
   "execution_count": null,
   "metadata": {},
   "outputs": [],
   "source": [
    "##defining categories\n",
    "categories = [animals, food, countries, names, vehicles, colors, moods, clothes]\n",
    "categories[0] = [\"Elephant\",]   # categories list\n",
    "categories[1] = [\"Egg\",]\n",
    "categories[2] = [\"Equador\",]\n",
    "categories[3] = [\"Elena\",]\n",
    "categories[4] = [\"ExpressTrain\",]\n",
    "categories[5] = [\"EarthYellow\",]\n",
    "categories[6] = [\"Energetic\",]\n",
    "categories[7] = [\"Earring\",]\n",
    "\n",
    "print(categories[0])"
   ]
  },
  {
   "cell_type": "code",
   "execution_count": null,
   "metadata": {},
   "outputs": [],
   "source": [
    "##defining alphabet"
   ]
  },
  {
   "cell_type": "code",
   "execution_count": null,
   "metadata": {},
   "outputs": [],
   "source": [
    "##defining game"
   ]
  },
  {
   "cell_type": "code",
   "execution_count": null,
   "metadata": {},
   "outputs": [],
   "source": [
    "player_words_lst = []\n",
    "actual_round = 1\n",
    "computer_choices = []\n",
    "from library_funct.letter_choice import letter_choice as func2\n",
    "\n",
    "\n",
    "while actual_round < num_rounds:\n",
    "    print(func2)\n",
    "    while len(computer_choices) < len(categories):\n",
    "    \n",
    "    ##player words\n",
    "        c = 0\n",
    "        for c in categories:\n",
    "            while c in len(categories):\n",
    "                player_word = input(\"A word that starts with the letter \" + letter_choice[len(letter_choice) - 1] + \n",
    "                                    \" in \" + categories(c))\n",
    "                print(player_word)\n",
    "                if player_word.startswith(letter_choice[len(letter_choice) - 1]):\n",
    "                    player_words_lst.append(player_word_lst)\n",
    "                    c += 1\n",
    "                else:\n",
    "                    print(player_word)\n",
    "    \n",
    "    ##cpu_words\n",
    "        c = 0\n",
    "        for c in categories:\n",
    "            for i in c:\n",
    "                choices = []\n",
    "                if i.startswith(letter_choice[len(letter_choice) - 1]):\n",
    "                    choice.append(i)\n",
    "                    c += 1\n",
    "            computer_choices.append(random.choice(choices))\n",
    "        \n",
    "        actual_round += 1\n",
    "                \n",
    "        ###scores\n",
    "        i = 0\n",
    "        j = i\n",
    "        while i < len(player_words_lst):\n",
    "            for i in player_words_lst:\n",
    "                for j in computer_choices:\n",
    "                    if len(player_words_lst[i]) < len(computer_choices(j)):\n",
    "                        cpu_vict += 1\n",
    "                        i += 1\n",
    "                    elif len(player_words_lst[i]) > len(computer_choices(j)):\n",
    "                        user_vict += 1\n",
    "                        i += 1\n",
    "        \n",
    "        \n",
    "##finish game\n",
    "if user_vict < cpu_vict:\n",
    "    print(\"The CPU is the winner...\")\n",
    "elif user_vict > cpu_vict:\n",
    "    print(user_name + \" is the winner!\")\n"
   ]
  }
 ],
 "metadata": {
  "kernelspec": {
   "display_name": "Python 3",
   "language": "python",
   "name": "python3"
  },
  "language_info": {
   "codemirror_mode": {
    "name": "ipython",
    "version": 3
   },
   "file_extension": ".py",
   "mimetype": "text/x-python",
   "name": "python",
   "nbconvert_exporter": "python",
   "pygments_lexer": "ipython3",
   "version": "3.8.3"
  }
 },
 "nbformat": 4,
 "nbformat_minor": 4
}
