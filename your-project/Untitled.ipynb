{
 "cells": [
  {
   "cell_type": "markdown",
   "metadata": {},
   "source": [
    "<font size=\"8\"><font color = blue>**Mastermind**<color></font>"
   ]
  },
  {
   "cell_type": "markdown",
   "metadata": {},
   "source": [
    "Guess the colour the Mastermind has chosen to win."
   ]
  },
  {
   "cell_type": "code",
   "execution_count": 32,
   "metadata": {},
   "outputs": [],
   "source": [
    "#Mastermind colour scheme:\n",
    "color_scheme = [\"red\", \"orange\", \"green\", \"blue\", \"yellow\", \"white\", \"brown\", \"black\"]"
   ]
  },
  {
   "cell_type": "code",
   "execution_count": 33,
   "metadata": {},
   "outputs": [],
   "source": [
    "import random"
   ]
  },
  {
   "cell_type": "code",
   "execution_count": 34,
   "metadata": {},
   "outputs": [],
   "source": [
    "#Mastermind's choice:\n",
    "ai_choice1 = random.choice(color_scheme)\n",
    "ai_choice2 = random.choice(color_scheme)\n",
    "ai_choice3 = random.choice(color_scheme)\n",
    "ai_choice4 = random.choice(color_scheme)\n",
    "ai_choices = [ai_choice1, ai_choice2, ai_choice3, ai_choice4]"
   ]
  },
  {
   "cell_type": "code",
   "execution_count": 35,
   "metadata": {},
   "outputs": [
    {
     "name": "stdout",
     "output_type": "stream",
     "text": [
      "Enter your color: Green\n",
      "Enter your color: Blue\n",
      "Enter your color: Black\n",
      "Enter your color: Yellow\n"
     ]
    }
   ],
   "source": [
    "#Setting up the player's choice:\n",
    "player_choice1 = input(\"Enter your color: \")\n",
    "player_choice2 = input(\"Enter your color: \")\n",
    "player_choice3 = input(\"Enter your color: \")\n",
    "player_choice4 = input(\"Enter your color: \")\n",
    "player_choices = [player_choice1, player_choice2, player_choice3, player_choice4]"
   ]
  },
  {
   "cell_type": "code",
   "execution_count": 36,
   "metadata": {},
   "outputs": [
    {
     "name": "stdout",
     "output_type": "stream",
     "text": [
      "Wrong color on slot 1\n",
      "Wrong color on slot 2\n",
      "Wrong color on slot 3\n",
      "Wrong color on slot 4\n"
     ]
    }
   ],
   "source": [
    "#Basic set up where we will check if the player choices match with the AI\n",
    "if player_choice1 == ai_choice1:\n",
    "    print(\"Slot 1 was successfully guessed\")\n",
    "elif player_choice1 in ai_choices:\n",
    "    print(\"Close but wrong position for slot 1\")\n",
    "else: print(\"Wrong color on slot 1\")\n",
    "    \n",
    "if player_choice2 == ai_choice2:\n",
    "    print(\"Slot 2 was successfully guessed\")\n",
    "elif player_choice1 in ai_choices:\n",
    "    print(\"Close but wrong position for slot 2\")\n",
    "else: print(\"Wrong color on slot 2\")\n",
    "    \n",
    "if player_choice3 == ai_choice3:\n",
    "    print(\"Slot 3 was successfully guessed\")\n",
    "elif player_choice3 in ai_choices:\n",
    "    print(\"Close but wrong position on slot 3\")\n",
    "else: print(\"Wrong color on slot 3\")\n",
    "    \n",
    "if player_choice4 == ai_choice4:\n",
    "    print(\"Slot 4 was successfully guessed\")\n",
    "elif player_choice3 in ai_choices:\n",
    "    print(\"Close but wrong position for slot 4\")\n",
    "else: print(\"Wrong color on slot 4\")"
   ]
  },
  {
   "cell_type": "code",
   "execution_count": 37,
   "metadata": {},
   "outputs": [
    {
     "name": "stdout",
     "output_type": "stream",
     "text": [
      "['yellow', 'red', 'green', 'white']\n"
     ]
    }
   ],
   "source": [
    "print(ai_choices)"
   ]
  },
  {
   "cell_type": "code",
   "execution_count": null,
   "metadata": {},
   "outputs": [],
   "source": []
  },
  {
   "cell_type": "code",
   "execution_count": null,
   "metadata": {},
   "outputs": [],
   "source": []
  }
 ],
 "metadata": {
  "kernelspec": {
   "display_name": "Python 3",
   "language": "python",
   "name": "python3"
  },
  "language_info": {
   "codemirror_mode": {
    "name": "ipython",
    "version": 3
   },
   "file_extension": ".py",
   "mimetype": "text/x-python",
   "name": "python",
   "nbconvert_exporter": "python",
   "pygments_lexer": "ipython3",
   "version": "3.8.6"
  }
 },
 "nbformat": 4,
 "nbformat_minor": 4
}
