{
 "cells": [
  {
   "cell_type": "markdown",
   "metadata": {},
   "source": [
    "# Black Jack - Project Week 1"
   ]
  },
  {
   "cell_type": "markdown",
   "metadata": {},
   "source": [
    "### NOTE TO SELF: \n",
    "\n",
    "- DEFINE DECK OF CARDS:\n",
    "    - manage to let every card be chosen only 4 times, \n",
    "    - assign values to J, Q, K and A\n",
    "    - assume A can either be 11 or 1\n",
    "\n",
    "- USE FUNCTIONS\n",
    "\n",
    "- ASK FOR INPUT\n",
    "    - name of the player, \n",
    "    - do you want to play\n",
    "    - how many rounds\n",
    "\n",
    "- INSERT ROUND COUNTER\n",
    "    - ask player how many rounds\n",
    "    - count rounds\n",
    "    - count wins and losses\n",
    "    \n",
    "- MONEY ALLOCATED\n",
    "    - ask how much player wants to set\n",
    "    - sum up gains and losses\n",
    "\n",
    "- PRETTIFY\n",
    "    - more error control\n",
    "    - Inlude porbabilities and tell the player what the chances are"
   ]
  },
  {
   "cell_type": "markdown",
   "metadata": {},
   "source": [
    "### Version 1"
   ]
  },
  {
   "cell_type": "markdown",
   "metadata": {},
   "source": [
    "#### Create Variables"
   ]
  },
  {
   "cell_type": "code",
   "execution_count": 4,
   "metadata": {},
   "outputs": [],
   "source": [
    "# Dealer Cards\n",
    "\n",
    "\n",
    "dealer_cards = []\n",
    "\n",
    "# Player Cards\n",
    "\n",
    "player_cards = []\n"
   ]
  },
  {
   "cell_type": "markdown",
   "metadata": {},
   "source": [
    "#### Deal the Cards and Display the Cards"
   ]
  },
  {
   "cell_type": "code",
   "execution_count": 5,
   "metadata": {},
   "outputs": [
    {
     "name": "stdout",
     "output_type": "stream",
     "text": [
      "Dealer has X and :  8\n",
      "You have:  [2, 4]\n"
     ]
    }
   ],
   "source": [
    "\n",
    "import random\n",
    "\n",
    "# Dealing Dealer Cards\n",
    "while len(dealer_cards) != 2:\n",
    "    dealer_cards.append(random.randint(1,11))\n",
    "    if len(dealer_cards) == 2:\n",
    "        print(\"Dealer has X and : \" , dealer_cards[0])\n",
    "    \n",
    "# Dealing Player Cards\n",
    "while len(player_cards) != 2:\n",
    "    player_cards.append(random.randint(1,11))\n",
    "    if len(player_cards) == 2:\n",
    "        print(\"You have: \" , player_cards)\n",
    "\n"
   ]
  },
  {
   "cell_type": "markdown",
   "metadata": {},
   "source": [
    "#### Play the Game"
   ]
  },
  {
   "cell_type": "code",
   "execution_count": 6,
   "metadata": {},
   "outputs": [
    {
     "name": "stdout",
     "output_type": "stream",
     "text": [
      "Do you want to stay or hit? h\n",
      "You now have the total of 12 from these cards  [2, 4, 6]\n",
      "Do you want to stay or hit? h\n",
      "You now have the total of 21 from these cards  [2, 4, 6, 9]\n",
      "You have BLACKJACK! You win!\n"
     ]
    }
   ],
   "source": [
    "# Sum of the Dealer Cards\n",
    "# Sum of the Player Cards\n",
    "# Compare sums\n",
    "\n",
    "if sum(dealer_cards) == 21:\n",
    "    print(\"Dealer has 21 and wins!\")\n",
    "elif sum(dealer_cards) > 21:\n",
    "    print(\"Dealer lost.\")\n",
    "\n",
    "while sum(player_cards) < 21:\n",
    "    action_taken = str(input(\"Do you want to stay or hit? \"))\n",
    "    if action_taken in [\"hit\" , \"Hit\", \"HIT\", \"h\", \"H\"]:\n",
    "        player_cards.append(random.randint(1, 11))\n",
    "        print(\"You now have the total of \" + str(sum(player_cards)) + \" from these cards \", player_cards)\n",
    "    else:\n",
    "        print(\"The dealer has a total of \" + str(sum(dealer_cards)) + \" with \", dealer_cards)\n",
    "        print(\"You have a total of \" + str(sum(player_cards)) + \" with \", player_cards)\n",
    "        if sum(dealer_cards) > sum(player_cards):\n",
    "            print(\"Dealer wins!\")\n",
    "        else:\n",
    "            print(\"You win!\")\n",
    "            break\n",
    "\n",
    "if sum(player_cards) > 21:\n",
    "    print(\"You busted! Dealer wins.\")\n",
    "elif sum(player_cards) == 21:\n",
    "    print(\"You have BLACKJACK! You win!\")\n"
   ]
  }
 ],
 "metadata": {
  "kernelspec": {
   "display_name": "Python 3",
   "language": "python",
   "name": "python3"
  },
  "language_info": {
   "codemirror_mode": {
    "name": "ipython",
    "version": 3
   },
   "file_extension": ".py",
   "mimetype": "text/x-python",
   "name": "python",
   "nbconvert_exporter": "python",
   "pygments_lexer": "ipython3",
   "version": "3.7.6"
  }
 },
 "nbformat": 4,
 "nbformat_minor": 2
}
