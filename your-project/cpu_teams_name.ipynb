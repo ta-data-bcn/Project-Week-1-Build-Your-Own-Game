{
 "cells": [
  {
   "cell_type": "code",
   "execution_count": null,
   "metadata": {},
   "outputs": [],
   "source": [
    "###defining list of names of cpu_teams\n",
    "def cpu_teams():\n",
    "    cpu_possible_teams = [\"cpu1\", \"cpu2\",\"cpu3\",\"cpu4\",\"cpu5\",\"cpu6\"]\n",
    "    cpu_teams = []\n",
    "    i = 0\n",
    "\n",
    "    for i in cpu_possible_teams:\n",
    "        while len(cpu_teams) < num_cpu_teams:\n",
    "            cpu_teams.append(cpu_possible_teams(i))\n",
    "            i += 1\n",
    "    print(\"The teams playing are \" + user_team + \" against \" + cpu_teams)"
   ]
  }
 ],
 "metadata": {
  "kernelspec": {
   "display_name": "Python 3",
   "language": "python",
   "name": "python3"
  },
  "language_info": {
   "codemirror_mode": {
    "name": "ipython",
    "version": 3
   },
   "file_extension": ".py",
   "mimetype": "text/x-python",
   "name": "python",
   "nbconvert_exporter": "python",
   "pygments_lexer": "ipython3",
   "version": "3.8.3"
  }
 },
 "nbformat": 4,
 "nbformat_minor": 4
}
