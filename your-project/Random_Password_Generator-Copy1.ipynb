{
 "cells": [
  {
   "cell_type": "code",
   "execution_count": 1,
   "metadata": {},
   "outputs": [],
   "source": [
    "#Creating the Random Password Generator"
   ]
  },
  {
   "cell_type": "code",
   "execution_count": 2,
   "metadata": {},
   "outputs": [],
   "source": [
    "## Import relevant modules\n",
    "\n",
    "import random\n",
    "import string\n",
    "import re\n",
    "import time"
   ]
  },
  {
   "cell_type": "markdown",
   "metadata": {},
   "source": [
    "# sdfsdfsf\n",
    "\n",
    "## fsdfsdfdf\n",
    "\n",
    "\n",
    "- fsdfs\n",
    "- sdfsdfs\n",
    "- sdfsdf\n",
    "\n",
    "[Google](www.google.com)"
   ]
  },
  {
   "cell_type": "code",
   "execution_count": 3,
   "metadata": {},
   "outputs": [
    {
     "data": {
      "text/plain": [
       "'rs%o0fAPUzhebr+0'"
      ]
     },
     "execution_count": 3,
     "metadata": {},
     "output_type": "execute_result"
    }
   ],
   "source": [
    "def get_the_password ():\n",
    "    \"\"\"\n",
    "    This function generates a random string with letters, digits and punctuation marks\n",
    "    ouputs: a random string with 16 characters\n",
    "    \"\"\"\n",
    "    \n",
    "    p1 = string.ascii_letters + string.digits + string.punctuation # I created a variable that stores a string with uppercase, lowercase, numbers and special characters\n",
    "    password1 = [random.choice(p1) for i in range(16)] # I created a list that produces 16 random values with the characteristics of the variable I defined before\n",
    "    pass2=''.join(password1) # random.choice provided 16 separate strings, but I need them all together for the password, so I joined them\n",
    "    return pass2\n",
    "\n",
    "get_the_password()"
   ]
  },
  {
   "cell_type": "code",
   "execution_count": 4,
   "metadata": {},
   "outputs": [
    {
     "data": {
      "text/plain": [
       "'qpC5OAAs8b-zc]^Y'"
      ]
     },
     "execution_count": 4,
     "metadata": {},
     "output_type": "execute_result"
    }
   ],
   "source": [
    "p1 = string.ascii_letters + string.digits + string.punctuation # I created a variable that stores a string with uppercase, lowercase, numbers and special characters\n",
    "password1 = [random.choice(p1) for i in range(16)] # I created a list that produces 16 random values with the characteristics of the variable I defined before\n",
    "''.join(password1) # random.choice provided 16 separate strings, but I need them all together for the password, so I joined them"
   ]
  },
  {
   "cell_type": "code",
   "execution_count": 8,
   "metadata": {},
   "outputs": [],
   "source": [
    "def get_the_password ():\n",
    "    p1 = string.ascii_letters + string.digits + string.punctuation # I created a variable that stores a string with uppercase, lowercase, numbers and special characters\n",
    "    password1 = [random.choice(p1) for i in range(16)] # I created a list that produces 16 random values with the characteristics of the variable I defined before\n",
    "    pass2=''.join(password1)# random.choice provided 16 separate strings, but I need them all together for the password, so I joined them\n",
    "    return pass2\n",
    "\n",
    "def random_password ():\n",
    "    print (\"Welcome to the best random password generator ever!\")\n",
    "    time.sleep(1)\n",
    "    x = input(\"Press Enter to get your safe password!\")\n",
    "    while x!=\"\":\n",
    "        x = input(\"Please press Enter to get your safe password. Make sure nobody is around!\") # I want the user to only get the password once they are ready\n",
    "    print(get_the_password()) ## I needed the return because if not the values in pass2 didnt print. It was just running inside random_password function\n",
    "          "
   ]
  },
  {
   "cell_type": "code",
   "execution_count": null,
   "metadata": {},
   "outputs": [
    {
     "name": "stdout",
     "output_type": "stream",
     "text": [
      "Welcome to the best random password generator ever!\n",
      "Press Enter to get your safe password!h\n",
      "h\n",
      "Please press Enter to get your safe password. Make sure nobody is around!\n",
      "h\n"
     ]
    }
   ],
   "source": [
    "random_password() ## calling the function just to check\n"
   ]
  },
  {
   "cell_type": "code",
   "execution_count": null,
   "metadata": {},
   "outputs": [],
   "source": [
    "## Now I want to ask the user if he or she is happy with the password and provide another one\n",
    "## I also want to offer an explanation on why it is important to have a strong password\n",
    "\n",
    "def user_check():\n",
    "    z=input(\"Are you happy with your password? Please press y/n\")\n",
    "    if z==\"y\":\n",
    "        print(\"Great! Do not share your password with anyone!\")# I want the user to only get the password once they are ready\n",
    "        return True\n",
    "    else:\n",
    "        t=input(\"Sorry to hear that. Would you like to try a different one? Please press y/n\")\n",
    "        if t!=\"n\":\n",
    "            print(\"Ok, here we go again!\") # It announces it will start all over again\n",
    "            random_password()\n",
    "            return False\n",
    "        else:\n",
    "            print(\"Ok, bye!\")\n",
    "            return True\n"
   ]
  },
  {
   "cell_type": "code",
   "execution_count": null,
   "metadata": {},
   "outputs": [],
   "source": [
    "def user_check_2():\n",
    "    z=input(\"Are you happy with your password now? Please press y/n\")\n",
    "    if z!=\"n\":\n",
    "        print(\"Great! Do not share your password with anyone!\") # I want the user to only get the password once they are ready\n",
    "    else:\n",
    "        t=input(\"Sorry to hear that. Would you like to get a password that is weaker but easier to remember? Please press y/n\")\n",
    "        if t!=\"n\":\n",
    "            print(\"Ok, here we go!\") # It announces it will start all over again\n",
    "            user_friendly_pass()\n",
    "        else:\n",
    "            print(\"Ok, bye!\")"
   ]
  },
  {
   "cell_type": "code",
   "execution_count": null,
   "metadata": {},
   "outputs": [],
   "source": [
    "# user_check() # calling the function just to check"
   ]
  },
  {
   "cell_type": "code",
   "execution_count": null,
   "metadata": {},
   "outputs": [],
   "source": [
    "## I want to create a password from a random phrase that the user enters so the password is easier to remember\n",
    "\n",
    "def user_friendly_pass():\n",
    "    phrase=input(\"Please enter a complete sentence.(Suggestion: use at least 10 words to make your password safer\")\n",
    "    phrase_into_string=\"\".join([i[0] for i in phrase.split(\" \")])\n",
    "    #phrase_into_letters= re.findall(\"[ ^\\b]([A-Za-z])\",phrase) (this doesnt work)\n",
    "    digit1=input(\"Now, please enter a number: \")\n",
    "    digit2=input(\"Now, please enter another number: \")\n",
    "    digit3=input(\"Now, please enter another number: \")\n",
    "    punct1=input(\"Now, please enter a special character (#$.,:;!): \")\n",
    "    easy_pass=phrase_into_string+punct1+digit3+digit2+digit1\n",
    "    print(\"Your new password is: \"+ easy_pass)\n",
    "#user_friendly_pass()"
   ]
  },
  {
   "cell_type": "code",
   "execution_count": null,
   "metadata": {},
   "outputs": [],
   "source": [
    "## I run the random password generator calling the 3 functions I defined before\n",
    "\n",
    "random_password()\n",
    "happy = user_check()\n",
    "if not happy:\n",
    "    user_check_2()"
   ]
  },
  {
   "cell_type": "code",
   "execution_count": null,
   "metadata": {},
   "outputs": [],
   "source": [
    "## Cosas para probar después!\n",
    "\n",
    "def random_password ():\n",
    "    try:\n",
    "        print (\"Welcome to the best random password generator ever!\")\n",
    "        x=(input(\"Press Enter to get your safe password!\"))\n",
    "        if x != '':\n",
    "            raise ValueError\n",
    "    except ValueError:\n",
    "        while x!=\"\":\n",
    "            x = input(\"You didn't press Enter. Please, make sure you press Enter now\") # I want the user to only get the password once they are ready\n",
    "        else:\n",
    "            print(get_the_password()) ## I needed the return because if not the values in pass2 didnt print. It was just running inside random_password function\n",
    "        "
   ]
  }
 ],
 "metadata": {
  "kernelspec": {
   "display_name": "Python 3",
   "language": "python",
   "name": "python3"
  },
  "language_info": {
   "codemirror_mode": {
    "name": "ipython",
    "version": 3
   },
   "file_extension": ".py",
   "mimetype": "text/x-python",
   "name": "python",
   "nbconvert_exporter": "python",
   "pygments_lexer": "ipython3",
   "version": "3.6.4"
  }
 },
 "nbformat": 4,
 "nbformat_minor": 2
}
