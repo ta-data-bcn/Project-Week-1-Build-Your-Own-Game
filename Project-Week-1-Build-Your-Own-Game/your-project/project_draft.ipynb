{
 "cells": [
  {
   "cell_type": "code",
   "execution_count": 1,
   "metadata": {},
   "outputs": [],
   "source": [
    "import string"
   ]
  },
  {
   "cell_type": "code",
   "execution_count": 3,
   "metadata": {},
   "outputs": [
    {
     "name": "stdout",
     "output_type": "stream",
     "text": [
      "Write down a message to encrypt or decrypt: \n",
      "Pyvuohjrg!$g\"9\n",
      "Select the number of jumps you wish to apply: \n",
      "-7\n",
      "Encrypting <Pyvuohjrg!$g\"9> with <-7> jumps.\n",
      "Resulting message: \n",
      "Ironhack 36 42\n"
     ]
    }
   ],
   "source": [
    "#Final version with number of steps defined by user\n",
    "\n",
    "characters = [letter for letter in string.ascii_letters+string.digits+string.punctuation+' ']\n",
    "#Not using string.printable because of useless whitespace elements and digits equal to their positions in index\n",
    "\n",
    "message = input('Write down a message to encrypt or decrypt: \\n')\n",
    "\n",
    "ch_indexed = []\n",
    "for i in message:\n",
    "     ch_indexed.append(characters.index(i))\n",
    "#print(f'Message indexed, don´t show in final version: {ch_indexed}')\n",
    "\n",
    "jumps = int(input('Select the number of jumps you wish to apply: \\n'))\n",
    "print(f'Encrypting <{message}> with <{jumps}> jumps.')\n",
    "\n",
    "coded_index = []\n",
    "for i in ch_indexed:\n",
    "    if 0 >= jumps >= -95:\n",
    "        coded_index.append(i+jumps)\n",
    "        #print(f'Encrypting the message <{message}> with <{jumps}> jumps.')\n",
    "    if 0 < jumps <= 94:\n",
    "        lessjumps = jumps-95\n",
    "        coded_index.append(i+lessjumps)\n",
    "        #print(f'Encrypting the message <{message}> with <{jumps}> jumps.')\n",
    "    if 94 < jumps:\n",
    "        modjumps = (jumps%95)-95\n",
    "        coded_index.append(i+modjumps)\n",
    "        #print(f'Encrypting the message <{message}> with <{jumps}> = <{modjumps}> jumps.')\n",
    "    if jumps < -95:\n",
    "        negmodjumps = (-1)*(((-1)*jumps)%95)\n",
    "        coded_index.append(i+negmodjumps)\n",
    "        #print(f'Encrypting the message <{message}> with <{jumps}> = <{negmodjumps}> jumps.')\n",
    "\n",
    "#print(f'This is message indexed: {coded_index}')\n",
    "\n",
    "coded_message_list = []\n",
    "for i in coded_index:\n",
    "    coded_message_list.append(characters[i])\n",
    "\n",
    "coded_message = ''.join(coded_message_list)\n",
    "print(f'Resulting message: \\n{coded_message}')"
   ]
  },
  {
   "cell_type": "code",
   "execution_count": null,
   "metadata": {},
   "outputs": [],
   "source": []
  },
  {
   "cell_type": "code",
   "execution_count": null,
   "metadata": {},
   "outputs": [],
   "source": []
  },
  {
   "cell_type": "code",
   "execution_count": null,
   "metadata": {},
   "outputs": [],
   "source": [
    "#Essay: Number encrypter\n",
    "\n",
    "original_number = int(input(\"Number to hide: \"))\n",
    "\n",
    "def masker():\n",
    "    masked=(original_number+3)**2-10\n",
    "    print(\"May your number in disguise be: \",masked)\n",
    "\n",
    "masker()"
   ]
  },
  {
   "cell_type": "code",
   "execution_count": null,
   "metadata": {},
   "outputs": [],
   "source": [
    "#Essay: Number de-encrypter\n",
    "\n",
    "masked_number = int(input(\"The number you want to unmask is: \"))\n",
    "\n",
    "def unmasker():\n",
    "    unmasked=(masked_number+10)**(1/2)-3\n",
    "    print(\"Your number has been revealed: \",unmasked)\n",
    "\n",
    "unmasker()"
   ]
  },
  {
   "cell_type": "code",
   "execution_count": null,
   "metadata": {},
   "outputs": [],
   "source": []
  },
  {
   "cell_type": "code",
   "execution_count": null,
   "metadata": {},
   "outputs": [],
   "source": [
    "# negmo = (-1)*((-96)%95)\n",
    "# print(negmo)"
   ]
  },
  {
   "cell_type": "code",
   "execution_count": null,
   "metadata": {},
   "outputs": [],
   "source": [
    "# rest=(-96)%95\n",
    "# rest"
   ]
  },
  {
   "cell_type": "code",
   "execution_count": null,
   "metadata": {},
   "outputs": [],
   "source": [
    "# First try to avoid the 'out of range' with big numbers\n",
    "\n",
    "# listw = [0,1,2,3,4,5,6,7]\n",
    "\n",
    "# jumps = int(input('numb: '))\n",
    "\n",
    "# if 8>jumps>-8:\n",
    "#     print(listw[jumps])\n",
    "# if 8<jumps or jumps<-8:\n",
    "#     modjumps = jumps%8\n",
    "#     print(listw[modjumps])\n",
    "\n",
    "#checking length of actual list\n",
    "\n",
    "# characters2 = [letter for letter in string.ascii_letters+string.digits+string.punctuation+' ']\n",
    "# print(len(characters2))\n",
    "# print(characters2[-95])\n",
    "# print(characters2[0])\n",
    "# print(characters2[94])\n",
    "# print(characters2[-1])"
   ]
  },
  {
   "cell_type": "code",
   "execution_count": null,
   "metadata": {},
   "outputs": [],
   "source": [
    "# # First Encrypter, always with three steps (modified)\n",
    "\n",
    "# characters = [letter for letter in string.ascii_letters+string.digits+string.punctuation+' '+'a'+'b'+'c']\n",
    "# #Not using string.printable because of useless whitespace elements and digits equal to their positions in index\n",
    "# #Using an extended list to avoid the 'out of range' error\n",
    "\n",
    "# message = input('Write down your message: ')\n",
    "# print(f'Encrypting the message <{message}> with')\n",
    "\n",
    "# ch_indexed = []\n",
    "# for i in message:\n",
    "#      ch_indexed.append(characters.index(i))\n",
    "# #print(f'Message indexed, don´t show in final version: {ch_indexed}')\n",
    "  \n",
    "    \n",
    "# coded_index = []\n",
    "# for i in ch_indexed:\n",
    "#     coded_index.append(i+jumps)\n",
    "# #print(f'This is message indexed+2: {coded_index}')\n",
    "\n",
    "# coded_message_list = []\n",
    "# for i in coded_index:\n",
    "#     coded_message_list.append(characters[i])\n",
    "\n",
    "# coded_message = ''.join(coded_message_list)\n",
    "# print(f'Coded message: {coded_message}')"
   ]
  },
  {
   "cell_type": "code",
   "execution_count": null,
   "metadata": {},
   "outputs": [],
   "source": [
    "#First de-encrypter, always three steps\n",
    "\n",
    "# characters2 = [letter for letter in string.ascii_letters+string.digits+string.punctuation+' ']\n",
    "\n",
    "# dark_message = input('Write down the misterious message: ')\n",
    "# print(f'Breaking the message <{dark_message}>')\n",
    "\n",
    "# ch_indexed = []\n",
    "# for i in dark_message:\n",
    "#      ch_indexed.append(characters2.index(i))\n",
    "\n",
    "# decoded_index = []\n",
    "# for i in ch_indexed:\n",
    "#     decoded_index.append(i-3)\n",
    "\n",
    "# decoded_message_list = []\n",
    "# for i in decoded_index:\n",
    "#     decoded_message_list.append(characters2[i])\n",
    "\n",
    "# decoded_message = ''.join(decoded_message_list)\n",
    "# print(f'The truth has been revealed: {decoded_message}')"
   ]
  },
  {
   "cell_type": "code",
   "execution_count": null,
   "metadata": {},
   "outputs": [],
   "source": [
    "# First project attempt: Dictionary\n",
    "\n",
    "# numbers = [x for x in range(26)]\n",
    "# characters = ['a','b','c','d','e','f','g','h','i','j','k','l','m','n','o','p','q','r','s','t','u','v','w','x','y','z']\n",
    "# cryptex = {'a':0,'b':1,'c':2,'d':3,'e':4,'f':6,'g':7,'h':8,'i':9,'j':10,'k':11,'l':12,'m':13,'n':14,'o':15,'p':16,'q':17,'r':18,'s':19,'t':20,'u':21,'v':22,'w':23,'x':24,'y':25,'z':26,'1':27,'2':28,'3':29,'4':30,'5':31,'6':32,'7':33,'8':34,'9':35,'0':36,' ':37,'!':38,'?':39}\n",
    "\n",
    "# message = input('Write down your message: ')\n",
    "# print(f'Original message: {message}')\n",
    "\n",
    "# print(message[3])\n",
    "# print(ch_to_num[message[3]])\n",
    "\n",
    "# key_to_value = []\n",
    "# for i in message:\n",
    "#     key_to_value.append(cryptex[i])\n",
    "\n",
    "# print(f'Value in cryptex, don´t show in final version: {key_to_value}')\n",
    "\n",
    "# for i in key_to_value:\n",
    "\n",
    "#print('coded message: ')"
   ]
  }
 ],
 "metadata": {
  "kernelspec": {
   "display_name": "Python 3",
   "language": "python",
   "name": "python3"
  },
  "language_info": {
   "codemirror_mode": {
    "name": "ipython",
    "version": 3
   },
   "file_extension": ".py",
   "mimetype": "text/x-python",
   "name": "python",
   "nbconvert_exporter": "python",
   "pygments_lexer": "ipython3",
   "version": "3.7.4"
  }
 },
 "nbformat": 4,
 "nbformat_minor": 2
}
