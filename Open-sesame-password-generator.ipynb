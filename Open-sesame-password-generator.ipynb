{
 "cells": [
  {
   "cell_type": "markdown",
   "metadata": {},
   "source": [
    "<img src=\"Open_Sesame_logo.jpg\" alt=\"Drawing\" style=\"width: 200px;\"/>\n",
    "\n",
    "# Open Sesame!\n",
    "## The secure password generator for everyone.\n",
    "\n",
    "Staying safe online starts with strong passwords. That is why 'Open Sesame' is here to help you achieve just that!\n",
    "\n",
    "### How to make a good strong password\n",
    "\n",
    "- A strong password has:\n",
    "    - Between 6 to 12 characters.\n",
    "    - At least 1 uppercase letter\n",
    "    - At least 1 lowercase letter\n",
    "    - At least 1 number\n",
    "\n",
    "\n",
    "- A strong password is:\n",
    "    - Not your name\n",
    "    - Not your username\n",
    "    - Not a family member's name\n",
    "    - Not \"password\"\n",
    "    - Not your date of birth\n",
    "\n",
    "Taking the above points in consideration, let us start generating your secure password."
   ]
  },
  {
   "cell_type": "markdown",
   "metadata": {},
   "source": [
    "## Personalise your password"
   ]
  },
  {
   "cell_type": "code",
   "execution_count": 1,
   "metadata": {},
   "outputs": [],
   "source": [
    "import random\n",
    "import string"
   ]
  },
  {
   "cell_type": "code",
   "execution_count": 2,
   "metadata": {},
   "outputs": [],
   "source": [
    "#Function to get uppercase selection\n",
    "def include_uppercase():\n",
    "    \n",
    "    while True:\n",
    "        uppercase_letters = input(\"Do you want an uppercase letter in your password? (Y/N) \")\n",
    "        if uppercase_letters in [\"Yes\", \"yes\", \"Y\", \"y\"]:\n",
    "            uppercase_letters = string.ascii_uppercase\n",
    "            break\n",
    "        elif uppercase_letters in [\"No\", \"no\", \"N\", \"n\"]:\n",
    "            uppercase_letters = random.choice(\"abcdefghijklmnopqrstuvwxyzi1234567890^?!?$%&/()=?`'+#*'~';:_,.-<>|\")\n",
    "            #uppercase_letters = string.ascii_lowercase\n",
    "            #uppercase_letters = \"\"\n",
    "            break\n",
    "        else:\n",
    "            print(\"\\nInvalid selection. Please select 'Y' or 'N'\")\n",
    "    result =  uppercase_letters\n",
    "    return result\n",
    "\n",
    "#include_uppercase()"
   ]
  },
  {
   "cell_type": "code",
   "execution_count": 3,
   "metadata": {},
   "outputs": [],
   "source": [
    "#Function to get lowercase selection\n",
    "def include_lowercase():\n",
    "    while True:\n",
    "        lowercase_letters = input(\"Do you want an lowercase letter in your password? (Y/N) \")\n",
    "        if lowercase_letters in [\"Yes\", \"yes\", \"Y\", \"y\"]:\n",
    "            lowercase_letters = string.ascii_lowercase\n",
    "            break\n",
    "        elif lowercase_letters in [\"No\", \"no\", \"N\", \"n\"]:\n",
    "            lowercase_letters = random.choice(\"1234567890^?!?$%&/()=?`'+#*'~';:_,.-<>|\")\n",
    "            break\n",
    "        else:\n",
    "            print(\"\\nInvalid selection. Please select 'Y' or 'N'\")\n",
    "    result = lowercase_letters\n",
    "    return result\n",
    "\n",
    "#include_lowercase()"
   ]
  },
  {
   "cell_type": "code",
   "execution_count": 4,
   "metadata": {},
   "outputs": [],
   "source": [
    "#Function to get lowercase selection\n",
    "def include_number():\n",
    "    while True:\n",
    "        number = input(\"Do you want a number in your password? (Y/N) \")\n",
    "        if number in [\"Yes\", \"yes\", \"Y\", \"y\"]:\n",
    "            number = (123456789123456789123456789)\n",
    "            break\n",
    "        elif number in [\"No\", \"no\", \"N\", \"n\"]:\n",
    "            number = random.choice(\"^?!?$%&/()=?`'+#*'~';:_,.-<>|\")\n",
    "            break\n",
    "        else:\n",
    "            print(\"\\nInvalid selection. Please select 'Y' or 'N'\")\n",
    "    result = number\n",
    "    return number\n",
    "\n",
    "#include_number()"
   ]
  },
  {
   "cell_type": "markdown",
   "metadata": {},
   "source": [
    "### Please choose your desired password length:\n",
    "- Small = 6 characters\n",
    "- Medium = 8 characters\n",
    "- Long = 12 characters"
   ]
  },
  {
   "cell_type": "markdown",
   "metadata": {},
   "source": [
    "### Please choose if your password includes:\n",
    "- An uppercase letter\n",
    "- A lowercase letter\n",
    "- A number"
   ]
  },
  {
   "cell_type": "code",
   "execution_count": null,
   "metadata": {},
   "outputs": [],
   "source": [
    "final_password = \"\"\n",
    "\n",
    "while True:\n",
    "        \n",
    "        pass_length = input(\"Please enter your password length: \")\n",
    "        pass_length_str = []\n",
    "\n",
    "        #Allow some freedome in selection \n",
    "        if pass_length in [\"Small\", \"small\", \"s\", \"6\"]:\n",
    "            pass_length = 6\n",
    "            pass_length_str = \"Small\"\n",
    "            break\n",
    "        elif pass_length in [\"Medium\", \"medium\", \"m\", \"8\"]:\n",
    "            pass_length = 8\n",
    "            pass_length_str = \"Medium\"\n",
    "            break\n",
    "        elif pass_length in [\"Long\", \"long\", \"l\", \"12\"]:\n",
    "            pass_length = 12\n",
    "            pass_length_str = \"Long\"\n",
    "            break\n",
    "        else:\n",
    "            print(\"\\nInvalid selection. Please make sure your password length is 6, 8, or 12\")\n",
    "            \n",
    "final_password += include_uppercase()\n",
    "final_password += include_lowercase()\n",
    "final_password += str(include_number())\n",
    "final_password =  5 * final_password\n",
    "final_password = ''.join(random.sample(final_password,len(final_password)))\n",
    "print(\"Your generated password is: \", final_password[:pass_length])\n"
   ]
  },
  {
   "cell_type": "markdown",
   "metadata": {},
   "source": [
    "# Thank you for using Open Sesame!\n",
    "<img src=\"Open_Sesame_logo.jpg\" alt=\"Drawing\" style=\"width: 200px;\"/>"
   ]
  }
 ],
 "metadata": {
  "kernelspec": {
   "display_name": "Python 3",
   "language": "python",
   "name": "python3"
  },
  "language_info": {
   "codemirror_mode": {
    "name": "ipython",
    "version": 3
   },
   "file_extension": ".py",
   "mimetype": "text/x-python",
   "name": "python",
   "nbconvert_exporter": "python",
   "pygments_lexer": "ipython3",
   "version": "3.7.5"
  }
 },
 "nbformat": 4,
 "nbformat_minor": 2
}
